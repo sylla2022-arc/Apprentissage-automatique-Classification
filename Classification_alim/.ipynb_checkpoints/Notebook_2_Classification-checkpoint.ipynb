{
 "cells": [
  {
   "cell_type": "markdown",
   "id": "03daec40",
   "metadata": {},
   "source": [
    "## <font color = 'green' id = \"section\" >Notebook 2: Apprentissage automatique, Classification: Sanitaire</font>"
   ]
  },
  {
   "cell_type": "markdown",
   "id": "8c7fc33c",
   "metadata": {},
   "source": [
    "# <font color=\"blue\">Sommaire</font>\n",
    "1. [Importation des librairies](#section_1)    \n",
    "2. [Lecture du Dataset](#section_2) \n",
    "3. [Approche de modélisation](#section_3)     \n",
    "    3.1. [Separation de la variable prédictive des explicatives](#section_3_1)    \n",
    "    3.2. [Separation variables numériques et catégorielles](#section_3_2)   \n",
    "    3.3. [Création du preprocessor](#section_3_3)    \n",
    "    3.4. [Séparation données train et test](#section_3_4) \n",
    "4. [Classification](#section_4)       \n",
    "    4.1 [DymmyClassifier](#section_4_1)   \n",
    "    4.2 [LogisticRegression](#section_4_2)   \n",
    "    4.3 [SGDClassifier](#section_4_2)\n",
    "    \n",
    " "
   ]
  },
  {
   "cell_type": "markdown",
   "id": "2e082814",
   "metadata": {},
   "source": [
    "# <font color ='red' id = 'section_1' > 1.Importation des librairies </font>"
   ]
  },
  {
   "cell_type": "code",
   "execution_count": 1,
   "id": "39273929",
   "metadata": {},
   "outputs": [
    {
     "name": "stdout",
     "output_type": "stream",
     "text": [
      "No Warning Shown\n"
     ]
    }
   ],
   "source": [
    "import warnings\n",
    "warnings.filterwarnings('ignore')\n",
    "warnings.warn('DelftStack')\n",
    "warnings.warn('Do not show this message')\n",
    "print(\"No Warning Shown\")"
   ]
  },
  {
   "cell_type": "code",
   "execution_count": 2,
   "id": "82bfb92a",
   "metadata": {},
   "outputs": [],
   "source": [
    "import pandas as pd\n",
    "import numpy as np\n",
    "import scipy.stats as st\n",
    "import seaborn as sns\n",
    "import matplotlib.pyplot as plt\n",
    "from scipy import stats\n",
    "import ast\n",
    "import scipy as sp\n",
    "import time\n",
    "import pickle\n",
    "from datetime import datetime\n",
    "from get_feat_names import *\n",
    "#-------------------------------------------------------------------\n",
    "from tqdm import tqdm\n",
    "import gc\n",
    "#------------------------------------------------------------------\n",
    "import plotly.graph_objs as go\n",
    "import plotly.express as px\n",
    "from textwrap import wrap\n",
    "#-------------------------------------------------\n",
    "import sklearn\n",
    "from sklearn.model_selection import train_test_split\n",
    "\n",
    "#-------------------------------------------------\n",
    "#from sklearn.pipeline import Pipeline\n",
    "from sklearn.pipeline import make_pipeline\n",
    "\n",
    "from sklearn.preprocessing import OneHotEncoder, StandardScaler, MinMaxScaler\n",
    "from sklearn.compose import ColumnTransformer\n",
    "from sklearn.compose import TransformedTargetRegressor, make_column_transformer\n",
    "#from pycaret.internal.preprocess.target.TransformedTargetClassifier import TransformedTargetClassifier\n",
    "#--------------------------------------------------------\n",
    "from sklearn.dummy import DummyRegressor\n",
    "from sklearn.linear_model import LogisticRegression, SGDClassifier\n",
    "\n",
    "#--------------------------------------------------------\n",
    "from sklearn.ensemble import RandomForestClassifier, GradientBoostingClassifier\n",
    "from sklearn.inspection import permutation_importance\n",
    "#------------------------------------------------\n",
    "from xgboost import XGBClassifier\n",
    "#-----------------------------------------\n",
    "from lightgbm import LGBMClassifier\n",
    "\n",
    "#-----------------------------------------------------------\n",
    "from sklearn.model_selection import GridSearchCV\n",
    "\n",
    "#-----------------------------------------------------\n",
    "from imblearn.pipeline import Pipeline\n",
    "from imblearn.over_sampling import SMOTE\n",
    "from imblearn.under_sampling import RandomUnderSampler\n",
    "\n",
    "#----------------------------------------------\n",
    "from sklearn.dummy import DummyClassifier\n",
    "\n",
    "#-----------------------------------\n",
    "from sklearn.metrics import *"
   ]
  },
  {
   "cell_type": "code",
   "execution_count": 3,
   "id": "03ba9a09",
   "metadata": {},
   "outputs": [],
   "source": [
    "pd.set_option(\"display.max_columns\", 500)\n",
    "pd.set_option(\"display.max_rows\", 500)"
   ]
  },
  {
   "cell_type": "markdown",
   "id": "dbeb2921",
   "metadata": {},
   "source": [
    "# Checklist\n",
    "\n",
    "## Description\n",
    "La publication des résultats des contrôles sanitaires dans le secteur alimentaire (**restaurants, cantines, abattoirs, etc.**) est une attente légitime des citoyens qui participe à l’amélioration de la confiance du consommateur. Prévue par la loi d’Avenir pour l’agriculture, l’alimentation et la forêt, du 13 octobre 2014, cette mesure s’inscrit dans une évolution vers une plus grande transparence de l’action de l’État.\n",
    "\n",
    "\n",
    "**Quels sont secteurs d’activité concernés ?**\n",
    "\n",
    "Il s’agit de rendre public le résultat des contrôles officiels en sécurité sanitaire des aliments réalisés dans tous les établissements de la chaîne alimentaire : **abattoirs, commerces de détail (métiers de bouche, restaurants, supermarchés, marchés, vente à la ferme, etc.), restaurants collectifs et établissements agroalimentaires.**\n",
    "\n",
    "\n",
    "# Objectif\n",
    "\n",
    "Notre objectif majeur dans ce projet en particulier ce notebbok 2 comprend les étapes suivantes: \n",
    " \n",
    "**1.** *Preprocessing*\n",
    "\n",
    "**2.** *Classification*\n",
    "\n",
    "**3.** *Conclusion*\n",
    "\n",
    "\n",
    "# Description des données\n",
    "Lien 1: https://www.data.gouv.fr/fr/pages/thematiques-a-la-une/\n",
    "\n",
    "Lien vers les données: https://www.data.gouv.fr/fr/datasets/resultats-des-controles-officiels-sanitaires-dispositif-dinformation-alimconfiance/\n"
   ]
  },
  {
   "cell_type": "markdown",
   "id": "4aa43bf0",
   "metadata": {},
   "source": [
    "# <font color=\"red\" id=\"section_2\"> 2. Chargement, lecture, apercu et infos des données </font>"
   ]
  },
  {
   "cell_type": "code",
   "execution_count": 4,
   "id": "564f490c",
   "metadata": {},
   "outputs": [],
   "source": [
    "data_model = pd.read_csv(\"Data_model_classi.csv\")"
   ]
  },
  {
   "cell_type": "code",
   "execution_count": 5,
   "id": "2e663a59",
   "metadata": {},
   "outputs": [
    {
     "data": {
      "text/html": [
       "<div>\n",
       "<style scoped>\n",
       "    .dataframe tbody tr th:only-of-type {\n",
       "        vertical-align: middle;\n",
       "    }\n",
       "\n",
       "    .dataframe tbody tr th {\n",
       "        vertical-align: top;\n",
       "    }\n",
       "\n",
       "    .dataframe thead th {\n",
       "        text-align: right;\n",
       "    }\n",
       "</style>\n",
       "<table border=\"1\" class=\"dataframe\">\n",
       "  <thead>\n",
       "    <tr style=\"text-align: right;\">\n",
       "      <th></th>\n",
       "      <th>APP_Libelle_etablissement</th>\n",
       "      <th>Code_postal</th>\n",
       "      <th>Libelle_commune</th>\n",
       "      <th>Synthese_eval_sanit</th>\n",
       "      <th>filtre_activite</th>\n",
       "      <th>Latitude</th>\n",
       "      <th>Longitude</th>\n",
       "      <th>Adress_Rue</th>\n",
       "      <th>Adress_Avenue</th>\n",
       "      <th>Adress_Chemin</th>\n",
       "      <th>Adress_Place</th>\n",
       "      <th>Adress_Boulevard</th>\n",
       "      <th>Adress_Route</th>\n",
       "      <th>Adress_quai</th>\n",
       "    </tr>\n",
       "  </thead>\n",
       "  <tbody>\n",
       "    <tr>\n",
       "      <th>0</th>\n",
       "      <td>DE CERGY NEUVILLE (SYND MIXTE D'ETUDE AMENA GE...</td>\n",
       "      <td>95800</td>\n",
       "      <td>CERGY</td>\n",
       "      <td>Urgent_Améliorer</td>\n",
       "      <td>Autres</td>\n",
       "      <td>45.883682</td>\n",
       "      <td>1.814627</td>\n",
       "      <td>1</td>\n",
       "      <td>0</td>\n",
       "      <td>0</td>\n",
       "      <td>0</td>\n",
       "      <td>0</td>\n",
       "      <td>0</td>\n",
       "      <td>0</td>\n",
       "    </tr>\n",
       "    <tr>\n",
       "      <th>1</th>\n",
       "      <td>CODIPEX (CONSORTIUM EUROPE ECHANG COMMERC INTE...</td>\n",
       "      <td>92160</td>\n",
       "      <td>ANTONY</td>\n",
       "      <td>Très satisfaisant</td>\n",
       "      <td>Autres</td>\n",
       "      <td>48.732041</td>\n",
       "      <td>2.305533</td>\n",
       "      <td>1</td>\n",
       "      <td>1</td>\n",
       "      <td>0</td>\n",
       "      <td>0</td>\n",
       "      <td>0</td>\n",
       "      <td>0</td>\n",
       "      <td>0</td>\n",
       "    </tr>\n",
       "  </tbody>\n",
       "</table>\n",
       "</div>"
      ],
      "text/plain": [
       "                           APP_Libelle_etablissement Code_postal  \\\n",
       "0  DE CERGY NEUVILLE (SYND MIXTE D'ETUDE AMENA GE...       95800   \n",
       "1  CODIPEX (CONSORTIUM EUROPE ECHANG COMMERC INTE...       92160   \n",
       "\n",
       "  Libelle_commune Synthese_eval_sanit filtre_activite   Latitude  Longitude  \\\n",
       "0           CERGY    Urgent_Améliorer          Autres  45.883682   1.814627   \n",
       "1          ANTONY   Très satisfaisant          Autres  48.732041   2.305533   \n",
       "\n",
       "   Adress_Rue  Adress_Avenue  Adress_Chemin  Adress_Place  Adress_Boulevard  \\\n",
       "0           1              0              0             0                 0   \n",
       "1           1              1              0             0                 0   \n",
       "\n",
       "   Adress_Route  Adress_quai  \n",
       "0             0            0  \n",
       "1             0            0  "
      ]
     },
     "metadata": {},
     "output_type": "display_data"
    },
    {
     "data": {
      "text/html": [
       "<div>\n",
       "<style scoped>\n",
       "    .dataframe tbody tr th:only-of-type {\n",
       "        vertical-align: middle;\n",
       "    }\n",
       "\n",
       "    .dataframe tbody tr th {\n",
       "        vertical-align: top;\n",
       "    }\n",
       "\n",
       "    .dataframe thead th {\n",
       "        text-align: right;\n",
       "    }\n",
       "</style>\n",
       "<table border=\"1\" class=\"dataframe\">\n",
       "  <thead>\n",
       "    <tr style=\"text-align: right;\">\n",
       "      <th></th>\n",
       "      <th>APP_Libelle_etablissement</th>\n",
       "      <th>Code_postal</th>\n",
       "      <th>Libelle_commune</th>\n",
       "      <th>Synthese_eval_sanit</th>\n",
       "      <th>filtre_activite</th>\n",
       "      <th>Latitude</th>\n",
       "      <th>Longitude</th>\n",
       "      <th>Adress_Rue</th>\n",
       "      <th>Adress_Avenue</th>\n",
       "      <th>Adress_Chemin</th>\n",
       "      <th>Adress_Place</th>\n",
       "      <th>Adress_Boulevard</th>\n",
       "      <th>Adress_Route</th>\n",
       "      <th>Adress_quai</th>\n",
       "    </tr>\n",
       "  </thead>\n",
       "  <tbody>\n",
       "    <tr>\n",
       "      <th>32259</th>\n",
       "      <td>OGEC SOC ELISABETH DE PLAISANC</td>\n",
       "      <td>75014</td>\n",
       "      <td>Paris 14e  Arrondissement</td>\n",
       "      <td>Satisfaisant</td>\n",
       "      <td>Restauration collective</td>\n",
       "      <td>48.835253</td>\n",
       "      <td>2.316900</td>\n",
       "      <td>1</td>\n",
       "      <td>0</td>\n",
       "      <td>0</td>\n",
       "      <td>0</td>\n",
       "      <td>0</td>\n",
       "      <td>0</td>\n",
       "      <td>0</td>\n",
       "    </tr>\n",
       "    <tr>\n",
       "      <th>32260</th>\n",
       "      <td>CENTRE HOSPITALIER DU FOREZ</td>\n",
       "      <td>42600</td>\n",
       "      <td>Montbrison</td>\n",
       "      <td>Satisfaisant</td>\n",
       "      <td>Restauration collective</td>\n",
       "      <td>45.612674</td>\n",
       "      <td>4.046673</td>\n",
       "      <td>1</td>\n",
       "      <td>1</td>\n",
       "      <td>0</td>\n",
       "      <td>0</td>\n",
       "      <td>0</td>\n",
       "      <td>0</td>\n",
       "      <td>0</td>\n",
       "    </tr>\n",
       "  </tbody>\n",
       "</table>\n",
       "</div>"
      ],
      "text/plain": [
       "            APP_Libelle_etablissement Code_postal            Libelle_commune  \\\n",
       "32259  OGEC SOC ELISABETH DE PLAISANC       75014  Paris 14e  Arrondissement   \n",
       "32260     CENTRE HOSPITALIER DU FOREZ       42600                 Montbrison   \n",
       "\n",
       "      Synthese_eval_sanit          filtre_activite   Latitude  Longitude  \\\n",
       "32259        Satisfaisant  Restauration collective  48.835253   2.316900   \n",
       "32260        Satisfaisant  Restauration collective  45.612674   4.046673   \n",
       "\n",
       "       Adress_Rue  Adress_Avenue  Adress_Chemin  Adress_Place  \\\n",
       "32259           1              0              0             0   \n",
       "32260           1              1              0             0   \n",
       "\n",
       "       Adress_Boulevard  Adress_Route  Adress_quai  \n",
       "32259                 0             0            0  \n",
       "32260                 0             0            0  "
      ]
     },
     "metadata": {},
     "output_type": "display_data"
    }
   ],
   "source": [
    "display(data_model.head(2))\n",
    "display(data_model.tail(2))"
   ]
  },
  {
   "cell_type": "code",
   "execution_count": 6,
   "id": "3d5f00cc",
   "metadata": {},
   "outputs": [
    {
     "name": "stdout",
     "output_type": "stream",
     "text": [
      "<class 'pandas.core.frame.DataFrame'>\n",
      "RangeIndex: 32261 entries, 0 to 32260\n",
      "Data columns (total 14 columns):\n",
      " #   Column                     Non-Null Count  Dtype  \n",
      "---  ------                     --------------  -----  \n",
      " 0   APP_Libelle_etablissement  32261 non-null  object \n",
      " 1   Code_postal                32261 non-null  object \n",
      " 2   Libelle_commune            32261 non-null  object \n",
      " 3   Synthese_eval_sanit        32261 non-null  object \n",
      " 4   filtre_activite            32261 non-null  object \n",
      " 5   Latitude                   32261 non-null  float64\n",
      " 6   Longitude                  32261 non-null  float64\n",
      " 7   Adress_Rue                 32261 non-null  int64  \n",
      " 8   Adress_Avenue              32261 non-null  int64  \n",
      " 9   Adress_Chemin              32261 non-null  int64  \n",
      " 10  Adress_Place               32261 non-null  int64  \n",
      " 11  Adress_Boulevard           32261 non-null  int64  \n",
      " 12  Adress_Route               32261 non-null  int64  \n",
      " 13  Adress_quai                32261 non-null  int64  \n",
      "dtypes: float64(2), int64(7), object(5)\n",
      "memory usage: 3.4+ MB\n"
     ]
    }
   ],
   "source": [
    "data_model.info()"
   ]
  },
  {
   "cell_type": "code",
   "execution_count": 7,
   "id": "6be7799e",
   "metadata": {},
   "outputs": [
    {
     "data": {
      "text/plain": [
       "0"
      ]
     },
     "execution_count": 7,
     "metadata": {},
     "output_type": "execute_result"
    }
   ],
   "source": [
    "data_model.duplicated().sum()"
   ]
  },
  {
   "cell_type": "code",
   "execution_count": 8,
   "id": "e7dd6764",
   "metadata": {},
   "outputs": [
    {
     "data": {
      "text/plain": [
       "(32261, 14)"
      ]
     },
     "execution_count": 8,
     "metadata": {},
     "output_type": "execute_result"
    }
   ],
   "source": [
    "data_model.shape"
   ]
  },
  {
   "cell_type": "markdown",
   "id": "66dc5e14",
   "metadata": {},
   "source": [
    "## Commentaire:\n",
    "Nous allons supprimer les coordonnées géographique, qui n'apporte pas de valeurs dans la claffication."
   ]
  },
  {
   "cell_type": "code",
   "execution_count": 9,
   "id": "f8c29471",
   "metadata": {},
   "outputs": [],
   "source": [
    "data_model.drop(['Latitude', 'Longitude'], axis = 1, inplace = True)"
   ]
  },
  {
   "cell_type": "markdown",
   "id": "12deaef1",
   "metadata": {},
   "source": [
    "# <font color=\"red\" id=\"section_3\" > 3. Approche modélisation"
   ]
  },
  {
   "cell_type": "markdown",
   "id": "6fd767cd",
   "metadata": {},
   "source": [
    "## <font color=\"red\" id=\"section_3_1\" > 3.1  Separation de la variable prédictive des explicatives"
   ]
  },
  {
   "cell_type": "code",
   "execution_count": 10,
   "id": "f1bbc7ee",
   "metadata": {},
   "outputs": [],
   "source": [
    "Y = data_model['Synthese_eval_sanit']\n",
    "X = data_model.drop(['Synthese_eval_sanit'] ,axis =1 )"
   ]
  },
  {
   "cell_type": "code",
   "execution_count": 11,
   "id": "2688a383",
   "metadata": {},
   "outputs": [
    {
     "data": {
      "text/plain": [
       "(32261, 11)"
      ]
     },
     "execution_count": 11,
     "metadata": {},
     "output_type": "execute_result"
    }
   ],
   "source": [
    "X.shape"
   ]
  },
  {
   "cell_type": "markdown",
   "id": "cf9ee640",
   "metadata": {},
   "source": [
    "## <font color=\"red\" id=\"section_3_2\" > 3.2 Separation variables numériques et catégorielles"
   ]
  },
  {
   "cell_type": "code",
   "execution_count": 12,
   "id": "2f2369f6",
   "metadata": {},
   "outputs": [
    {
     "data": {
      "text/plain": [
       "['Adress_Rue',\n",
       " 'Adress_Avenue',\n",
       " 'Adress_Chemin',\n",
       " 'Adress_Place',\n",
       " 'Adress_Boulevard',\n",
       " 'Adress_Route',\n",
       " 'Adress_quai']"
      ]
     },
     "execution_count": 12,
     "metadata": {},
     "output_type": "execute_result"
    }
   ],
   "source": [
    "var_num = X.select_dtypes(include = ['float', 'int']).columns.to_list()\n",
    "var_num"
   ]
  },
  {
   "cell_type": "code",
   "execution_count": 13,
   "id": "8eb7d0d4",
   "metadata": {},
   "outputs": [
    {
     "data": {
      "text/plain": [
       "['APP_Libelle_etablissement',\n",
       " 'Code_postal',\n",
       " 'Libelle_commune',\n",
       " 'filtre_activite']"
      ]
     },
     "execution_count": 13,
     "metadata": {},
     "output_type": "execute_result"
    }
   ],
   "source": [
    "var_cat = X.select_dtypes(include = ['object']).columns.to_list()\n",
    "var_cat"
   ]
  },
  {
   "cell_type": "markdown",
   "id": "7c096f37",
   "metadata": {},
   "source": [
    "## <font color=\"red\" id=\"section_3_3\" > 3.3  Création du preprocessor\n",
    "  \n",
    " Ici, nous allons normaliser les données numérique avec **MinMaxScaler** et encoder les catégorielles avec **OneHotEncoder**, le tout dans une pipeline qu'on pourra appeler à chaque fois."
   ]
  },
  {
   "cell_type": "code",
   "execution_count": 14,
   "id": "01fab4f0",
   "metadata": {},
   "outputs": [],
   "source": [
    "#numerical_pipiline = Pipeline([ ('scaler', MinMaxScaler())])\n",
    "#categoriacal_pipiline = Pipeline([('onehot', OneHotEncoder(handle_unknown = 'ignore'))])\n",
    "#--------------------------------------------------------------------------------------------------------------------\n",
    "\n",
    "preprocessor = ColumnTransformer([\n",
    "                          ( 'num_process', MinMaxScaler(), var_num),\n",
    "                          ('categ_process', OneHotEncoder(handle_unknown = 'ignore'), var_cat),  \n",
    "                        ])"
   ]
  },
  {
   "cell_type": "markdown",
   "id": "3072f95a",
   "metadata": {},
   "source": [
    "## <font color=\"red\" id=\"section_3_4\" > 3.4  Séparation données train et test"
   ]
  },
  {
   "cell_type": "code",
   "execution_count": 15,
   "id": "9d7be715",
   "metadata": {},
   "outputs": [],
   "source": [
    "X_train, X_test, y_train, y_test = train_test_split(X,Y, test_size = 0.2, random_state =5)"
   ]
  },
  {
   "cell_type": "code",
   "execution_count": 16,
   "id": "bc65c79c",
   "metadata": {},
   "outputs": [
    {
     "data": {
      "text/plain": [
       "(6453, 11)"
      ]
     },
     "execution_count": 16,
     "metadata": {},
     "output_type": "execute_result"
    }
   ],
   "source": [
    "X_test.shape"
   ]
  },
  {
   "cell_type": "markdown",
   "id": "f66880a8",
   "metadata": {},
   "source": [
    "## Fonctionnement de SMOTE\n",
    "\n",
    "Tutorial = https://machinelearningmastery.com/smote-oversampling-for-imbalanced-classification/"
   ]
  },
  {
   "cell_type": "markdown",
   "id": "c598bbfa",
   "metadata": {},
   "source": [
    "# <font color=\"red\" id=\"section_4\" > 4.  Classification\n",
    "    \n",
    "Pour chacun de nos modèles:\n",
    "   * **DummyClassifier**,\n",
    "   * **LogisticRegression**, \n",
    "   * **SGDClassifier**, \n",
    "   * **RandomForestClassifier**,\n",
    "   * **XGBClassifier**,\n",
    "   * **LGBMClassifier**, \n",
    "    \n",
    "nous allons classifier les élement selon les niveau de contrôle sanitaire et etablir des matrices de confusion."
   ]
  },
  {
   "cell_type": "markdown",
   "id": "1600de55",
   "metadata": {},
   "source": [
    "## <font color=\"red\" id=\"section_4_1\" > 4.1  Dummy Classifier"
   ]
  },
  {
   "cell_type": "markdown",
   "id": "7a5cf31e",
   "metadata": {},
   "source": [
    "### <font color=\"red\" id=\"section_4_1_1\" > 4.1.1 Entrainement"
   ]
  },
  {
   "cell_type": "code",
   "execution_count": 17,
   "id": "df33cc89",
   "metadata": {},
   "outputs": [
    {
     "data": {
      "text/html": [
       "<style>#sk-container-id-1 {color: black;background-color: white;}#sk-container-id-1 pre{padding: 0;}#sk-container-id-1 div.sk-toggleable {background-color: white;}#sk-container-id-1 label.sk-toggleable__label {cursor: pointer;display: block;width: 100%;margin-bottom: 0;padding: 0.3em;box-sizing: border-box;text-align: center;}#sk-container-id-1 label.sk-toggleable__label-arrow:before {content: \"▸\";float: left;margin-right: 0.25em;color: #696969;}#sk-container-id-1 label.sk-toggleable__label-arrow:hover:before {color: black;}#sk-container-id-1 div.sk-estimator:hover label.sk-toggleable__label-arrow:before {color: black;}#sk-container-id-1 div.sk-toggleable__content {max-height: 0;max-width: 0;overflow: hidden;text-align: left;background-color: #f0f8ff;}#sk-container-id-1 div.sk-toggleable__content pre {margin: 0.2em;color: black;border-radius: 0.25em;background-color: #f0f8ff;}#sk-container-id-1 input.sk-toggleable__control:checked~div.sk-toggleable__content {max-height: 200px;max-width: 100%;overflow: auto;}#sk-container-id-1 input.sk-toggleable__control:checked~label.sk-toggleable__label-arrow:before {content: \"▾\";}#sk-container-id-1 div.sk-estimator input.sk-toggleable__control:checked~label.sk-toggleable__label {background-color: #d4ebff;}#sk-container-id-1 div.sk-label input.sk-toggleable__control:checked~label.sk-toggleable__label {background-color: #d4ebff;}#sk-container-id-1 input.sk-hidden--visually {border: 0;clip: rect(1px 1px 1px 1px);clip: rect(1px, 1px, 1px, 1px);height: 1px;margin: -1px;overflow: hidden;padding: 0;position: absolute;width: 1px;}#sk-container-id-1 div.sk-estimator {font-family: monospace;background-color: #f0f8ff;border: 1px dotted black;border-radius: 0.25em;box-sizing: border-box;margin-bottom: 0.5em;}#sk-container-id-1 div.sk-estimator:hover {background-color: #d4ebff;}#sk-container-id-1 div.sk-parallel-item::after {content: \"\";width: 100%;border-bottom: 1px solid gray;flex-grow: 1;}#sk-container-id-1 div.sk-label:hover label.sk-toggleable__label {background-color: #d4ebff;}#sk-container-id-1 div.sk-serial::before {content: \"\";position: absolute;border-left: 1px solid gray;box-sizing: border-box;top: 0;bottom: 0;left: 50%;z-index: 0;}#sk-container-id-1 div.sk-serial {display: flex;flex-direction: column;align-items: center;background-color: white;padding-right: 0.2em;padding-left: 0.2em;position: relative;}#sk-container-id-1 div.sk-item {position: relative;z-index: 1;}#sk-container-id-1 div.sk-parallel {display: flex;align-items: stretch;justify-content: center;background-color: white;position: relative;}#sk-container-id-1 div.sk-item::before, #sk-container-id-1 div.sk-parallel-item::before {content: \"\";position: absolute;border-left: 1px solid gray;box-sizing: border-box;top: 0;bottom: 0;left: 50%;z-index: -1;}#sk-container-id-1 div.sk-parallel-item {display: flex;flex-direction: column;z-index: 1;position: relative;background-color: white;}#sk-container-id-1 div.sk-parallel-item:first-child::after {align-self: flex-end;width: 50%;}#sk-container-id-1 div.sk-parallel-item:last-child::after {align-self: flex-start;width: 50%;}#sk-container-id-1 div.sk-parallel-item:only-child::after {width: 0;}#sk-container-id-1 div.sk-dashed-wrapped {border: 1px dashed gray;margin: 0 0.4em 0.5em 0.4em;box-sizing: border-box;padding-bottom: 0.4em;background-color: white;}#sk-container-id-1 div.sk-label label {font-family: monospace;font-weight: bold;display: inline-block;line-height: 1.2em;}#sk-container-id-1 div.sk-label-container {text-align: center;}#sk-container-id-1 div.sk-container {/* jupyter's `normalize.less` sets `[hidden] { display: none; }` but bootstrap.min.css set `[hidden] { display: none !important; }` so we also need the `!important` here to be able to override the default hidden behavior on the sphinx rendered scikit-learn.org. See: https://github.com/scikit-learn/scikit-learn/issues/21755 */display: inline-block !important;position: relative;}#sk-container-id-1 div.sk-text-repr-fallback {display: none;}</style><div id=\"sk-container-id-1\" class=\"sk-top-container\"><div class=\"sk-text-repr-fallback\"><pre>Pipeline(steps=[(&#x27;preprocessor&#x27;,\n",
       "                 ColumnTransformer(transformers=[(&#x27;num_process&#x27;, MinMaxScaler(),\n",
       "                                                  [&#x27;Adress_Rue&#x27;,\n",
       "                                                   &#x27;Adress_Avenue&#x27;,\n",
       "                                                   &#x27;Adress_Chemin&#x27;,\n",
       "                                                   &#x27;Adress_Place&#x27;,\n",
       "                                                   &#x27;Adress_Boulevard&#x27;,\n",
       "                                                   &#x27;Adress_Route&#x27;,\n",
       "                                                   &#x27;Adress_quai&#x27;]),\n",
       "                                                 (&#x27;categ_process&#x27;,\n",
       "                                                  OneHotEncoder(handle_unknown=&#x27;ignore&#x27;),\n",
       "                                                  [&#x27;APP_Libelle_etablissement&#x27;,\n",
       "                                                   &#x27;Code_postal&#x27;,\n",
       "                                                   &#x27;Libelle_commune&#x27;,\n",
       "                                                   &#x27;filtre_activite&#x27;])])),\n",
       "                (&#x27;oversampling&#x27;, SMOTE(random_state=5)),\n",
       "                (&#x27;classfier&#x27;, DummyClassifier(random_state=5))])</pre><b>In a Jupyter environment, please rerun this cell to show the HTML representation or trust the notebook. <br />On GitHub, the HTML representation is unable to render, please try loading this page with nbviewer.org.</b></div><div class=\"sk-container\" hidden><div class=\"sk-item sk-dashed-wrapped\"><div class=\"sk-label-container\"><div class=\"sk-label sk-toggleable\"><input class=\"sk-toggleable__control sk-hidden--visually\" id=\"sk-estimator-id-1\" type=\"checkbox\" ><label for=\"sk-estimator-id-1\" class=\"sk-toggleable__label sk-toggleable__label-arrow\">Pipeline</label><div class=\"sk-toggleable__content\"><pre>Pipeline(steps=[(&#x27;preprocessor&#x27;,\n",
       "                 ColumnTransformer(transformers=[(&#x27;num_process&#x27;, MinMaxScaler(),\n",
       "                                                  [&#x27;Adress_Rue&#x27;,\n",
       "                                                   &#x27;Adress_Avenue&#x27;,\n",
       "                                                   &#x27;Adress_Chemin&#x27;,\n",
       "                                                   &#x27;Adress_Place&#x27;,\n",
       "                                                   &#x27;Adress_Boulevard&#x27;,\n",
       "                                                   &#x27;Adress_Route&#x27;,\n",
       "                                                   &#x27;Adress_quai&#x27;]),\n",
       "                                                 (&#x27;categ_process&#x27;,\n",
       "                                                  OneHotEncoder(handle_unknown=&#x27;ignore&#x27;),\n",
       "                                                  [&#x27;APP_Libelle_etablissement&#x27;,\n",
       "                                                   &#x27;Code_postal&#x27;,\n",
       "                                                   &#x27;Libelle_commune&#x27;,\n",
       "                                                   &#x27;filtre_activite&#x27;])])),\n",
       "                (&#x27;oversampling&#x27;, SMOTE(random_state=5)),\n",
       "                (&#x27;classfier&#x27;, DummyClassifier(random_state=5))])</pre></div></div></div><div class=\"sk-serial\"><div class=\"sk-item sk-dashed-wrapped\"><div class=\"sk-label-container\"><div class=\"sk-label sk-toggleable\"><input class=\"sk-toggleable__control sk-hidden--visually\" id=\"sk-estimator-id-2\" type=\"checkbox\" ><label for=\"sk-estimator-id-2\" class=\"sk-toggleable__label sk-toggleable__label-arrow\">preprocessor: ColumnTransformer</label><div class=\"sk-toggleable__content\"><pre>ColumnTransformer(transformers=[(&#x27;num_process&#x27;, MinMaxScaler(),\n",
       "                                 [&#x27;Adress_Rue&#x27;, &#x27;Adress_Avenue&#x27;,\n",
       "                                  &#x27;Adress_Chemin&#x27;, &#x27;Adress_Place&#x27;,\n",
       "                                  &#x27;Adress_Boulevard&#x27;, &#x27;Adress_Route&#x27;,\n",
       "                                  &#x27;Adress_quai&#x27;]),\n",
       "                                (&#x27;categ_process&#x27;,\n",
       "                                 OneHotEncoder(handle_unknown=&#x27;ignore&#x27;),\n",
       "                                 [&#x27;APP_Libelle_etablissement&#x27;, &#x27;Code_postal&#x27;,\n",
       "                                  &#x27;Libelle_commune&#x27;, &#x27;filtre_activite&#x27;])])</pre></div></div></div><div class=\"sk-parallel\"><div class=\"sk-parallel-item\"><div class=\"sk-item\"><div class=\"sk-label-container\"><div class=\"sk-label sk-toggleable\"><input class=\"sk-toggleable__control sk-hidden--visually\" id=\"sk-estimator-id-3\" type=\"checkbox\" ><label for=\"sk-estimator-id-3\" class=\"sk-toggleable__label sk-toggleable__label-arrow\">num_process</label><div class=\"sk-toggleable__content\"><pre>[&#x27;Adress_Rue&#x27;, &#x27;Adress_Avenue&#x27;, &#x27;Adress_Chemin&#x27;, &#x27;Adress_Place&#x27;, &#x27;Adress_Boulevard&#x27;, &#x27;Adress_Route&#x27;, &#x27;Adress_quai&#x27;]</pre></div></div></div><div class=\"sk-serial\"><div class=\"sk-item\"><div class=\"sk-estimator sk-toggleable\"><input class=\"sk-toggleable__control sk-hidden--visually\" id=\"sk-estimator-id-4\" type=\"checkbox\" ><label for=\"sk-estimator-id-4\" class=\"sk-toggleable__label sk-toggleable__label-arrow\">MinMaxScaler</label><div class=\"sk-toggleable__content\"><pre>MinMaxScaler()</pre></div></div></div></div></div></div><div class=\"sk-parallel-item\"><div class=\"sk-item\"><div class=\"sk-label-container\"><div class=\"sk-label sk-toggleable\"><input class=\"sk-toggleable__control sk-hidden--visually\" id=\"sk-estimator-id-5\" type=\"checkbox\" ><label for=\"sk-estimator-id-5\" class=\"sk-toggleable__label sk-toggleable__label-arrow\">categ_process</label><div class=\"sk-toggleable__content\"><pre>[&#x27;APP_Libelle_etablissement&#x27;, &#x27;Code_postal&#x27;, &#x27;Libelle_commune&#x27;, &#x27;filtre_activite&#x27;]</pre></div></div></div><div class=\"sk-serial\"><div class=\"sk-item\"><div class=\"sk-estimator sk-toggleable\"><input class=\"sk-toggleable__control sk-hidden--visually\" id=\"sk-estimator-id-6\" type=\"checkbox\" ><label for=\"sk-estimator-id-6\" class=\"sk-toggleable__label sk-toggleable__label-arrow\">OneHotEncoder</label><div class=\"sk-toggleable__content\"><pre>OneHotEncoder(handle_unknown=&#x27;ignore&#x27;)</pre></div></div></div></div></div></div></div></div><div class=\"sk-item\"><div class=\"sk-estimator sk-toggleable\"><input class=\"sk-toggleable__control sk-hidden--visually\" id=\"sk-estimator-id-7\" type=\"checkbox\" ><label for=\"sk-estimator-id-7\" class=\"sk-toggleable__label sk-toggleable__label-arrow\">SMOTE</label><div class=\"sk-toggleable__content\"><pre>SMOTE(random_state=5)</pre></div></div></div><div class=\"sk-item\"><div class=\"sk-estimator sk-toggleable\"><input class=\"sk-toggleable__control sk-hidden--visually\" id=\"sk-estimator-id-8\" type=\"checkbox\" ><label for=\"sk-estimator-id-8\" class=\"sk-toggleable__label sk-toggleable__label-arrow\">DummyClassifier</label><div class=\"sk-toggleable__content\"><pre>DummyClassifier(random_state=5)</pre></div></div></div></div></div></div></div>"
      ],
      "text/plain": [
       "Pipeline(steps=[('preprocessor',\n",
       "                 ColumnTransformer(transformers=[('num_process', MinMaxScaler(),\n",
       "                                                  ['Adress_Rue',\n",
       "                                                   'Adress_Avenue',\n",
       "                                                   'Adress_Chemin',\n",
       "                                                   'Adress_Place',\n",
       "                                                   'Adress_Boulevard',\n",
       "                                                   'Adress_Route',\n",
       "                                                   'Adress_quai']),\n",
       "                                                 ('categ_process',\n",
       "                                                  OneHotEncoder(handle_unknown='ignore'),\n",
       "                                                  ['APP_Libelle_etablissement',\n",
       "                                                   'Code_postal',\n",
       "                                                   'Libelle_commune',\n",
       "                                                   'filtre_activite'])])),\n",
       "                ('oversampling', SMOTE(random_state=5)),\n",
       "                ('classfier', DummyClassifier(random_state=5))])"
      ]
     },
     "execution_count": 17,
     "metadata": {},
     "output_type": "execute_result"
    }
   ],
   "source": [
    "model_dum = Pipeline([('preprocessor', preprocessor),\n",
    "                     ('oversampling', SMOTE(random_state = 5)),\n",
    "                     ('classfier', DummyClassifier(random_state= 5))\n",
    "         ])\n",
    "model_dum.fit(X_train, y_train)"
   ]
  },
  {
   "cell_type": "markdown",
   "id": "6f049214",
   "metadata": {},
   "source": [
    "### <font color=\"red\" id=\"section_4_1_2\" > 4.2  Prediction et metrique de performance"
   ]
  },
  {
   "cell_type": "code",
   "execution_count": 18,
   "id": "daf02adc",
   "metadata": {},
   "outputs": [],
   "source": [
    "y_pred_dum = model_dum.predict(X_test)"
   ]
  },
  {
   "cell_type": "code",
   "execution_count": 19,
   "id": "9dc0b42d",
   "metadata": {},
   "outputs": [
    {
     "name": "stdout",
     "output_type": "stream",
     "text": [
      "                   precision    recall  f1-score   support\n",
      "\n",
      "     Satisfaisant       0.56      1.00      0.72      3600\n",
      "Très satisfaisant       0.00      0.00      0.00      2485\n",
      " Urgent_Améliorer       0.00      0.00      0.00       368\n",
      "\n",
      "         accuracy                           0.56      6453\n",
      "        macro avg       0.19      0.33      0.24      6453\n",
      "     weighted avg       0.31      0.56      0.40      6453\n",
      "\n",
      "------------------------------------------------------------\n",
      "Le fbeta core vaut: 0.5535367108047111\n"
     ]
    }
   ],
   "source": [
    "print(classification_report(y_test, y_pred_dum))\n",
    "print('-'*60)\n",
    "print( \"Le fbeta core vaut:\", fbeta_score(y_test, y_pred_dum,average = 'weighted', beta = 10))"
   ]
  },
  {
   "cell_type": "markdown",
   "id": "095e4117",
   "metadata": {},
   "source": [
    "### Matrice de confusion"
   ]
  },
  {
   "cell_type": "code",
   "execution_count": 20,
   "id": "f84f3739",
   "metadata": {},
   "outputs": [],
   "source": [
    "def confusion_matrix_visual(y_pred_model, model):  \n",
    "    cf_matrix =  confusion_matrix(y_test, y_pred_model)\n",
    "    group_names = ['True Satisf','False_satisf vs T_satisf','False_satisf vs Urg',\n",
    "                   'False T_Satisf vs Satisf','True_Tsatisf','False_Tsatisf vs Urg',\n",
    "                  'False_Urg vs Satisf','False_Urg vs T_satisf','True Urg']\n",
    "\n",
    "    group_counts = [\"{0:0.0f}\".format(value) for value in\n",
    "    cf_matrix.flatten()]\n",
    "\n",
    "    group_percentages = [\"{0:.2%}\".format(value) for value in\n",
    "    cf_matrix.flatten()/np.sum(cf_matrix)]\n",
    "\n",
    "    labels = [f\"{v1}\\n{v2}\\n{v3}\" for v1, v2, v3 in\n",
    "    zip(group_names,group_counts,group_percentages)]\n",
    "\n",
    "    labels = np.asarray(labels).reshape(3,3)\n",
    "\n",
    "    plt.figure(figsize =(8,6))\n",
    "    ax = sns.heatmap(cf_matrix, annot=labels, fmt='', cmap='coolwarm', cbar = False, linewidth =1.6)\n",
    "\n",
    "    ax.set_title(\"Confusion Matrix pour {}\".format(model),  fontsize = 16);\n",
    "    ax.set_xlabel('\\n Classes predictes', fontsize = 14)\n",
    "    ax.set_ylabel('Classes réelles ', fontsize = 14);\n",
    "\n",
    "    ## Ticket labels - List must be in alphabetical order\n",
    "    ax.xaxis.set_ticklabels(['Satisf','T_satisf', 'Urgent'])\n",
    "    ax.yaxis.set_ticklabels(['Satisf','T_satisf', 'Urgent'])\n",
    "\n",
    "    plt.show()"
   ]
  },
  {
   "cell_type": "code",
   "execution_count": 21,
   "id": "7cb4002e",
   "metadata": {},
   "outputs": [
    {
     "data": {
      "image/png": "[encoded data removed]",
      "text/plain": [
       "<Figure size 576x432 with 1 Axes>"
      ]
     },
     "metadata": {
      "needs_background": "light"
     },
     "output_type": "display_data"
    }
   ],
   "source": [
    "confusion_matrix_visual(y_pred_dum, 'Dummy Classifier')"
   ]
  },
  {
   "cell_type": "markdown",
   "id": "1baed07f",
   "metadata": {},
   "source": [
    "# Commentaire:\n",
    "\n",
    "Le model **DummyClassifier** est un modèle de référence, il ne se soucis même  pas de données pour classer. \n",
    "Nous l'avions utiliser dans le seul but de comparer ceux plus complexes que nous verrons ci-dessus."
   ]
  },
  {
   "cell_type": "markdown",
   "id": "bd1cf8eb",
   "metadata": {},
   "source": [
    "## <font color=\"red\" id=\"section_4_2\" > 4.2  Logistic Regression\n",
    "    \n",
    "Lien documenation:  https://scikit-learn.org/stable/modules/generated/sklearn.linear_model.LogisticRegression.html"
   ]
  },
  {
   "cell_type": "markdown",
   "id": "6a61b3b2",
   "metadata": {},
   "source": [
    "### <font color=\"red\" id=\"section_4_2_1\" > 4.2.1  Optimisation de paramètre"
   ]
  },
  {
   "cell_type": "code",
   "execution_count": 22,
   "id": "4d123cb5",
   "metadata": {},
   "outputs": [
    {
     "name": "stdout",
     "output_type": "stream",
     "text": [
      "Fitting 5 folds for each of 6 candidates, totalling 30 fits\n",
      "Le temps elapsed: 976.2747673988342\n"
     ]
    }
   ],
   "source": [
    "t0 = time.time()\n",
    "params_log = {'classifier__penalty': [\"l1\", \"l2\"],\n",
    "             'classifier__C': np.logspace(0, 1, 3)}\n",
    "\n",
    "pipe_log = Pipeline([('preprocessor', preprocessor),\n",
    "                      ('Oversampling', SMOTE(random_state = 5)),\n",
    "                      ('classifier' ,LogisticRegression(random_state= 5))\n",
    "                     ])\n",
    "\n",
    "grid_log = GridSearchCV(pipe_log,\n",
    "                        params_log,\n",
    "                        cv = 5,\n",
    "                        n_jobs = -1,\n",
    "                        verbose = 10\n",
    "                       )\n",
    "\n",
    "grid_log.fit(X_train, y_train)\n",
    "print(\"Le temps elapsed:\", time.time() - t0)"
   ]
  },
  {
   "cell_type": "code",
   "execution_count": 23,
   "id": "0ac77e13",
   "metadata": {},
   "outputs": [
    {
     "data": {
      "text/html": [
       "<div>\n",
       "<style scoped>\n",
       "    .dataframe tbody tr th:only-of-type {\n",
       "        vertical-align: middle;\n",
       "    }\n",
       "\n",
       "    .dataframe tbody tr th {\n",
       "        vertical-align: top;\n",
       "    }\n",
       "\n",
       "    .dataframe thead th {\n",
       "        text-align: right;\n",
       "    }\n",
       "</style>\n",
       "<table border=\"1\" class=\"dataframe\">\n",
       "  <thead>\n",
       "    <tr style=\"text-align: right;\">\n",
       "      <th></th>\n",
       "      <th>mean_fit_time</th>\n",
       "      <th>std_fit_time</th>\n",
       "      <th>mean_score_time</th>\n",
       "      <th>std_score_time</th>\n",
       "      <th>param_classifier__C</th>\n",
       "      <th>param_classifier__penalty</th>\n",
       "      <th>params</th>\n",
       "      <th>split0_test_score</th>\n",
       "      <th>split1_test_score</th>\n",
       "      <th>split2_test_score</th>\n",
       "      <th>split3_test_score</th>\n",
       "      <th>split4_test_score</th>\n",
       "      <th>mean_test_score</th>\n",
       "      <th>std_test_score</th>\n",
       "      <th>rank_test_score</th>\n",
       "    </tr>\n",
       "  </thead>\n",
       "  <tbody>\n",
       "    <tr>\n",
       "      <th>5</th>\n",
       "      <td>77.490818</td>\n",
       "      <td>20.269259</td>\n",
       "      <td>0.398627</td>\n",
       "      <td>0.191472</td>\n",
       "      <td>10.0</td>\n",
       "      <td>l2</td>\n",
       "      <td>{'classifier__C': 10.0, 'classifier__penalty':...</td>\n",
       "      <td>0.599961</td>\n",
       "      <td>0.610229</td>\n",
       "      <td>0.608873</td>\n",
       "      <td>0.602596</td>\n",
       "      <td>0.612866</td>\n",
       "      <td>0.606905</td>\n",
       "      <td>0.004842</td>\n",
       "      <td>1</td>\n",
       "    </tr>\n",
       "    <tr>\n",
       "      <th>3</th>\n",
       "      <td>77.454241</td>\n",
       "      <td>61.393342</td>\n",
       "      <td>1.585041</td>\n",
       "      <td>1.247060</td>\n",
       "      <td>3.162278</td>\n",
       "      <td>l2</td>\n",
       "      <td>{'classifier__C': 3.1622776601683795, 'classif...</td>\n",
       "      <td>0.596087</td>\n",
       "      <td>0.603836</td>\n",
       "      <td>0.608485</td>\n",
       "      <td>0.600659</td>\n",
       "      <td>0.611509</td>\n",
       "      <td>0.604115</td>\n",
       "      <td>0.005482</td>\n",
       "      <td>2</td>\n",
       "    </tr>\n",
       "    <tr>\n",
       "      <th>1</th>\n",
       "      <td>190.793244</td>\n",
       "      <td>81.937069</td>\n",
       "      <td>1.444654</td>\n",
       "      <td>1.449476</td>\n",
       "      <td>1.0</td>\n",
       "      <td>l2</td>\n",
       "      <td>{'classifier__C': 1.0, 'classifier__penalty': ...</td>\n",
       "      <td>0.595506</td>\n",
       "      <td>0.605773</td>\n",
       "      <td>0.603255</td>\n",
       "      <td>0.599302</td>\n",
       "      <td>0.602403</td>\n",
       "      <td>0.601248</td>\n",
       "      <td>0.003538</td>\n",
       "      <td>3</td>\n",
       "    </tr>\n",
       "    <tr>\n",
       "      <th>0</th>\n",
       "      <td>249.992911</td>\n",
       "      <td>10.998172</td>\n",
       "      <td>0.000000</td>\n",
       "      <td>0.000000</td>\n",
       "      <td>1.0</td>\n",
       "      <td>l1</td>\n",
       "      <td>{'classifier__C': 1.0, 'classifier__penalty': ...</td>\n",
       "      <td>NaN</td>\n",
       "      <td>NaN</td>\n",
       "      <td>NaN</td>\n",
       "      <td>NaN</td>\n",
       "      <td>NaN</td>\n",
       "      <td>NaN</td>\n",
       "      <td>NaN</td>\n",
       "      <td>4</td>\n",
       "    </tr>\n",
       "    <tr>\n",
       "      <th>2</th>\n",
       "      <td>88.735308</td>\n",
       "      <td>81.635558</td>\n",
       "      <td>0.000000</td>\n",
       "      <td>0.000000</td>\n",
       "      <td>3.162278</td>\n",
       "      <td>l1</td>\n",
       "      <td>{'classifier__C': 3.1622776601683795, 'classif...</td>\n",
       "      <td>NaN</td>\n",
       "      <td>NaN</td>\n",
       "      <td>NaN</td>\n",
       "      <td>NaN</td>\n",
       "      <td>NaN</td>\n",
       "      <td>NaN</td>\n",
       "      <td>NaN</td>\n",
       "      <td>5</td>\n",
       "    </tr>\n",
       "  </tbody>\n",
       "</table>\n",
       "</div>"
      ],
      "text/plain": [
       "   mean_fit_time  std_fit_time  mean_score_time  std_score_time  \\\n",
       "5      77.490818     20.269259         0.398627        0.191472   \n",
       "3      77.454241     61.393342         1.585041        1.247060   \n",
       "1     190.793244     81.937069         1.444654        1.449476   \n",
       "0     249.992911     10.998172         0.000000        0.000000   \n",
       "2      88.735308     81.635558         0.000000        0.000000   \n",
       "\n",
       "  param_classifier__C param_classifier__penalty  \\\n",
       "5                10.0                        l2   \n",
       "3            3.162278                        l2   \n",
       "1                 1.0                        l2   \n",
       "0                 1.0                        l1   \n",
       "2            3.162278                        l1   \n",
       "\n",
       "                                              params  split0_test_score  \\\n",
       "5  {'classifier__C': 10.0, 'classifier__penalty':...           0.599961   \n",
       "3  {'classifier__C': 3.1622776601683795, 'classif...           0.596087   \n",
       "1  {'classifier__C': 1.0, 'classifier__penalty': ...           0.595506   \n",
       "0  {'classifier__C': 1.0, 'classifier__penalty': ...                NaN   \n",
       "2  {'classifier__C': 3.1622776601683795, 'classif...                NaN   \n",
       "\n",
       "   split1_test_score  split2_test_score  split3_test_score  split4_test_score  \\\n",
       "5           0.610229           0.608873           0.602596           0.612866   \n",
       "3           0.603836           0.608485           0.600659           0.611509   \n",
       "1           0.605773           0.603255           0.599302           0.602403   \n",
       "0                NaN                NaN                NaN                NaN   \n",
       "2                NaN                NaN                NaN                NaN   \n",
       "\n",
       "   mean_test_score  std_test_score  rank_test_score  \n",
       "5         0.606905        0.004842                1  \n",
       "3         0.604115        0.005482                2  \n",
       "1         0.601248        0.003538                3  \n",
       "0              NaN             NaN                4  \n",
       "2              NaN             NaN                5  "
      ]
     },
     "execution_count": 23,
     "metadata": {},
     "output_type": "execute_result"
    }
   ],
   "source": [
    "df_results_log = pd.DataFrame.from_dict(grid_log.cv_results_).sort_values(by= 'rank_test_score', ascending = True)\n",
    "df_results_log.head()"
   ]
  },
  {
   "cell_type": "markdown",
   "id": "c9620756",
   "metadata": {},
   "source": [
    "### Affichage des meilleurs paramètres"
   ]
  },
  {
   "cell_type": "code",
   "execution_count": 24,
   "id": "725b6ff8",
   "metadata": {},
   "outputs": [],
   "source": [
    "def affichage_result_optim(grid_search):\n",
    "    \n",
    "    df_results = pd.DataFrame.from_dict(grid_search.cv_results_).sort_values(by= 'rank_test_score', ascending = True)\n",
    "    best_score = np.round(df_results[df_results['rank_test_score']==1]['mean_test_score'].mean(), 2)\n",
    "    best_params = grid_search.best_params_\n",
    "    Time_mean_fit = np.round((df_results['mean_fit_time']*X_train.shape[0]).mean(), 2)\n",
    "    print(\"Le meileur score est: {}, \\nLes meilleurs paramètres sont:{} \\nLe temps total moyen de fit est: {}\".format(best_score,\n",
    "                                                                                    best_params,Time_mean_fit ))\n",
    "    return df_results\n"
   ]
  },
  {
   "cell_type": "code",
   "execution_count": 25,
   "id": "cefcad57",
   "metadata": {},
   "outputs": [
    {
     "name": "stdout",
     "output_type": "stream",
     "text": [
      "Le meileur score est: 0.61, \n",
      "Les meilleurs paramètres sont:{'classifier__C': 10.0, 'classifier__penalty': 'l2'} \n",
      "Le temps total moyen de fit est: 3214854.2\n"
     ]
    }
   ],
   "source": [
    "df_results_log = affichage_result_optim(grid_log)"
   ]
  },
  {
   "cell_type": "markdown",
   "id": "b0c88d1c",
   "metadata": {},
   "source": [
    "### <font color=\"red\" id=\"section_4_2_2\" > 4.2.2  Entrainement du model"
   ]
  },
  {
   "cell_type": "code",
   "execution_count": 26,
   "id": "34b42772",
   "metadata": {},
   "outputs": [
    {
     "name": "stdout",
     "output_type": "stream",
     "text": [
      "Le temps elapsed: 15.06787395477295\n"
     ]
    }
   ],
   "source": [
    "t0 = time.time()\n",
    "model_log = Pipeline([('preprocessor', preprocessor),\n",
    "                      ('Oversampling', SMOTE(random_state = 5)),\n",
    "                      ('classifier', LogisticRegression(C= 10, penalty = 'l2', random_state = 5))\n",
    "                     ])\n",
    "model_log.fit(X_train, y_train)\n",
    "print(\"Le temps elapsed:\", time.time() - t0)"
   ]
  },
  {
   "cell_type": "markdown",
   "id": "62ba1ed9",
   "metadata": {},
   "source": [
    "### <font color=\"red\" id=\"section_4_2_3\" > 4.2.3  Prediction et mesure de performance"
   ]
  },
  {
   "cell_type": "code",
   "execution_count": 27,
   "id": "167bb028",
   "metadata": {},
   "outputs": [],
   "source": [
    "###Prediction\n",
    "y_pred_log = model_log.predict(X_test)"
   ]
  },
  {
   "cell_type": "markdown",
   "id": "02c52acd",
   "metadata": {},
   "source": [
    "### Metrics de performances"
   ]
  },
  {
   "cell_type": "code",
   "execution_count": 28,
   "id": "256deafd",
   "metadata": {},
   "outputs": [
    {
     "name": "stdout",
     "output_type": "stream",
     "text": [
      "                   precision    recall  f1-score   support\n",
      "\n",
      "     Satisfaisant       0.66      0.72      0.69      3600\n",
      "Très satisfaisant       0.57      0.53      0.55      2485\n",
      " Urgent_Améliorer       0.27      0.14      0.18       368\n",
      "\n",
      "         accuracy                           0.61      6453\n",
      "        macro avg       0.50      0.46      0.47      6453\n",
      "     weighted avg       0.60      0.61      0.60      6453\n",
      "\n",
      "------------------------------------------------------------\n",
      "Le fbeta core vaut: 0.6120724037899677\n"
     ]
    }
   ],
   "source": [
    "print(classification_report(y_test, y_pred_log))\n",
    "print('-'*60)\n",
    "print( \"Le fbeta core vaut:\", fbeta_score(y_test, y_pred_log,average = 'weighted', beta = 10))"
   ]
  },
  {
   "cell_type": "markdown",
   "id": "3be903e7",
   "metadata": {},
   "source": [
    "#### Matrice de confusion"
   ]
  },
  {
   "cell_type": "code",
   "execution_count": 29,
   "id": "476d47c8",
   "metadata": {},
   "outputs": [
    {
     "data": {
      "image/png": "[encoded data removed]",
      "text/plain": [
       "<Figure size 576x432 with 1 Axes>"
      ]
     },
     "metadata": {
      "needs_background": "light"
     },
     "output_type": "display_data"
    }
   ],
   "source": [
    "confusion_matrix_visual(y_pred_log, 'LogisticRegression')"
   ]
  },
  {
   "cell_type": "markdown",
   "id": "e7d96b82",
   "metadata": {},
   "source": [
    "## Commentaire: \n",
    "\n",
    "Le **f1 beta score** est de **0.61** ce qui signifie que nous nous avions envirion **61%** de change de predire correctement.On rapelle que le **F1 Score** est la moyenne pondérée entre le **rapelle** et le **précision**.\n",
    "\n",
    "Sur la **matrice de confusion**, on note par exemple que nous avions  **moins de 1%** de change de classer les **urgent** dans la bonne classe. On pourrait faire de même pour les autres classes."
   ]
  },
  {
   "cell_type": "markdown",
   "id": "6c2affef",
   "metadata": {},
   "source": [
    "### <font color=\"red\" id=\"section_4_2_3\" > 4.2.3  Coefficient importances \n",
    "    \n",
    "Dans cette section, on va determiner les importances des features dans la prédiction de nos différentes cibles. Et ce l'interpretation devra se faire dans le sens scientifique et non linguistiquement."
   ]
  },
  {
   "cell_type": "code",
   "execution_count": 37,
   "id": "70dea5b1",
   "metadata": {},
   "outputs": [
    {
     "data": {
      "text/html": [
       "<div>\n",
       "<style scoped>\n",
       "    .dataframe tbody tr th:only-of-type {\n",
       "        vertical-align: middle;\n",
       "    }\n",
       "\n",
       "    .dataframe tbody tr th {\n",
       "        vertical-align: top;\n",
       "    }\n",
       "\n",
       "    .dataframe thead th {\n",
       "        text-align: right;\n",
       "    }\n",
       "</style>\n",
       "<table border=\"1\" class=\"dataframe\">\n",
       "  <thead>\n",
       "    <tr style=\"text-align: right;\">\n",
       "      <th></th>\n",
       "      <th>Importances_coef</th>\n",
       "    </tr>\n",
       "  </thead>\n",
       "  <tbody>\n",
       "    <tr>\n",
       "      <th>categ_process__x2_Mamoudzou</th>\n",
       "      <td>4.466122</td>\n",
       "    </tr>\n",
       "    <tr>\n",
       "      <th>categ_process__x2_Lyon 2e  Arrondissement</th>\n",
       "      <td>3.406365</td>\n",
       "    </tr>\n",
       "    <tr>\n",
       "      <th>categ_process__x1_75007</th>\n",
       "      <td>3.029710</td>\n",
       "    </tr>\n",
       "    <tr>\n",
       "      <th>categ_process__x2_Levallois-Perret</th>\n",
       "      <td>2.860287</td>\n",
       "    </tr>\n",
       "    <tr>\n",
       "      <th>categ_process__x0_BAT PETITE ENFANCE</th>\n",
       "      <td>2.643027</td>\n",
       "    </tr>\n",
       "    <tr>\n",
       "      <th>categ_process__x2_Montrouge</th>\n",
       "      <td>2.636547</td>\n",
       "    </tr>\n",
       "    <tr>\n",
       "      <th>categ_process__x1_92120</th>\n",
       "      <td>2.636547</td>\n",
       "    </tr>\n",
       "  </tbody>\n",
       "</table>\n",
       "</div>"
      ],
      "text/plain": [
       "                                           Importances_coef\n",
       "categ_process__x2_Mamoudzou                        4.466122\n",
       "categ_process__x2_Lyon 2e  Arrondissement          3.406365\n",
       "categ_process__x1_75007                            3.029710\n",
       "categ_process__x2_Levallois-Perret                 2.860287\n",
       "categ_process__x0_BAT PETITE ENFANCE               2.643027\n",
       "categ_process__x2_Montrouge                        2.636547\n",
       "categ_process__x1_92120                            2.636547"
      ]
     },
     "execution_count": 37,
     "metadata": {},
     "output_type": "execute_result"
    }
   ],
   "source": [
    "coef_log =  model_log.named_steps['classifier'].coef_[0] # Attention à ne prendr que la première composante\n",
    "df_coef_log = pd.DataFrame(coef_log,index =get_feature_names(preprocessor), columns = [\"Importances_coef\"]).\\\n",
    "sort_values(by = 'Importances_coef', ascending = False)  #  get_feature_names(preprocessor)\n",
    "df_coef_log.head(7) "
   ]
  },
  {
   "cell_type": "code",
   "execution_count": 38,
   "id": "adbed85e",
   "metadata": {},
   "outputs": [],
   "source": [
    "df_coef_log_15 = df_coef_log.iloc[:15]"
   ]
  },
  {
   "cell_type": "markdown",
   "id": "c898a6c1",
   "metadata": {},
   "source": [
    "## Visualisation des 15 premiers et derniers coefficients"
   ]
  },
  {
   "cell_type": "code",
   "execution_count": 49,
   "id": "8bc1ccba",
   "metadata": {},
   "outputs": [
    {
     "data": {
      "image/png": "[encoded data removed]",
      "text/plain": [
       "<Figure size 1008x360 with 1 Axes>"
      ]
     },
     "metadata": {
      "needs_background": "light"
     },
     "output_type": "display_data"
    }
   ],
   "source": [
    "fig, ax = plt.subplots(figsize =(14,5))\n",
    "df_coef_log_15.plot.barh(ax=ax)\n",
    "ax.set_title(\"Graphique de l'importances , Logistic Regression \", fontsize =20)\n",
    "plt.xticks(rotation =85)\n",
    "fig.tight_layout()"
   ]
  },
  {
   "cell_type": "markdown",
   "id": "f82c0389",
   "metadata": {},
   "source": [
    "## Commentaire:\n",
    "Pour ce model **Logistic Regression**, les facteurs qui influencent positivement la prédiction des classes sont **Mamoudzou**, **Lyon 2e arrondissement** et **Paris 7**. Il faut signaler qu'ici ces facteurs devront être interprétées scientiquement et non linguistiquement."
   ]
  },
  {
   "cell_type": "code",
   "execution_count": 50,
   "id": "461ab54e",
   "metadata": {},
   "outputs": [
    {
     "data": {
      "text/html": [
       "<div>\n",
       "<style scoped>\n",
       "    .dataframe tbody tr th:only-of-type {\n",
       "        vertical-align: middle;\n",
       "    }\n",
       "\n",
       "    .dataframe tbody tr th {\n",
       "        vertical-align: top;\n",
       "    }\n",
       "\n",
       "    .dataframe thead th {\n",
       "        text-align: right;\n",
       "    }\n",
       "</style>\n",
       "<table border=\"1\" class=\"dataframe\">\n",
       "  <thead>\n",
       "    <tr style=\"text-align: right;\">\n",
       "      <th></th>\n",
       "      <th>Importances_coef</th>\n",
       "    </tr>\n",
       "  </thead>\n",
       "  <tbody>\n",
       "    <tr>\n",
       "      <th>categ_process__x0_MACVAL</th>\n",
       "      <td>-4.530138</td>\n",
       "    </tr>\n",
       "    <tr>\n",
       "      <th>categ_process__x0_GUILLARD VICTOR</th>\n",
       "      <td>-4.561347</td>\n",
       "    </tr>\n",
       "    <tr>\n",
       "      <th>categ_process__x0_WOK THAI</th>\n",
       "      <td>-5.072140</td>\n",
       "    </tr>\n",
       "    <tr>\n",
       "      <th>categ_process__x1_27370</th>\n",
       "      <td>-6.183573</td>\n",
       "    </tr>\n",
       "    <tr>\n",
       "      <th>categ_process__x0_SIVOS DE L'OISON</th>\n",
       "      <td>-6.183573</td>\n",
       "    </tr>\n",
       "    <tr>\n",
       "      <th>categ_process__x2_Fouqueville</th>\n",
       "      <td>-6.183573</td>\n",
       "    </tr>\n",
       "    <tr>\n",
       "      <th>categ_process__x0_BOULANGERIE PATISSERIE FROEHLICH</th>\n",
       "      <td>-6.623250</td>\n",
       "    </tr>\n",
       "    <tr>\n",
       "      <th>categ_process__x0_BROCHETTERIE BACAR NASSIMATA</th>\n",
       "      <td>-6.644382</td>\n",
       "    </tr>\n",
       "    <tr>\n",
       "      <th>categ_process__x0_UNI BUFFET</th>\n",
       "      <td>-8.175776</td>\n",
       "    </tr>\n",
       "    <tr>\n",
       "      <th>categ_process__x2_Heillecourt</th>\n",
       "      <td>-8.295245</td>\n",
       "    </tr>\n",
       "    <tr>\n",
       "      <th>categ_process__x1_54180</th>\n",
       "      <td>-8.452403</td>\n",
       "    </tr>\n",
       "    <tr>\n",
       "      <th>categ_process__x0_CAMPING DE LA PLAGE</th>\n",
       "      <td>-8.513089</td>\n",
       "    </tr>\n",
       "    <tr>\n",
       "      <th>categ_process__x0_AG2R REUNICA-PARIS 10-PARADIS</th>\n",
       "      <td>-10.165696</td>\n",
       "    </tr>\n",
       "    <tr>\n",
       "      <th>categ_process__x0_HOA SEN</th>\n",
       "      <td>-13.145407</td>\n",
       "    </tr>\n",
       "    <tr>\n",
       "      <th>categ_process__x0_PROUT PROUT</th>\n",
       "      <td>-14.775347</td>\n",
       "    </tr>\n",
       "  </tbody>\n",
       "</table>\n",
       "</div>"
      ],
      "text/plain": [
       "                                                    Importances_coef\n",
       "categ_process__x0_MACVAL                                   -4.530138\n",
       "categ_process__x0_GUILLARD VICTOR                          -4.561347\n",
       "categ_process__x0_WOK THAI                                 -5.072140\n",
       "categ_process__x1_27370                                    -6.183573\n",
       "categ_process__x0_SIVOS DE L'OISON                         -6.183573\n",
       "categ_process__x2_Fouqueville                              -6.183573\n",
       "categ_process__x0_BOULANGERIE PATISSERIE FROEHLICH         -6.623250\n",
       "categ_process__x0_BROCHETTERIE BACAR NASSIMATA             -6.644382\n",
       "categ_process__x0_UNI BUFFET                               -8.175776\n",
       "categ_process__x2_Heillecourt                              -8.295245\n",
       "categ_process__x1_54180                                    -8.452403\n",
       "categ_process__x0_CAMPING DE LA PLAGE                      -8.513089\n",
       "categ_process__x0_AG2R REUNICA-PARIS 10-PARADIS           -10.165696\n",
       "categ_process__x0_HOA SEN                                 -13.145407\n",
       "categ_process__x0_PROUT PROUT                             -14.775347"
      ]
     },
     "execution_count": 50,
     "metadata": {},
     "output_type": "execute_result"
    }
   ],
   "source": [
    "df_coef_log_moins_15 = df_coef_log.iloc[-15:]\n",
    "df_coef_log_moins_15"
   ]
  },
  {
   "cell_type": "code",
   "execution_count": 51,
   "id": "e38753cf",
   "metadata": {},
   "outputs": [
    {
     "data": {
      "text/plain": [
       "(15, 1)"
      ]
     },
     "execution_count": 51,
     "metadata": {},
     "output_type": "execute_result"
    }
   ],
   "source": [
    "df_coef_log_moins_15.shape"
   ]
  },
  {
   "cell_type": "code",
   "execution_count": 53,
   "id": "126a4635",
   "metadata": {},
   "outputs": [
    {
     "data": {
      "image/png": "[encoded data removed]",
      "text/plain": [
       "<Figure size 1008x360 with 1 Axes>"
      ]
     },
     "metadata": {
      "needs_background": "light"
     },
     "output_type": "display_data"
    }
   ],
   "source": [
    "fig, ax = plt.subplots(figsize =(14,5))\n",
    "df_coef_log_moins_15.plot.barh(ax=ax)\n",
    "ax.set_title(\"Graphique de l'importances négatives , Logistic Regression \", fontsize =20)\n",
    "plt.xticks(rotation =85)\n",
    "fig.tight_layout()"
   ]
  },
  {
   "cell_type": "markdown",
   "id": "abab2a0f",
   "metadata": {},
   "source": [
    "## Commentaire:\n",
    "Là encore, les facteurs qui influencent négativement la prédiction des classes sont entre autres **Prout Prout**, **Hoa sen**. "
   ]
  },
  {
   "cell_type": "markdown",
   "id": "f739a14a",
   "metadata": {},
   "source": [
    "## <font color=\"red\" id=\"section_4_3\" > 4.3  SGDClassifier\n",
    "    \n",
    "Lien documenation:  https://scikit-learn.org/stable/modules/generated/sklearn.linear_model.SGDClassifier.html"
   ]
  },
  {
   "cell_type": "code",
   "execution_count": null,
   "id": "66452045",
   "metadata": {},
   "outputs": [],
   "source": []
  }
 ],
 "metadata": {
  "kernelspec": {
   "display_name": "Python 3 (ipykernel)",
   "language": "python",
   "name": "python3"
  },
  "language_info": {
   "codemirror_mode": {
    "name": "ipython",
    "version": 3
   },
   "file_extension": ".py",
   "mimetype": "text/x-python",
   "name": "python",
   "nbconvert_exporter": "python",
   "pygments_lexer": "ipython3",
   "version": "3.9.12"
  }
 },
 "nbformat": 4,
 "nbformat_minor": 5
}
