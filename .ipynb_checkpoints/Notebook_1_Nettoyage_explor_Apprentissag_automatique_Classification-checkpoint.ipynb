{
 "cells": [
  {
   "cell_type": "markdown",
   "id": "03daec40",
   "metadata": {},
   "source": [
    "## <font color = 'green' id = \"section\" > Notebook 1: Apprentissage automatique, Classification</font>"
   ]
  },
  {
   "cell_type": "markdown",
   "id": "8c7fc33c",
   "metadata": {},
   "source": [
    "# <font color=\"blue\">Sommaire</font>\n",
    "1. [Importation des librairies](#section_1)    \n",
    "2. [Lecture du Dataset](#section_2) \n",
    "3. [Inventaire des valeurs manquantes](#section_3)         \n",
    "4. [Description statistique et distribution](#section_4)       \n",
    "   \n",
    "\n"
   ]
  },
  {
   "cell_type": "markdown",
   "id": "2e082814",
   "metadata": {},
   "source": [
    "# <font color ='red' id = 'section_1' > 1. Importation des librairies </font>"
   ]
  },
  {
   "cell_type": "code",
   "execution_count": 1,
   "id": "39273929",
   "metadata": {},
   "outputs": [
    {
     "name": "stdout",
     "output_type": "stream",
     "text": [
      "No Warning Shown\n"
     ]
    }
   ],
   "source": [
    "import warnings\n",
    "warnings.filterwarnings('ignore')\n",
    "warnings.warn('DelftStack')\n",
    "warnings.warn('Do not show this message')\n",
    "print(\"No Warning Shown\")"
   ]
  },
  {
   "cell_type": "code",
   "execution_count": 2,
   "id": "82bfb92a",
   "metadata": {},
   "outputs": [],
   "source": [
    "import pandas as pd\n",
    "import numpy as np\n",
    "import scipy.stats as st\n",
    "import seaborn as sns\n",
    "import matplotlib.pyplot as plt\n",
    "from scipy import stats\n",
    "import ast\n",
    "import scipy as sp\n",
    "import time\n",
    "import pickle\n",
    "from datetime import datetime\n",
    "#-------------------------------------------------------------------\n",
    "from tqdm import tqdm\n",
    "import gc\n",
    "#------------------------------------------------------------------\n",
    "import plotly.graph_objs as go\n",
    "import plotly.express as px\n",
    "from textwrap import wrap\n",
    "#-------------------------------------------------\n",
    "from sklearn.model_selection import train_test_split\n",
    "from sklearn.impute import KNNImputer\n",
    "from sklearn.ensemble import RandomForestRegressor\n",
    "from sklearn.metrics import *\n",
    "#------------------------------------------\n",
    "from sklearn.experimental import enable_iterative_imputer\n",
    "from sklearn.impute import IterativeImputer"
   ]
  },
  {
   "cell_type": "code",
   "execution_count": 3,
   "id": "03ba9a09",
   "metadata": {},
   "outputs": [],
   "source": [
    "pd.set_option(\"display.max_columns\", 500)\n",
    "pd.set_option(\"display.max_rows\", 500)"
   ]
  },
  {
   "cell_type": "markdown",
   "id": "dbeb2921",
   "metadata": {},
   "source": [
    "# Checklist\n",
    "\n",
    "## Description\n",
    "La publication des résultats des contrôles sanitaires dans le secteur alimentaire (**restaurants, cantines, abattoirs, etc.**) est une attente légitime des citoyens qui participe à l’amélioration de la confiance du consommateur. Prévue par la loi d’Avenir pour l’agriculture, l’alimentation et la forêt, du 13 octobre 2014, cette mesure s’inscrit dans une évolution vers une plus grande transparence de l’action de l’État.\n",
    "\n",
    "\n",
    "**Quels sont secteurs d’activité concernés ?**\n",
    "\n",
    "Il s’agit de rendre public le résultat des contrôles officiels en sécurité sanitaire des aliments réalisés dans tous les établissements de la chaîne alimentaire : **abattoirs, commerces de détail (métiers de bouche, restaurants, supermarchés, marchés, vente à la ferme, etc.), restaurants collectifs et établissements agroalimentaires.**\n",
    "\n",
    "\n",
    "# Objectif\n",
    "\n",
    "Notre objectif majeur dans ce projet en particulier ce notebbok 1 comprend les étapes suivantes: \n",
    " \n",
    "**1.** *Nettoyage des données*\n",
    "\n",
    "**2.** *Feature engineering*\n",
    "\n",
    "**3.** *Explorattion rapide*\n",
    "\n",
    "\n",
    "# Description des données\n",
    "Lien 1: https://www.data.gouv.fr/fr/pages/thematiques-a-la-une/\n",
    "\n",
    "Lien vers les données: https://www.data.gouv.fr/fr/datasets/resultats-des-controles-officiels-sanitaires-dispositif-dinformation-alimconfiance/\n"
   ]
  },
  {
   "cell_type": "markdown",
   "id": "4aa43bf0",
   "metadata": {},
   "source": [
    "# <font color=\"red\" id=\"section_2\"> 2. Chargement, lecture, apercu et infos des données </font>"
   ]
  },
  {
   "cell_type": "code",
   "execution_count": 4,
   "id": "564f490c",
   "metadata": {},
   "outputs": [],
   "source": [
    "data = pd.read_csv(\"export_alimconfiance.csv\", sep=';',encoding = 'utf-8')"
   ]
  },
  {
   "cell_type": "code",
   "execution_count": 5,
   "id": "2e663a59",
   "metadata": {},
   "outputs": [
    {
     "data": {
      "text/html": [
       "<div>\n",
       "<style scoped>\n",
       "    .dataframe tbody tr th:only-of-type {\n",
       "        vertical-align: middle;\n",
       "    }\n",
       "\n",
       "    .dataframe tbody tr th {\n",
       "        vertical-align: top;\n",
       "    }\n",
       "\n",
       "    .dataframe thead th {\n",
       "        text-align: right;\n",
       "    }\n",
       "</style>\n",
       "<table border=\"1\" class=\"dataframe\">\n",
       "  <thead>\n",
       "    <tr style=\"text-align: right;\">\n",
       "      <th></th>\n",
       "      <th>APP_Libelle_etablissement</th>\n",
       "      <th>SIRET</th>\n",
       "      <th>Adresse_2_UA</th>\n",
       "      <th>Code_postal</th>\n",
       "      <th>Libelle_commune</th>\n",
       "      <th>Numero_inspection</th>\n",
       "      <th>Date_inspection</th>\n",
       "      <th>APP_Libelle_activite_etablissement</th>\n",
       "      <th>Synthese_eval_sanit</th>\n",
       "      <th>Agrement</th>\n",
       "      <th>geores</th>\n",
       "      <th>filtre</th>\n",
       "      <th>ods_type_activite</th>\n",
       "    </tr>\n",
       "  </thead>\n",
       "  <tbody>\n",
       "    <tr>\n",
       "      <th>0</th>\n",
       "      <td>DE CERGY NEUVILLE (SYND MIXTE D'ETUDE AMENA GE...</td>\n",
       "      <td>25950062700015</td>\n",
       "      <td>29 R DES ETANGS</td>\n",
       "      <td>95800</td>\n",
       "      <td>CERGY</td>\n",
       "      <td>16527453</td>\n",
       "      <td>2022-07-13T02:00:00+02:00</td>\n",
       "      <td>_</td>\n",
       "      <td>A améliorer</td>\n",
       "      <td>NaN</td>\n",
       "      <td>NaN</td>\n",
       "      <td>NaN</td>\n",
       "      <td>Autres</td>\n",
       "    </tr>\n",
       "    <tr>\n",
       "      <th>1</th>\n",
       "      <td>CODIPEX (CONSORTIUM EUROPE ECHANG COMMERC INTE...</td>\n",
       "      <td>30009044600034</td>\n",
       "      <td>14 AV SOMMER</td>\n",
       "      <td>92160</td>\n",
       "      <td>ANTONY</td>\n",
       "      <td>16660788</td>\n",
       "      <td>2022-09-07T02:00:00+02:00</td>\n",
       "      <td>_</td>\n",
       "      <td>Très satisfaisant</td>\n",
       "      <td>NaN</td>\n",
       "      <td>48.732041,2.305533</td>\n",
       "      <td>NaN</td>\n",
       "      <td>Autres</td>\n",
       "    </tr>\n",
       "  </tbody>\n",
       "</table>\n",
       "</div>"
      ],
      "text/plain": [
       "                           APP_Libelle_etablissement           SIRET  \\\n",
       "0  DE CERGY NEUVILLE (SYND MIXTE D'ETUDE AMENA GE...  25950062700015   \n",
       "1  CODIPEX (CONSORTIUM EUROPE ECHANG COMMERC INTE...  30009044600034   \n",
       "\n",
       "      Adresse_2_UA Code_postal Libelle_commune Numero_inspection  \\\n",
       "0  29 R DES ETANGS       95800           CERGY          16527453   \n",
       "1     14 AV SOMMER       92160          ANTONY          16660788   \n",
       "\n",
       "             Date_inspection APP_Libelle_activite_etablissement  \\\n",
       "0  2022-07-13T02:00:00+02:00                                  _   \n",
       "1  2022-09-07T02:00:00+02:00                                  _   \n",
       "\n",
       "  Synthese_eval_sanit Agrement              geores filtre ods_type_activite  \n",
       "0         A améliorer      NaN                 NaN    NaN            Autres  \n",
       "1   Très satisfaisant      NaN  48.732041,2.305533    NaN            Autres  "
      ]
     },
     "metadata": {},
     "output_type": "display_data"
    },
    {
     "data": {
      "text/html": [
       "<div>\n",
       "<style scoped>\n",
       "    .dataframe tbody tr th:only-of-type {\n",
       "        vertical-align: middle;\n",
       "    }\n",
       "\n",
       "    .dataframe tbody tr th {\n",
       "        vertical-align: top;\n",
       "    }\n",
       "\n",
       "    .dataframe thead th {\n",
       "        text-align: right;\n",
       "    }\n",
       "</style>\n",
       "<table border=\"1\" class=\"dataframe\">\n",
       "  <thead>\n",
       "    <tr style=\"text-align: right;\">\n",
       "      <th></th>\n",
       "      <th>APP_Libelle_etablissement</th>\n",
       "      <th>SIRET</th>\n",
       "      <th>Adresse_2_UA</th>\n",
       "      <th>Code_postal</th>\n",
       "      <th>Libelle_commune</th>\n",
       "      <th>Numero_inspection</th>\n",
       "      <th>Date_inspection</th>\n",
       "      <th>APP_Libelle_activite_etablissement</th>\n",
       "      <th>Synthese_eval_sanit</th>\n",
       "      <th>Agrement</th>\n",
       "      <th>geores</th>\n",
       "      <th>filtre</th>\n",
       "      <th>ods_type_activite</th>\n",
       "    </tr>\n",
       "  </thead>\n",
       "  <tbody>\n",
       "    <tr>\n",
       "      <th>34175</th>\n",
       "      <td>CENTRE HOSPITALIER DU FOREZ</td>\n",
       "      <td>20003493200018</td>\n",
       "      <td>av des mots du soir</td>\n",
       "      <td>42600</td>\n",
       "      <td>Montbrison</td>\n",
       "      <td>22-068033-1</td>\n",
       "      <td>2022-08-31T02:00:00+02:00</td>\n",
       "      <td>Restauration collective</td>\n",
       "      <td>Satisfaisant</td>\n",
       "      <td>42147341</td>\n",
       "      <td>45.612674,4.046673</td>\n",
       "      <td>Restauration collective</td>\n",
       "      <td>Autres</td>\n",
       "    </tr>\n",
       "    <tr>\n",
       "      <th>34176</th>\n",
       "      <td>GAEC DES THIBAUDS</td>\n",
       "      <td>53903833100010</td>\n",
       "      <td>375 CHE DES TERRAIONS</td>\n",
       "      <td>26310</td>\n",
       "      <td>Miscon</td>\n",
       "      <td>22-001364-1</td>\n",
       "      <td>2022-11-30T01:00:00+01:00</td>\n",
       "      <td>Transformation de lait ou produits laitiers</td>\n",
       "      <td>Très satisfaisant</td>\n",
       "      <td>26186081</td>\n",
       "      <td>44.6289,5.520219</td>\n",
       "      <td>NaN</td>\n",
       "      <td>Lait et produits laitiers</td>\n",
       "    </tr>\n",
       "  </tbody>\n",
       "</table>\n",
       "</div>"
      ],
      "text/plain": [
       "         APP_Libelle_etablissement           SIRET           Adresse_2_UA  \\\n",
       "34175  CENTRE HOSPITALIER DU FOREZ  20003493200018    av des mots du soir   \n",
       "34176            GAEC DES THIBAUDS  53903833100010  375 CHE DES TERRAIONS   \n",
       "\n",
       "      Code_postal Libelle_commune Numero_inspection  \\\n",
       "34175       42600      Montbrison       22-068033-1   \n",
       "34176       26310          Miscon       22-001364-1   \n",
       "\n",
       "                 Date_inspection           APP_Libelle_activite_etablissement  \\\n",
       "34175  2022-08-31T02:00:00+02:00                      Restauration collective   \n",
       "34176  2022-11-30T01:00:00+01:00  Transformation de lait ou produits laitiers   \n",
       "\n",
       "      Synthese_eval_sanit  Agrement              geores  \\\n",
       "34175        Satisfaisant  42147341  45.612674,4.046673   \n",
       "34176   Très satisfaisant  26186081    44.6289,5.520219   \n",
       "\n",
       "                        filtre          ods_type_activite  \n",
       "34175  Restauration collective                     Autres  \n",
       "34176                      NaN  Lait et produits laitiers  "
      ]
     },
     "metadata": {},
     "output_type": "display_data"
    }
   ],
   "source": [
    "display(data.head(2))\n",
    "display(data.tail(2))"
   ]
  },
  {
   "cell_type": "code",
   "execution_count": 6,
   "id": "f48600c7",
   "metadata": {},
   "outputs": [
    {
     "data": {
      "text/plain": [
       "(34177, 13)"
      ]
     },
     "execution_count": 6,
     "metadata": {},
     "output_type": "execute_result"
    }
   ],
   "source": [
    "data.shape"
   ]
  },
  {
   "cell_type": "code",
   "execution_count": 7,
   "id": "3d5f00cc",
   "metadata": {},
   "outputs": [
    {
     "name": "stdout",
     "output_type": "stream",
     "text": [
      "<class 'pandas.core.frame.DataFrame'>\n",
      "RangeIndex: 34177 entries, 0 to 34176\n",
      "Data columns (total 13 columns):\n",
      " #   Column                              Non-Null Count  Dtype \n",
      "---  ------                              --------------  ----- \n",
      " 0   APP_Libelle_etablissement           34177 non-null  object\n",
      " 1   SIRET                               34177 non-null  object\n",
      " 2   Adresse_2_UA                        33691 non-null  object\n",
      " 3   Code_postal                         34177 non-null  object\n",
      " 4   Libelle_commune                     34177 non-null  object\n",
      " 5   Numero_inspection                   34177 non-null  object\n",
      " 6   Date_inspection                     34177 non-null  object\n",
      " 7   APP_Libelle_activite_etablissement  34177 non-null  object\n",
      " 8   Synthese_eval_sanit                 34177 non-null  object\n",
      " 9   Agrement                            9591 non-null   object\n",
      " 10  geores                              33445 non-null  object\n",
      " 11  filtre                              24967 non-null  object\n",
      " 12  ods_type_activite                   34177 non-null  object\n",
      "dtypes: object(13)\n",
      "memory usage: 3.4+ MB\n"
     ]
    }
   ],
   "source": [
    "data.info()"
   ]
  },
  {
   "cell_type": "code",
   "execution_count": 8,
   "id": "075664ae",
   "metadata": {},
   "outputs": [
    {
     "data": {
      "text/plain": [
       "0"
      ]
     },
     "execution_count": 8,
     "metadata": {},
     "output_type": "execute_result"
    }
   ],
   "source": [
    "data.duplicated().sum()"
   ]
  },
  {
   "cell_type": "markdown",
   "id": "cf9ee640",
   "metadata": {},
   "source": [
    "## <font color=\"red\" id=\"section_3\" > 3. Inventaire des valeurs manquantes"
   ]
  },
  {
   "cell_type": "code",
   "execution_count": 9,
   "id": "2f2369f6",
   "metadata": {},
   "outputs": [],
   "source": [
    "def rech_nan(data):\n",
    "    dic_var = {}\n",
    "    for col in data.columns:\n",
    "        \n",
    "        dic_var[col] = []\n",
    "        dic_var[col].append((data[col].notna().sum()/(data.shape[0]))*100)\n",
    "        dic_var[col].append(data[col].isna().sum())\n",
    "        \n",
    "    return pd.DataFrame.from_dict(data = dic_var, orient = 'index', \n",
    "                            columns = ['Taux_remplissage', 'Valeurs manquantes']).sort_values(by = 'Taux_remplissage',\n",
    "                                                                                              ascending =False )"
   ]
  },
  {
   "cell_type": "code",
   "execution_count": 10,
   "id": "8eb7d0d4",
   "metadata": {},
   "outputs": [
    {
     "data": {
      "text/html": [
       "<div>\n",
       "<style scoped>\n",
       "    .dataframe tbody tr th:only-of-type {\n",
       "        vertical-align: middle;\n",
       "    }\n",
       "\n",
       "    .dataframe tbody tr th {\n",
       "        vertical-align: top;\n",
       "    }\n",
       "\n",
       "    .dataframe thead th {\n",
       "        text-align: right;\n",
       "    }\n",
       "</style>\n",
       "<table border=\"1\" class=\"dataframe\">\n",
       "  <thead>\n",
       "    <tr style=\"text-align: right;\">\n",
       "      <th></th>\n",
       "      <th>Taux_remplissage</th>\n",
       "      <th>Valeurs manquantes</th>\n",
       "    </tr>\n",
       "  </thead>\n",
       "  <tbody>\n",
       "    <tr>\n",
       "      <th>APP_Libelle_etablissement</th>\n",
       "      <td>100.000000</td>\n",
       "      <td>0</td>\n",
       "    </tr>\n",
       "    <tr>\n",
       "      <th>SIRET</th>\n",
       "      <td>100.000000</td>\n",
       "      <td>0</td>\n",
       "    </tr>\n",
       "    <tr>\n",
       "      <th>Code_postal</th>\n",
       "      <td>100.000000</td>\n",
       "      <td>0</td>\n",
       "    </tr>\n",
       "    <tr>\n",
       "      <th>Libelle_commune</th>\n",
       "      <td>100.000000</td>\n",
       "      <td>0</td>\n",
       "    </tr>\n",
       "    <tr>\n",
       "      <th>Numero_inspection</th>\n",
       "      <td>100.000000</td>\n",
       "      <td>0</td>\n",
       "    </tr>\n",
       "    <tr>\n",
       "      <th>Date_inspection</th>\n",
       "      <td>100.000000</td>\n",
       "      <td>0</td>\n",
       "    </tr>\n",
       "    <tr>\n",
       "      <th>APP_Libelle_activite_etablissement</th>\n",
       "      <td>100.000000</td>\n",
       "      <td>0</td>\n",
       "    </tr>\n",
       "    <tr>\n",
       "      <th>Synthese_eval_sanit</th>\n",
       "      <td>100.000000</td>\n",
       "      <td>0</td>\n",
       "    </tr>\n",
       "    <tr>\n",
       "      <th>ods_type_activite</th>\n",
       "      <td>100.000000</td>\n",
       "      <td>0</td>\n",
       "    </tr>\n",
       "    <tr>\n",
       "      <th>Adresse_2_UA</th>\n",
       "      <td>98.577991</td>\n",
       "      <td>486</td>\n",
       "    </tr>\n",
       "    <tr>\n",
       "      <th>geores</th>\n",
       "      <td>97.858209</td>\n",
       "      <td>732</td>\n",
       "    </tr>\n",
       "    <tr>\n",
       "      <th>filtre</th>\n",
       "      <td>73.052053</td>\n",
       "      <td>9210</td>\n",
       "    </tr>\n",
       "    <tr>\n",
       "      <th>Agrement</th>\n",
       "      <td>28.062732</td>\n",
       "      <td>24586</td>\n",
       "    </tr>\n",
       "  </tbody>\n",
       "</table>\n",
       "</div>"
      ],
      "text/plain": [
       "                                    Taux_remplissage  Valeurs manquantes\n",
       "APP_Libelle_etablissement                 100.000000                   0\n",
       "SIRET                                     100.000000                   0\n",
       "Code_postal                               100.000000                   0\n",
       "Libelle_commune                           100.000000                   0\n",
       "Numero_inspection                         100.000000                   0\n",
       "Date_inspection                           100.000000                   0\n",
       "APP_Libelle_activite_etablissement        100.000000                   0\n",
       "Synthese_eval_sanit                       100.000000                   0\n",
       "ods_type_activite                         100.000000                   0\n",
       "Adresse_2_UA                               98.577991                 486\n",
       "geores                                     97.858209                 732\n",
       "filtre                                     73.052053                9210\n",
       "Agrement                                   28.062732               24586"
      ]
     },
     "execution_count": 10,
     "metadata": {},
     "output_type": "execute_result"
    }
   ],
   "source": [
    "df_nan = rech_nan(data)\n",
    "df_nan"
   ]
  },
  {
   "cell_type": "code",
   "execution_count": 11,
   "id": "af346ed5",
   "metadata": {},
   "outputs": [
    {
     "data": {
      "image/png": "[encoded data removed]",
      "text/plain": [
       "<Figure size 792x432 with 1 Axes>"
      ]
     },
     "metadata": {
      "needs_background": "light"
     },
     "output_type": "display_data"
    }
   ],
   "source": [
    "plt.figure(figsize = (11,6))\n",
    "sns.heatmap(data.isna(), cbar = False)\n",
    "plt.show()"
   ]
  },
  {
   "cell_type": "markdown",
   "id": "7574af15",
   "metadata": {},
   "source": [
    "# Commentaire: \n",
    "Nous allons supprimer '**Adresse_2_UA** et **Agrement** qui nous sont d'aucune utilité."
   ]
  },
  {
   "cell_type": "code",
   "execution_count": 12,
   "id": "c48b193a",
   "metadata": {},
   "outputs": [],
   "source": [
    "data.drop( [\"Adresse_2_UA\", \"Agrement\"], axis = 1, inplace = True)"
   ]
  },
  {
   "cell_type": "code",
   "execution_count": 13,
   "id": "a143aa9a",
   "metadata": {},
   "outputs": [
    {
     "data": {
      "text/html": [
       "<div>\n",
       "<style scoped>\n",
       "    .dataframe tbody tr th:only-of-type {\n",
       "        vertical-align: middle;\n",
       "    }\n",
       "\n",
       "    .dataframe tbody tr th {\n",
       "        vertical-align: top;\n",
       "    }\n",
       "\n",
       "    .dataframe thead th {\n",
       "        text-align: right;\n",
       "    }\n",
       "</style>\n",
       "<table border=\"1\" class=\"dataframe\">\n",
       "  <thead>\n",
       "    <tr style=\"text-align: right;\">\n",
       "      <th></th>\n",
       "      <th>APP_Libelle_etablissement</th>\n",
       "      <th>SIRET</th>\n",
       "      <th>Code_postal</th>\n",
       "      <th>Libelle_commune</th>\n",
       "      <th>Numero_inspection</th>\n",
       "      <th>Date_inspection</th>\n",
       "      <th>APP_Libelle_activite_etablissement</th>\n",
       "      <th>Synthese_eval_sanit</th>\n",
       "      <th>geores</th>\n",
       "      <th>filtre</th>\n",
       "      <th>ods_type_activite</th>\n",
       "    </tr>\n",
       "  </thead>\n",
       "  <tbody>\n",
       "    <tr>\n",
       "      <th>34175</th>\n",
       "      <td>CENTRE HOSPITALIER DU FOREZ</td>\n",
       "      <td>20003493200018</td>\n",
       "      <td>42600</td>\n",
       "      <td>Montbrison</td>\n",
       "      <td>22-068033-1</td>\n",
       "      <td>2022-08-31T02:00:00+02:00</td>\n",
       "      <td>Restauration collective</td>\n",
       "      <td>Satisfaisant</td>\n",
       "      <td>45.612674,4.046673</td>\n",
       "      <td>Restauration collective</td>\n",
       "      <td>Autres</td>\n",
       "    </tr>\n",
       "    <tr>\n",
       "      <th>34176</th>\n",
       "      <td>GAEC DES THIBAUDS</td>\n",
       "      <td>53903833100010</td>\n",
       "      <td>26310</td>\n",
       "      <td>Miscon</td>\n",
       "      <td>22-001364-1</td>\n",
       "      <td>2022-11-30T01:00:00+01:00</td>\n",
       "      <td>Transformation de lait ou produits laitiers</td>\n",
       "      <td>Très satisfaisant</td>\n",
       "      <td>44.6289,5.520219</td>\n",
       "      <td>NaN</td>\n",
       "      <td>Lait et produits laitiers</td>\n",
       "    </tr>\n",
       "  </tbody>\n",
       "</table>\n",
       "</div>"
      ],
      "text/plain": [
       "         APP_Libelle_etablissement           SIRET Code_postal  \\\n",
       "34175  CENTRE HOSPITALIER DU FOREZ  20003493200018       42600   \n",
       "34176            GAEC DES THIBAUDS  53903833100010       26310   \n",
       "\n",
       "      Libelle_commune Numero_inspection            Date_inspection  \\\n",
       "34175      Montbrison       22-068033-1  2022-08-31T02:00:00+02:00   \n",
       "34176          Miscon       22-001364-1  2022-11-30T01:00:00+01:00   \n",
       "\n",
       "                APP_Libelle_activite_etablissement Synthese_eval_sanit  \\\n",
       "34175                      Restauration collective        Satisfaisant   \n",
       "34176  Transformation de lait ou produits laitiers   Très satisfaisant   \n",
       "\n",
       "                   geores                   filtre          ods_type_activite  \n",
       "34175  45.612674,4.046673  Restauration collective                     Autres  \n",
       "34176    44.6289,5.520219                      NaN  Lait et produits laitiers  "
      ]
     },
     "execution_count": 13,
     "metadata": {},
     "output_type": "execute_result"
    }
   ],
   "source": [
    "data.tail(2)"
   ]
  },
  {
   "cell_type": "code",
   "execution_count": 14,
   "id": "c0d23bec",
   "metadata": {},
   "outputs": [
    {
     "data": {
      "text/plain": [
       "APP_Libelle_etablissement                0\n",
       "SIRET                                    0\n",
       "Code_postal                              0\n",
       "Libelle_commune                          0\n",
       "Numero_inspection                        0\n",
       "Date_inspection                          0\n",
       "APP_Libelle_activite_etablissement       0\n",
       "Synthese_eval_sanit                      0\n",
       "geores                                 732\n",
       "filtre                                9210\n",
       "ods_type_activite                        0\n",
       "dtype: int64"
      ]
     },
     "execution_count": 14,
     "metadata": {},
     "output_type": "execute_result"
    }
   ],
   "source": [
    "data.isna().sum()"
   ]
  },
  {
   "cell_type": "markdown",
   "id": "ab2187ea",
   "metadata": {},
   "source": [
    "## <font color=\"red\" id=\"section_3_1\" > 3.1 Traitement valeurs manquantes : Geores\n",
    "Nous allons d'abord éclater la variable **Geores** en **Longitude** et **Latitude** ensuite imputer automatiquement les valeurs manquantes."
   ]
  },
  {
   "cell_type": "code",
   "execution_count": 15,
   "id": "b6dcd84c",
   "metadata": {},
   "outputs": [
    {
     "data": {
      "text/plain": [
       "0                       NaN\n",
       "1        48.732041,2.305533\n",
       "2        49.017271,2.380653\n",
       "3        48.868487,2.227684\n",
       "4        45.762926,4.832648\n",
       "                ...        \n",
       "34172    46.299554,4.897724\n",
       "34173      48.835253,2.3169\n",
       "34174    46.553788,5.671371\n",
       "34175    45.612674,4.046673\n",
       "34176      44.6289,5.520219\n",
       "Name: geores, Length: 34177, dtype: object"
      ]
     },
     "execution_count": 15,
     "metadata": {},
     "output_type": "execute_result"
    }
   ],
   "source": [
    "data.geores"
   ]
  },
  {
   "cell_type": "code",
   "execution_count": 16,
   "id": "0f12fc89",
   "metadata": {},
   "outputs": [],
   "source": [
    "data_geo_notna =  data.loc[data['geores'].notna(), 'geores']"
   ]
  },
  {
   "cell_type": "code",
   "execution_count": 17,
   "id": "015a0df7",
   "metadata": {},
   "outputs": [
    {
     "data": {
      "text/plain": [
       "1    48.732041,2.305533\n",
       "2    49.017271,2.380653\n",
       "3    48.868487,2.227684\n",
       "4    45.762926,4.832648\n",
       "5    48.703268,1.855354\n",
       "Name: geores, dtype: object"
      ]
     },
     "execution_count": 17,
     "metadata": {},
     "output_type": "execute_result"
    }
   ],
   "source": [
    "data_geo_notna.head()"
   ]
  },
  {
   "cell_type": "code",
   "execution_count": 18,
   "id": "2d8fc92f",
   "metadata": {},
   "outputs": [
    {
     "data": {
      "text/plain": [
       "(33445,)"
      ]
     },
     "execution_count": 18,
     "metadata": {},
     "output_type": "execute_result"
    }
   ],
   "source": [
    "data_geo_notna.shape"
   ]
  },
  {
   "cell_type": "code",
   "execution_count": 19,
   "id": "f0dfa09d",
   "metadata": {},
   "outputs": [
    {
     "data": {
      "text/html": [
       "<div>\n",
       "<style scoped>\n",
       "    .dataframe tbody tr th:only-of-type {\n",
       "        vertical-align: middle;\n",
       "    }\n",
       "\n",
       "    .dataframe tbody tr th {\n",
       "        vertical-align: top;\n",
       "    }\n",
       "\n",
       "    .dataframe thead th {\n",
       "        text-align: right;\n",
       "    }\n",
       "</style>\n",
       "<table border=\"1\" class=\"dataframe\">\n",
       "  <thead>\n",
       "    <tr style=\"text-align: right;\">\n",
       "      <th></th>\n",
       "      <th>Geores</th>\n",
       "    </tr>\n",
       "  </thead>\n",
       "  <tbody>\n",
       "    <tr>\n",
       "      <th>1</th>\n",
       "      <td>48.732041,2.305533</td>\n",
       "    </tr>\n",
       "    <tr>\n",
       "      <th>2</th>\n",
       "      <td>49.017271,2.380653</td>\n",
       "    </tr>\n",
       "    <tr>\n",
       "      <th>3</th>\n",
       "      <td>48.868487,2.227684</td>\n",
       "    </tr>\n",
       "    <tr>\n",
       "      <th>4</th>\n",
       "      <td>45.762926,4.832648</td>\n",
       "    </tr>\n",
       "    <tr>\n",
       "      <th>5</th>\n",
       "      <td>48.703268,1.855354</td>\n",
       "    </tr>\n",
       "  </tbody>\n",
       "</table>\n",
       "</div>"
      ],
      "text/plain": [
       "               Geores\n",
       "1  48.732041,2.305533\n",
       "2  49.017271,2.380653\n",
       "3  48.868487,2.227684\n",
       "4  45.762926,4.832648\n",
       "5  48.703268,1.855354"
      ]
     },
     "execution_count": 19,
     "metadata": {},
     "output_type": "execute_result"
    }
   ],
   "source": [
    "data_geo_notna = pd.DataFrame(data_geo_notna)\n",
    "data_geo_notna.columns = ['Geores']\n",
    "data_geo_notna.head()"
   ]
  },
  {
   "cell_type": "code",
   "execution_count": 20,
   "id": "ce6b4ceb",
   "metadata": {},
   "outputs": [
    {
     "name": "stderr",
     "output_type": "stream",
     "text": [
      "100%|██████████| 33445/33445 [00:03<00:00, 10054.90it/s]\n"
     ]
    }
   ],
   "source": [
    "for i in   tqdm(data_geo_notna.index):\n",
    "    data_geo_notna['Geores'][i] = data_geo_notna['Geores'][i].split(',')"
   ]
  },
  {
   "cell_type": "code",
   "execution_count": 21,
   "id": "369bd7c1",
   "metadata": {},
   "outputs": [],
   "source": [
    "def lat_long(data):\n",
    "    lat_list = []\n",
    "    long_list = []\n",
    "    for j in  tqdm(data.index):\n",
    "        lat_list.append(data[\"Geores\"][j][0])\n",
    "        long_list.append(data[\"Geores\"][j][1])\n",
    "    #creation de variable longitude et latitude\n",
    "    data[\"Latitude\"] = lat_list\n",
    "    data['Longitude'] = long_list\n",
    "    #Changement de type en float\n",
    "    data['Latitude'] = data['Latitude'].astype('float')\n",
    "    data['Longitude'] = data['Longitude'].astype('float')\n",
    "    return data"
   ]
  },
  {
   "cell_type": "code",
   "execution_count": 22,
   "id": "99536f8b",
   "metadata": {},
   "outputs": [
    {
     "name": "stderr",
     "output_type": "stream",
     "text": [
      "100%|██████████| 33445/33445 [00:00<00:00, 45811.88it/s]\n"
     ]
    }
   ],
   "source": [
    "data_geo_notna = lat_long(data_geo_notna)"
   ]
  },
  {
   "cell_type": "code",
   "execution_count": 23,
   "id": "deaf8022",
   "metadata": {},
   "outputs": [
    {
     "data": {
      "text/html": [
       "<div>\n",
       "<style scoped>\n",
       "    .dataframe tbody tr th:only-of-type {\n",
       "        vertical-align: middle;\n",
       "    }\n",
       "\n",
       "    .dataframe tbody tr th {\n",
       "        vertical-align: top;\n",
       "    }\n",
       "\n",
       "    .dataframe thead th {\n",
       "        text-align: right;\n",
       "    }\n",
       "</style>\n",
       "<table border=\"1\" class=\"dataframe\">\n",
       "  <thead>\n",
       "    <tr style=\"text-align: right;\">\n",
       "      <th></th>\n",
       "      <th>Geores</th>\n",
       "      <th>Latitude</th>\n",
       "      <th>Longitude</th>\n",
       "    </tr>\n",
       "  </thead>\n",
       "  <tbody>\n",
       "    <tr>\n",
       "      <th>1</th>\n",
       "      <td>[48.732041, 2.305533]</td>\n",
       "      <td>48.732041</td>\n",
       "      <td>2.305533</td>\n",
       "    </tr>\n",
       "    <tr>\n",
       "      <th>2</th>\n",
       "      <td>[49.017271, 2.380653]</td>\n",
       "      <td>49.017271</td>\n",
       "      <td>2.380653</td>\n",
       "    </tr>\n",
       "    <tr>\n",
       "      <th>3</th>\n",
       "      <td>[48.868487, 2.227684]</td>\n",
       "      <td>48.868487</td>\n",
       "      <td>2.227684</td>\n",
       "    </tr>\n",
       "    <tr>\n",
       "      <th>4</th>\n",
       "      <td>[45.762926, 4.832648]</td>\n",
       "      <td>45.762926</td>\n",
       "      <td>4.832648</td>\n",
       "    </tr>\n",
       "    <tr>\n",
       "      <th>5</th>\n",
       "      <td>[48.703268, 1.855354]</td>\n",
       "      <td>48.703268</td>\n",
       "      <td>1.855354</td>\n",
       "    </tr>\n",
       "    <tr>\n",
       "      <th>...</th>\n",
       "      <td>...</td>\n",
       "      <td>...</td>\n",
       "      <td>...</td>\n",
       "    </tr>\n",
       "    <tr>\n",
       "      <th>34172</th>\n",
       "      <td>[46.299554, 4.897724]</td>\n",
       "      <td>46.299554</td>\n",
       "      <td>4.897724</td>\n",
       "    </tr>\n",
       "    <tr>\n",
       "      <th>34173</th>\n",
       "      <td>[48.835253, 2.3169]</td>\n",
       "      <td>48.835253</td>\n",
       "      <td>2.316900</td>\n",
       "    </tr>\n",
       "    <tr>\n",
       "      <th>34174</th>\n",
       "      <td>[46.553788, 5.671371]</td>\n",
       "      <td>46.553788</td>\n",
       "      <td>5.671371</td>\n",
       "    </tr>\n",
       "    <tr>\n",
       "      <th>34175</th>\n",
       "      <td>[45.612674, 4.046673]</td>\n",
       "      <td>45.612674</td>\n",
       "      <td>4.046673</td>\n",
       "    </tr>\n",
       "    <tr>\n",
       "      <th>34176</th>\n",
       "      <td>[44.6289, 5.520219]</td>\n",
       "      <td>44.628900</td>\n",
       "      <td>5.520219</td>\n",
       "    </tr>\n",
       "  </tbody>\n",
       "</table>\n",
       "<p>33445 rows × 3 columns</p>\n",
       "</div>"
      ],
      "text/plain": [
       "                      Geores   Latitude  Longitude\n",
       "1      [48.732041, 2.305533]  48.732041   2.305533\n",
       "2      [49.017271, 2.380653]  49.017271   2.380653\n",
       "3      [48.868487, 2.227684]  48.868487   2.227684\n",
       "4      [45.762926, 4.832648]  45.762926   4.832648\n",
       "5      [48.703268, 1.855354]  48.703268   1.855354\n",
       "...                      ...        ...        ...\n",
       "34172  [46.299554, 4.897724]  46.299554   4.897724\n",
       "34173    [48.835253, 2.3169]  48.835253   2.316900\n",
       "34174  [46.553788, 5.671371]  46.553788   5.671371\n",
       "34175  [45.612674, 4.046673]  45.612674   4.046673\n",
       "34176    [44.6289, 5.520219]  44.628900   5.520219\n",
       "\n",
       "[33445 rows x 3 columns]"
      ]
     },
     "execution_count": 23,
     "metadata": {},
     "output_type": "execute_result"
    }
   ],
   "source": [
    "data_geo_notna"
   ]
  },
  {
   "cell_type": "code",
   "execution_count": 24,
   "id": "fbb652a6",
   "metadata": {},
   "outputs": [],
   "source": [
    "data_geo_notna.drop([\"Geores\"], axis = 1, inplace = True)"
   ]
  },
  {
   "cell_type": "code",
   "execution_count": 25,
   "id": "93ad2212",
   "metadata": {},
   "outputs": [
    {
     "data": {
      "text/html": [
       "<div>\n",
       "<style scoped>\n",
       "    .dataframe tbody tr th:only-of-type {\n",
       "        vertical-align: middle;\n",
       "    }\n",
       "\n",
       "    .dataframe tbody tr th {\n",
       "        vertical-align: top;\n",
       "    }\n",
       "\n",
       "    .dataframe thead th {\n",
       "        text-align: right;\n",
       "    }\n",
       "</style>\n",
       "<table border=\"1\" class=\"dataframe\">\n",
       "  <thead>\n",
       "    <tr style=\"text-align: right;\">\n",
       "      <th></th>\n",
       "      <th>APP_Libelle_etablissement</th>\n",
       "      <th>SIRET</th>\n",
       "      <th>Code_postal</th>\n",
       "      <th>Libelle_commune</th>\n",
       "      <th>Numero_inspection</th>\n",
       "      <th>Date_inspection</th>\n",
       "      <th>APP_Libelle_activite_etablissement</th>\n",
       "      <th>Synthese_eval_sanit</th>\n",
       "      <th>geores</th>\n",
       "      <th>filtre</th>\n",
       "      <th>ods_type_activite</th>\n",
       "    </tr>\n",
       "  </thead>\n",
       "  <tbody>\n",
       "    <tr>\n",
       "      <th>0</th>\n",
       "      <td>DE CERGY NEUVILLE (SYND MIXTE D'ETUDE AMENA GE...</td>\n",
       "      <td>25950062700015</td>\n",
       "      <td>95800</td>\n",
       "      <td>CERGY</td>\n",
       "      <td>16527453</td>\n",
       "      <td>2022-07-13T02:00:00+02:00</td>\n",
       "      <td>_</td>\n",
       "      <td>A améliorer</td>\n",
       "      <td>NaN</td>\n",
       "      <td>NaN</td>\n",
       "      <td>Autres</td>\n",
       "    </tr>\n",
       "    <tr>\n",
       "      <th>1</th>\n",
       "      <td>CODIPEX (CONSORTIUM EUROPE ECHANG COMMERC INTE...</td>\n",
       "      <td>30009044600034</td>\n",
       "      <td>92160</td>\n",
       "      <td>ANTONY</td>\n",
       "      <td>16660788</td>\n",
       "      <td>2022-09-07T02:00:00+02:00</td>\n",
       "      <td>_</td>\n",
       "      <td>Très satisfaisant</td>\n",
       "      <td>48.732041,2.305533</td>\n",
       "      <td>NaN</td>\n",
       "      <td>Autres</td>\n",
       "    </tr>\n",
       "  </tbody>\n",
       "</table>\n",
       "</div>"
      ],
      "text/plain": [
       "                           APP_Libelle_etablissement           SIRET  \\\n",
       "0  DE CERGY NEUVILLE (SYND MIXTE D'ETUDE AMENA GE...  25950062700015   \n",
       "1  CODIPEX (CONSORTIUM EUROPE ECHANG COMMERC INTE...  30009044600034   \n",
       "\n",
       "  Code_postal Libelle_commune Numero_inspection            Date_inspection  \\\n",
       "0       95800           CERGY          16527453  2022-07-13T02:00:00+02:00   \n",
       "1       92160          ANTONY          16660788  2022-09-07T02:00:00+02:00   \n",
       "\n",
       "  APP_Libelle_activite_etablissement Synthese_eval_sanit              geores  \\\n",
       "0                                  _         A améliorer                 NaN   \n",
       "1                                  _   Très satisfaisant  48.732041,2.305533   \n",
       "\n",
       "  filtre ods_type_activite  \n",
       "0    NaN            Autres  \n",
       "1    NaN            Autres  "
      ]
     },
     "metadata": {},
     "output_type": "display_data"
    },
    {
     "data": {
      "text/html": [
       "<div>\n",
       "<style scoped>\n",
       "    .dataframe tbody tr th:only-of-type {\n",
       "        vertical-align: middle;\n",
       "    }\n",
       "\n",
       "    .dataframe tbody tr th {\n",
       "        vertical-align: top;\n",
       "    }\n",
       "\n",
       "    .dataframe thead th {\n",
       "        text-align: right;\n",
       "    }\n",
       "</style>\n",
       "<table border=\"1\" class=\"dataframe\">\n",
       "  <thead>\n",
       "    <tr style=\"text-align: right;\">\n",
       "      <th></th>\n",
       "      <th>Latitude</th>\n",
       "      <th>Longitude</th>\n",
       "    </tr>\n",
       "  </thead>\n",
       "  <tbody>\n",
       "    <tr>\n",
       "      <th>1</th>\n",
       "      <td>48.732041</td>\n",
       "      <td>2.305533</td>\n",
       "    </tr>\n",
       "    <tr>\n",
       "      <th>2</th>\n",
       "      <td>49.017271</td>\n",
       "      <td>2.380653</td>\n",
       "    </tr>\n",
       "  </tbody>\n",
       "</table>\n",
       "</div>"
      ],
      "text/plain": [
       "    Latitude  Longitude\n",
       "1  48.732041   2.305533\n",
       "2  49.017271   2.380653"
      ]
     },
     "metadata": {},
     "output_type": "display_data"
    }
   ],
   "source": [
    "display(data.head(2))\n",
    "display(data_geo_notna.head(2))"
   ]
  },
  {
   "cell_type": "code",
   "execution_count": 26,
   "id": "599bed19",
   "metadata": {},
   "outputs": [],
   "source": [
    "data = pd.concat( [data, data_geo_notna], axis = 1)"
   ]
  },
  {
   "cell_type": "code",
   "execution_count": 27,
   "id": "b5759a09",
   "metadata": {},
   "outputs": [
    {
     "data": {
      "text/html": [
       "<div>\n",
       "<style scoped>\n",
       "    .dataframe tbody tr th:only-of-type {\n",
       "        vertical-align: middle;\n",
       "    }\n",
       "\n",
       "    .dataframe tbody tr th {\n",
       "        vertical-align: top;\n",
       "    }\n",
       "\n",
       "    .dataframe thead th {\n",
       "        text-align: right;\n",
       "    }\n",
       "</style>\n",
       "<table border=\"1\" class=\"dataframe\">\n",
       "  <thead>\n",
       "    <tr style=\"text-align: right;\">\n",
       "      <th></th>\n",
       "      <th>APP_Libelle_etablissement</th>\n",
       "      <th>SIRET</th>\n",
       "      <th>Code_postal</th>\n",
       "      <th>Libelle_commune</th>\n",
       "      <th>Numero_inspection</th>\n",
       "      <th>Date_inspection</th>\n",
       "      <th>APP_Libelle_activite_etablissement</th>\n",
       "      <th>Synthese_eval_sanit</th>\n",
       "      <th>geores</th>\n",
       "      <th>filtre</th>\n",
       "      <th>ods_type_activite</th>\n",
       "      <th>Latitude</th>\n",
       "      <th>Longitude</th>\n",
       "    </tr>\n",
       "  </thead>\n",
       "  <tbody>\n",
       "    <tr>\n",
       "      <th>0</th>\n",
       "      <td>DE CERGY NEUVILLE (SYND MIXTE D'ETUDE AMENA GE...</td>\n",
       "      <td>25950062700015</td>\n",
       "      <td>95800</td>\n",
       "      <td>CERGY</td>\n",
       "      <td>16527453</td>\n",
       "      <td>2022-07-13T02:00:00+02:00</td>\n",
       "      <td>_</td>\n",
       "      <td>A améliorer</td>\n",
       "      <td>NaN</td>\n",
       "      <td>NaN</td>\n",
       "      <td>Autres</td>\n",
       "      <td>NaN</td>\n",
       "      <td>NaN</td>\n",
       "    </tr>\n",
       "    <tr>\n",
       "      <th>1</th>\n",
       "      <td>CODIPEX (CONSORTIUM EUROPE ECHANG COMMERC INTE...</td>\n",
       "      <td>30009044600034</td>\n",
       "      <td>92160</td>\n",
       "      <td>ANTONY</td>\n",
       "      <td>16660788</td>\n",
       "      <td>2022-09-07T02:00:00+02:00</td>\n",
       "      <td>_</td>\n",
       "      <td>Très satisfaisant</td>\n",
       "      <td>48.732041,2.305533</td>\n",
       "      <td>NaN</td>\n",
       "      <td>Autres</td>\n",
       "      <td>48.732041</td>\n",
       "      <td>2.305533</td>\n",
       "    </tr>\n",
       "  </tbody>\n",
       "</table>\n",
       "</div>"
      ],
      "text/plain": [
       "                           APP_Libelle_etablissement           SIRET  \\\n",
       "0  DE CERGY NEUVILLE (SYND MIXTE D'ETUDE AMENA GE...  25950062700015   \n",
       "1  CODIPEX (CONSORTIUM EUROPE ECHANG COMMERC INTE...  30009044600034   \n",
       "\n",
       "  Code_postal Libelle_commune Numero_inspection            Date_inspection  \\\n",
       "0       95800           CERGY          16527453  2022-07-13T02:00:00+02:00   \n",
       "1       92160          ANTONY          16660788  2022-09-07T02:00:00+02:00   \n",
       "\n",
       "  APP_Libelle_activite_etablissement Synthese_eval_sanit              geores  \\\n",
       "0                                  _         A améliorer                 NaN   \n",
       "1                                  _   Très satisfaisant  48.732041,2.305533   \n",
       "\n",
       "  filtre ods_type_activite   Latitude  Longitude  \n",
       "0    NaN            Autres        NaN        NaN  \n",
       "1    NaN            Autres  48.732041   2.305533  "
      ]
     },
     "execution_count": 27,
     "metadata": {},
     "output_type": "execute_result"
    }
   ],
   "source": [
    "data.head(2)"
   ]
  },
  {
   "cell_type": "markdown",
   "id": "a561b65c",
   "metadata": {},
   "source": [
    "## Imputation nan de Latt et Long\n",
    "Par la methode d'iterrative imputer nous allons traite les nan pour ces variables"
   ]
  },
  {
   "cell_type": "code",
   "execution_count": 28,
   "id": "ef22adf1",
   "metadata": {},
   "outputs": [
    {
     "data": {
      "text/plain": [
       "Latitude     -21.377503\n",
       "Longitude   -176.230404\n",
       "dtype: float64"
      ]
     },
     "execution_count": 28,
     "metadata": {},
     "output_type": "execute_result"
    }
   ],
   "source": [
    "data[['Latitude', 'Longitude']].min()"
   ]
  },
  {
   "cell_type": "code",
   "execution_count": 29,
   "id": "ade48e96",
   "metadata": {},
   "outputs": [],
   "source": [
    "lis_var = ['Latitude', 'Longitude']\n",
    "data_lat_long = data[lis_var]\n",
    "impute_median = IterativeImputer(initial_strategy =  'median', random_state = 5) # min_value = 0\n",
    "df_lat_long_imput = impute_median.fit_transform(data_lat_long)\n",
    "df_lat_long_imput = pd.DataFrame(df_lat_long_imput, columns = ['Latitude','Longitude' ])"
   ]
  },
  {
   "cell_type": "code",
   "execution_count": 30,
   "id": "90a3c776",
   "metadata": {},
   "outputs": [
    {
     "data": {
      "text/html": [
       "<div>\n",
       "<style scoped>\n",
       "    .dataframe tbody tr th:only-of-type {\n",
       "        vertical-align: middle;\n",
       "    }\n",
       "\n",
       "    .dataframe tbody tr th {\n",
       "        vertical-align: top;\n",
       "    }\n",
       "\n",
       "    .dataframe thead th {\n",
       "        text-align: right;\n",
       "    }\n",
       "</style>\n",
       "<table border=\"1\" class=\"dataframe\">\n",
       "  <thead>\n",
       "    <tr style=\"text-align: right;\">\n",
       "      <th></th>\n",
       "      <th>Latitude</th>\n",
       "      <th>Longitude</th>\n",
       "    </tr>\n",
       "  </thead>\n",
       "  <tbody>\n",
       "    <tr>\n",
       "      <th>0</th>\n",
       "      <td>45.883682</td>\n",
       "      <td>1.814627</td>\n",
       "    </tr>\n",
       "    <tr>\n",
       "      <th>1</th>\n",
       "      <td>48.732041</td>\n",
       "      <td>2.305533</td>\n",
       "    </tr>\n",
       "    <tr>\n",
       "      <th>2</th>\n",
       "      <td>49.017271</td>\n",
       "      <td>2.380653</td>\n",
       "    </tr>\n",
       "    <tr>\n",
       "      <th>3</th>\n",
       "      <td>48.868487</td>\n",
       "      <td>2.227684</td>\n",
       "    </tr>\n",
       "    <tr>\n",
       "      <th>4</th>\n",
       "      <td>45.762926</td>\n",
       "      <td>4.832648</td>\n",
       "    </tr>\n",
       "    <tr>\n",
       "      <th>...</th>\n",
       "      <td>...</td>\n",
       "      <td>...</td>\n",
       "    </tr>\n",
       "    <tr>\n",
       "      <th>34172</th>\n",
       "      <td>46.299554</td>\n",
       "      <td>4.897724</td>\n",
       "    </tr>\n",
       "    <tr>\n",
       "      <th>34173</th>\n",
       "      <td>48.835253</td>\n",
       "      <td>2.316900</td>\n",
       "    </tr>\n",
       "    <tr>\n",
       "      <th>34174</th>\n",
       "      <td>46.553788</td>\n",
       "      <td>5.671371</td>\n",
       "    </tr>\n",
       "    <tr>\n",
       "      <th>34175</th>\n",
       "      <td>45.612674</td>\n",
       "      <td>4.046673</td>\n",
       "    </tr>\n",
       "    <tr>\n",
       "      <th>34176</th>\n",
       "      <td>44.628900</td>\n",
       "      <td>5.520219</td>\n",
       "    </tr>\n",
       "  </tbody>\n",
       "</table>\n",
       "<p>34177 rows × 2 columns</p>\n",
       "</div>"
      ],
      "text/plain": [
       "        Latitude  Longitude\n",
       "0      45.883682   1.814627\n",
       "1      48.732041   2.305533\n",
       "2      49.017271   2.380653\n",
       "3      48.868487   2.227684\n",
       "4      45.762926   4.832648\n",
       "...          ...        ...\n",
       "34172  46.299554   4.897724\n",
       "34173  48.835253   2.316900\n",
       "34174  46.553788   5.671371\n",
       "34175  45.612674   4.046673\n",
       "34176  44.628900   5.520219\n",
       "\n",
       "[34177 rows x 2 columns]"
      ]
     },
     "execution_count": 30,
     "metadata": {},
     "output_type": "execute_result"
    }
   ],
   "source": [
    "df_lat_long_imput"
   ]
  },
  {
   "cell_type": "markdown",
   "id": "73999979",
   "metadata": {},
   "source": [
    "## Verification"
   ]
  },
  {
   "cell_type": "code",
   "execution_count": 31,
   "id": "e9bb4e4e",
   "metadata": {},
   "outputs": [
    {
     "name": "stdout",
     "output_type": "stream",
     "text": [
      "Pour la dimesion:\n"
     ]
    },
    {
     "data": {
      "text/plain": [
       "(34177, 2)"
      ]
     },
     "metadata": {},
     "output_type": "display_data"
    },
    {
     "name": "stdout",
     "output_type": "stream",
     "text": [
      "Pour les valeurs manquantes\n"
     ]
    },
    {
     "data": {
      "text/plain": [
       "Latitude     0\n",
       "Longitude    0\n",
       "dtype: int64"
      ]
     },
     "metadata": {},
     "output_type": "display_data"
    },
    {
     "name": "stdout",
     "output_type": "stream",
     "text": [
      "Pour les valeurs minimales\n"
     ]
    },
    {
     "data": {
      "text/plain": [
       "Latitude     -21.377503\n",
       "Longitude   -176.230404\n",
       "dtype: float64"
      ]
     },
     "metadata": {},
     "output_type": "display_data"
    },
    {
     "name": "stdout",
     "output_type": "stream",
     "text": [
      "Pour les valeurs maxmimales\n"
     ]
    },
    {
     "data": {
      "text/plain": [
       "Latitude     51.079032\n",
       "Longitude    55.805871\n",
       "dtype: float64"
      ]
     },
     "metadata": {},
     "output_type": "display_data"
    }
   ],
   "source": [
    "print(\"Pour la dimesion:\")\n",
    "display(df_lat_long_imput.shape)\n",
    "print(\"Pour les valeurs manquantes\")\n",
    "display(df_lat_long_imput.isna().sum())\n",
    "print(\"Pour les valeurs minimales\")\n",
    "display(df_lat_long_imput.min())\n",
    "print(\"Pour les valeurs maxmimales\")\n",
    "display(df_lat_long_imput.max())"
   ]
  },
  {
   "cell_type": "markdown",
   "id": "45f22b8e",
   "metadata": {},
   "source": [
    "## Actualisation"
   ]
  },
  {
   "cell_type": "code",
   "execution_count": 32,
   "id": "525fa653",
   "metadata": {},
   "outputs": [],
   "source": [
    "data_clean = data.copy()\n",
    "data_clean.drop(lis_var, axis =1, inplace = True)"
   ]
  },
  {
   "cell_type": "code",
   "execution_count": 33,
   "id": "30c16522",
   "metadata": {},
   "outputs": [],
   "source": [
    "data =  pd.concat([data_clean,df_lat_long_imput ], axis = 1)\n",
    "data.drop('geores', axis =1, inplace = True)"
   ]
  },
  {
   "cell_type": "code",
   "execution_count": 34,
   "id": "5f0d60b7",
   "metadata": {},
   "outputs": [
    {
     "data": {
      "text/html": [
       "<div>\n",
       "<style scoped>\n",
       "    .dataframe tbody tr th:only-of-type {\n",
       "        vertical-align: middle;\n",
       "    }\n",
       "\n",
       "    .dataframe tbody tr th {\n",
       "        vertical-align: top;\n",
       "    }\n",
       "\n",
       "    .dataframe thead th {\n",
       "        text-align: right;\n",
       "    }\n",
       "</style>\n",
       "<table border=\"1\" class=\"dataframe\">\n",
       "  <thead>\n",
       "    <tr style=\"text-align: right;\">\n",
       "      <th></th>\n",
       "      <th>APP_Libelle_etablissement</th>\n",
       "      <th>SIRET</th>\n",
       "      <th>Code_postal</th>\n",
       "      <th>Libelle_commune</th>\n",
       "      <th>Numero_inspection</th>\n",
       "      <th>Date_inspection</th>\n",
       "      <th>APP_Libelle_activite_etablissement</th>\n",
       "      <th>Synthese_eval_sanit</th>\n",
       "      <th>filtre</th>\n",
       "      <th>ods_type_activite</th>\n",
       "      <th>Latitude</th>\n",
       "      <th>Longitude</th>\n",
       "    </tr>\n",
       "  </thead>\n",
       "  <tbody>\n",
       "    <tr>\n",
       "      <th>0</th>\n",
       "      <td>DE CERGY NEUVILLE (SYND MIXTE D'ETUDE AMENA GE...</td>\n",
       "      <td>25950062700015</td>\n",
       "      <td>95800</td>\n",
       "      <td>CERGY</td>\n",
       "      <td>16527453</td>\n",
       "      <td>2022-07-13T02:00:00+02:00</td>\n",
       "      <td>_</td>\n",
       "      <td>A améliorer</td>\n",
       "      <td>NaN</td>\n",
       "      <td>Autres</td>\n",
       "      <td>45.883682</td>\n",
       "      <td>1.814627</td>\n",
       "    </tr>\n",
       "    <tr>\n",
       "      <th>1</th>\n",
       "      <td>CODIPEX (CONSORTIUM EUROPE ECHANG COMMERC INTE...</td>\n",
       "      <td>30009044600034</td>\n",
       "      <td>92160</td>\n",
       "      <td>ANTONY</td>\n",
       "      <td>16660788</td>\n",
       "      <td>2022-09-07T02:00:00+02:00</td>\n",
       "      <td>_</td>\n",
       "      <td>Très satisfaisant</td>\n",
       "      <td>NaN</td>\n",
       "      <td>Autres</td>\n",
       "      <td>48.732041</td>\n",
       "      <td>2.305533</td>\n",
       "    </tr>\n",
       "  </tbody>\n",
       "</table>\n",
       "</div>"
      ],
      "text/plain": [
       "                           APP_Libelle_etablissement           SIRET  \\\n",
       "0  DE CERGY NEUVILLE (SYND MIXTE D'ETUDE AMENA GE...  25950062700015   \n",
       "1  CODIPEX (CONSORTIUM EUROPE ECHANG COMMERC INTE...  30009044600034   \n",
       "\n",
       "  Code_postal Libelle_commune Numero_inspection            Date_inspection  \\\n",
       "0       95800           CERGY          16527453  2022-07-13T02:00:00+02:00   \n",
       "1       92160          ANTONY          16660788  2022-09-07T02:00:00+02:00   \n",
       "\n",
       "  APP_Libelle_activite_etablissement Synthese_eval_sanit filtre  \\\n",
       "0                                  _         A améliorer    NaN   \n",
       "1                                  _   Très satisfaisant    NaN   \n",
       "\n",
       "  ods_type_activite   Latitude  Longitude  \n",
       "0            Autres  45.883682   1.814627  \n",
       "1            Autres  48.732041   2.305533  "
      ]
     },
     "metadata": {},
     "output_type": "display_data"
    },
    {
     "data": {
      "text/plain": [
       "(34177, 12)"
      ]
     },
     "metadata": {},
     "output_type": "display_data"
    }
   ],
   "source": [
    "display(data.head(2))\n",
    "display(data.shape)"
   ]
  },
  {
   "cell_type": "markdown",
   "id": "536a7631",
   "metadata": {},
   "source": [
    "## <font color=\"red\" id=\"section_3_2\" > 3.2 Traitement valeurs manquantes : _Filtre_"
   ]
  },
  {
   "cell_type": "code",
   "execution_count": 35,
   "id": "f27d8548",
   "metadata": {},
   "outputs": [
    {
     "data": {
      "text/plain": [
       "0                            NaN\n",
       "1                            NaN\n",
       "2                            NaN\n",
       "3          Alimentation générale\n",
       "4                     Restaurant\n",
       "                  ...           \n",
       "34172                        NaN\n",
       "34173    Restauration collective\n",
       "34174                        NaN\n",
       "34175    Restauration collective\n",
       "34176                        NaN\n",
       "Name: filtre, Length: 34177, dtype: object"
      ]
     },
     "execution_count": 35,
     "metadata": {},
     "output_type": "execute_result"
    }
   ],
   "source": [
    "data[\"filtre\"]"
   ]
  },
  {
   "cell_type": "markdown",
   "id": "f881ad39",
   "metadata": {},
   "source": [
    "Pour cette variable catégorielle, nous allons simplement remplacer les **NaN** par **Unknown**."
   ]
  },
  {
   "cell_type": "code",
   "execution_count": 36,
   "id": "bd7a5077",
   "metadata": {},
   "outputs": [
    {
     "name": "stdout",
     "output_type": "stream",
     "text": [
      "Nombre de  valeurs uniques de APP_Libelle_etablissement est :  26959\n",
      "----------------------------------------------------------------------\n",
      "Nombre de  valeurs uniques de SIRET est :  30036\n",
      "----------------------------------------------------------------------\n",
      "Nombre de  valeurs uniques de Code_postal est :  5041\n",
      "----------------------------------------------------------------------\n",
      "Nombre de  valeurs uniques de Libelle_commune est :  8928\n",
      "----------------------------------------------------------------------\n",
      "Nombre de  valeurs uniques de Numero_inspection est :  34177\n",
      "----------------------------------------------------------------------\n",
      "Nombre de  valeurs uniques de Date_inspection est :  298\n",
      "----------------------------------------------------------------------\n",
      "Nombre de  valeurs uniques de APP_Libelle_activite_etablissement est :  154\n",
      "----------------------------------------------------------------------\n",
      "Nombre de  valeurs uniques de Synthese_eval_sanit est :  4\n",
      "----------------------------------------------------------------------\n",
      "Nombre de  valeurs uniques de filtre est :  101\n",
      "----------------------------------------------------------------------\n",
      "Nombre de  valeurs uniques de ods_type_activite est :  7\n",
      "----------------------------------------------------------------------\n",
      "Nombre de  valeurs uniques de Latitude est :  27874\n",
      "----------------------------------------------------------------------\n",
      "Nombre de  valeurs uniques de Longitude est :  27953\n",
      "----------------------------------------------------------------------\n"
     ]
    }
   ],
   "source": [
    "for col in data.columns:\n",
    "    print(\"Nombre de  valeurs uniques de\", col, \"est : \", data[col].nunique())\n",
    "    print(\"-\"*70)"
   ]
  },
  {
   "cell_type": "code",
   "execution_count": 54,
   "id": "18e5389d",
   "metadata": {},
   "outputs": [
    {
     "name": "stdout",
     "output_type": "stream",
     "text": [
      "Le nombre de modalités dans filtre, Unknown ,est :  9210\n",
      "----------------------------------------------------------------------------------------------------\n",
      "Le nombre de modalités dans filtre, Alimentation générale ,est :  212\n",
      "----------------------------------------------------------------------------------------------------\n",
      "Le nombre de modalités dans filtre, Restaurant ,est :  11692\n",
      "----------------------------------------------------------------------------------------------------\n",
      "Le nombre de modalités dans filtre, Boucherie-Charcuterie ,est :  1188\n",
      "----------------------------------------------------------------------------------------------------\n",
      "Le nombre de modalités dans filtre, Traiteur ,est :  319\n",
      "----------------------------------------------------------------------------------------------------\n",
      "Le nombre de modalités dans filtre, Boulangerie-Pâtisserie ,est :  565\n",
      "----------------------------------------------------------------------------------------------------\n",
      "Le nombre de modalités dans filtre, Rayon boucherie-charcuterie ,est :  261\n",
      "----------------------------------------------------------------------------------------------------\n",
      "Le nombre de modalités dans filtre, Rayon fruits & légumes ,est :  3\n",
      "----------------------------------------------------------------------------------------------------\n",
      "Le nombre de modalités dans filtre, Poissonnerie ,est :  238\n",
      "----------------------------------------------------------------------------------------------------\n",
      "Le nombre de modalités dans filtre, Chocolatier ,est :  10\n",
      "----------------------------------------------------------------------------------------------------\n",
      "Le nombre de modalités dans filtre, Rayon poissonnerie ,est :  211\n",
      "----------------------------------------------------------------------------------------------------\n",
      "Le nombre de modalités dans filtre, Restauration collective ,est :  7041\n",
      "----------------------------------------------------------------------------------------------------\n",
      "Le nombre de modalités dans filtre, Rayon pain/viennoiserie/pâtisserie ,est :  63\n",
      "----------------------------------------------------------------------------------------------------\n",
      "Le nombre de modalités dans filtre, Producteur fermier ,est :  1575\n",
      "----------------------------------------------------------------------------------------------------\n",
      "Le nombre de modalités dans filtre, Primeur ,est :  2\n",
      "----------------------------------------------------------------------------------------------------\n",
      "Le nombre de modalités dans filtre, Rayon traiteur ,est :  30\n",
      "----------------------------------------------------------------------------------------------------\n",
      "Le nombre de modalités dans filtre, Fromagerie|Alimentation générale|Boucherie-Charcuterie ,est :  5\n",
      "----------------------------------------------------------------------------------------------------\n",
      "Le nombre de modalités dans filtre, Fromagerie|Boucherie-Charcuterie ,est :  48\n",
      "----------------------------------------------------------------------------------------------------\n",
      "Le nombre de modalités dans filtre, Fromagerie ,est :  85\n",
      "----------------------------------------------------------------------------------------------------\n",
      "Le nombre de modalités dans filtre, Libre service|Alimentation générale ,est :  377\n",
      "----------------------------------------------------------------------------------------------------\n",
      "Le nombre de modalités dans filtre, Traiteur|Boucherie-Charcuterie ,est :  280\n",
      "----------------------------------------------------------------------------------------------------\n",
      "Le nombre de modalités dans filtre, Libre service|Rayon poissonnerie ,est :  2\n",
      "----------------------------------------------------------------------------------------------------\n",
      "Le nombre de modalités dans filtre, Boulangerie-Pâtisserie|Traiteur ,est :  35\n",
      "----------------------------------------------------------------------------------------------------\n",
      "Le nombre de modalités dans filtre, Alimentation générale|Poissonnerie|Traiteur ,est :  1\n",
      "----------------------------------------------------------------------------------------------------\n",
      "Le nombre de modalités dans filtre, Poissonnerie|Traiteur ,est :  10\n",
      "----------------------------------------------------------------------------------------------------\n",
      "Le nombre de modalités dans filtre, Libre service ,est :  359\n",
      "----------------------------------------------------------------------------------------------------\n",
      "Le nombre de modalités dans filtre, Chocolatier|Boulangerie-Pâtisserie|Glacier ,est :  2\n",
      "----------------------------------------------------------------------------------------------------\n",
      "Le nombre de modalités dans filtre, Rayon fromagerie ,est :  27\n",
      "----------------------------------------------------------------------------------------------------\n",
      "Le nombre de modalités dans filtre, Rayon poissonnerie|Rayon fromagerie|Rayon boucherie-charcuterie ,est :  12\n",
      "----------------------------------------------------------------------------------------------------\n",
      "Le nombre de modalités dans filtre, Fromagerie|Alimentation générale ,est :  10\n",
      "----------------------------------------------------------------------------------------------------\n",
      "Le nombre de modalités dans filtre, Fromagerie|Traiteur|Boucherie-Charcuterie ,est :  10\n",
      "----------------------------------------------------------------------------------------------------\n",
      "Le nombre de modalités dans filtre, Rayon traiteur|Rayon boucherie-charcuterie ,est :  34\n",
      "----------------------------------------------------------------------------------------------------\n",
      "Le nombre de modalités dans filtre, Libre service|Rayon fromagerie|Rayon boucherie-charcuterie ,est :  2\n",
      "----------------------------------------------------------------------------------------------------\n",
      "Le nombre de modalités dans filtre, Chocolatier|Boulangerie-Pâtisserie ,est :  6\n",
      "----------------------------------------------------------------------------------------------------\n",
      "Le nombre de modalités dans filtre, Libre service|Rayon poissonnerie|Rayon fromagerie|Rayon traiteur|Rayon boucherie-charcuterie ,est :  3\n",
      "----------------------------------------------------------------------------------------------------\n",
      "Le nombre de modalités dans filtre, Rayon poissonnerie|Rayon fromagerie|Rayon traiteur|Rayon pain/viennoiserie/pâtisserie|Rayon boucherie-charcuterie ,est :  5\n",
      "----------------------------------------------------------------------------------------------------\n",
      "Le nombre de modalités dans filtre, Rayon poissonnerie|Rayon boucherie-charcuterie ,est :  8\n",
      "----------------------------------------------------------------------------------------------------\n",
      "Le nombre de modalités dans filtre, Rayon fromagerie|Rayon boucherie-charcuterie ,est :  14\n",
      "----------------------------------------------------------------------------------------------------\n",
      "Le nombre de modalités dans filtre, Rayon traiteur|Rayon pain/viennoiserie/pâtisserie|Rayon boucherie-charcuterie ,est :  4\n",
      "----------------------------------------------------------------------------------------------------\n",
      "Le nombre de modalités dans filtre, Alimentation générale|Boulangerie-Pâtisserie ,est :  14\n",
      "----------------------------------------------------------------------------------------------------\n",
      "Le nombre de modalités dans filtre, Alimentation générale|Boucherie-Charcuterie ,est :  39\n",
      "----------------------------------------------------------------------------------------------------\n",
      "Le nombre de modalités dans filtre, Libre service|Alimentation générale|Rayon traiteur|Rayon boucherie-charcuterie ,est :  2\n",
      "----------------------------------------------------------------------------------------------------\n",
      "Le nombre de modalités dans filtre, Glacier ,est :  26\n",
      "----------------------------------------------------------------------------------------------------\n",
      "Le nombre de modalités dans filtre, Fromagerie|Libre service|Alimentation générale|Traiteur|Boucherie-Charcuterie ,est :  2\n",
      "----------------------------------------------------------------------------------------------------\n",
      "Le nombre de modalités dans filtre, Rayon fromagerie|Rayon pain/viennoiserie/pâtisserie|Rayon boucherie-charcuterie ,est :  1\n",
      "----------------------------------------------------------------------------------------------------\n",
      "Le nombre de modalités dans filtre, Alimentation générale|Traiteur ,est :  17\n",
      "----------------------------------------------------------------------------------------------------\n",
      "Le nombre de modalités dans filtre, Fromagerie|Boulangerie-Pâtisserie|Traiteur ,est :  1\n",
      "----------------------------------------------------------------------------------------------------\n",
      "Le nombre de modalités dans filtre, Rayon fromagerie|Rayon traiteur|Rayon boucherie-charcuterie ,est :  8\n",
      "----------------------------------------------------------------------------------------------------\n",
      "Le nombre de modalités dans filtre, Libre service|Alimentation générale|Rayon boucherie-charcuterie ,est :  3\n",
      "----------------------------------------------------------------------------------------------------\n",
      "Le nombre de modalités dans filtre, Fromagerie|Libre service|Alimentation générale|Boucherie-Charcuterie ,est :  4\n",
      "----------------------------------------------------------------------------------------------------\n",
      "Le nombre de modalités dans filtre, Fromagerie|Libre service|Alimentation générale|Poissonnerie|Traiteur|Boucherie-Charcuterie ,est :  1\n",
      "----------------------------------------------------------------------------------------------------\n",
      "Le nombre de modalités dans filtre, Libre service|Alimentation générale|Traiteur ,est :  3\n",
      "----------------------------------------------------------------------------------------------------\n",
      "Le nombre de modalités dans filtre, Rayon poissonnerie|Rayon fromagerie|Rayon traiteur|Rayon boucherie-charcuterie ,est :  5\n",
      "----------------------------------------------------------------------------------------------------\n",
      "Le nombre de modalités dans filtre, Boulangerie-Pâtisserie|Glacier ,est :  3\n",
      "----------------------------------------------------------------------------------------------------\n",
      "Le nombre de modalités dans filtre, Libre service|Traiteur|Boucherie-Charcuterie ,est :  1\n",
      "----------------------------------------------------------------------------------------------------\n",
      "Le nombre de modalités dans filtre, Fromagerie|Alimentation générale|Traiteur|Boucherie-Charcuterie ,est :  2\n",
      "----------------------------------------------------------------------------------------------------\n",
      "Le nombre de modalités dans filtre, Alimentation générale|Boulangerie-Pâtisserie|Traiteur ,est :  1\n",
      "----------------------------------------------------------------------------------------------------\n",
      "Le nombre de modalités dans filtre, Libre service|Rayon poissonnerie|Rayon fromagerie|Rayon boucherie-charcuterie ,est :  5\n",
      "----------------------------------------------------------------------------------------------------\n",
      "Le nombre de modalités dans filtre, Alimentation générale|Poissonnerie ,est :  6\n",
      "----------------------------------------------------------------------------------------------------\n",
      "Le nombre de modalités dans filtre, Libre service|Alimentation générale|Boucherie-Charcuterie ,est :  6\n",
      "----------------------------------------------------------------------------------------------------\n",
      "Le nombre de modalités dans filtre, Alimentation générale|Traiteur|Boucherie-Charcuterie ,est :  1\n",
      "----------------------------------------------------------------------------------------------------\n",
      "Le nombre de modalités dans filtre, Rayon poissonnerie|Rayon fromagerie|Rayon pain/viennoiserie/pâtisserie|Rayon boucherie-charcuterie ,est :  1\n",
      "----------------------------------------------------------------------------------------------------\n",
      "Le nombre de modalités dans filtre, Libre service|Rayon boucherie-charcuterie ,est :  4\n",
      "----------------------------------------------------------------------------------------------------\n",
      "Le nombre de modalités dans filtre, Libre service|Alimentation générale|Poissonnerie|Boucherie-Charcuterie ,est :  1\n",
      "----------------------------------------------------------------------------------------------------\n",
      "Le nombre de modalités dans filtre, Rayon poissonnerie|Rayon traiteur ,est :  1\n",
      "----------------------------------------------------------------------------------------------------\n",
      "Le nombre de modalités dans filtre, Rayon poissonnerie|Rayon fromagerie|Rayon traiteur ,est :  1\n",
      "----------------------------------------------------------------------------------------------------\n",
      "Le nombre de modalités dans filtre, Libre service|Rayon fromagerie|Alimentation générale|Rayon traiteur|Rayon pain/viennoiserie/pâtisserie ,est :  1\n",
      "----------------------------------------------------------------------------------------------------\n",
      "Le nombre de modalités dans filtre, Rayon poissonnerie|Rayon traiteur|Rayon boucherie-charcuterie ,est :  2\n",
      "----------------------------------------------------------------------------------------------------\n",
      "Le nombre de modalités dans filtre, Alimentation générale|Rayon boucherie-charcuterie ,est :  2\n",
      "----------------------------------------------------------------------------------------------------\n",
      "Le nombre de modalités dans filtre, Fromagerie|Libre service|Alimentation générale ,est :  2\n",
      "----------------------------------------------------------------------------------------------------\n"
     ]
    },
    {
     "name": "stdout",
     "output_type": "stream",
     "text": [
      "Le nombre de modalités dans filtre, Libre service|Alimentation générale|Poissonnerie ,est :  1\n",
      "----------------------------------------------------------------------------------------------------\n",
      "Le nombre de modalités dans filtre, Poissonnerie|Traiteur|Boucherie-Charcuterie ,est :  1\n",
      "----------------------------------------------------------------------------------------------------\n",
      "Le nombre de modalités dans filtre, Libre service|Alimentation générale|Boulangerie-Pâtisserie ,est :  3\n",
      "----------------------------------------------------------------------------------------------------\n",
      "Le nombre de modalités dans filtre, Rayon fromagerie|Rayon traiteur ,est :  2\n",
      "----------------------------------------------------------------------------------------------------\n",
      "Le nombre de modalités dans filtre, Fromagerie|Traiteur ,est :  1\n",
      "----------------------------------------------------------------------------------------------------\n",
      "Le nombre de modalités dans filtre, Fromagerie|Libre service|Boucherie-Charcuterie ,est :  1\n",
      "----------------------------------------------------------------------------------------------------\n",
      "Le nombre de modalités dans filtre, Chocolatier|Boulangerie-Pâtisserie|Traiteur|Boucherie-Charcuterie ,est :  1\n",
      "----------------------------------------------------------------------------------------------------\n",
      "Le nombre de modalités dans filtre, Boulangerie-Pâtisserie|Traiteur|Boucherie-Charcuterie ,est :  1\n",
      "----------------------------------------------------------------------------------------------------\n",
      "Le nombre de modalités dans filtre, Rayon traiteur|Rayon pain/viennoiserie/pâtisserie ,est :  3\n",
      "----------------------------------------------------------------------------------------------------\n",
      "Le nombre de modalités dans filtre, Rayon poissonnerie|Rayon fromagerie ,est :  2\n",
      "----------------------------------------------------------------------------------------------------\n",
      "Le nombre de modalités dans filtre, Chocolatier|Boulangerie-Pâtisserie|Traiteur ,est :  1\n",
      "----------------------------------------------------------------------------------------------------\n",
      "Le nombre de modalités dans filtre, Libre service|Rayon traiteur ,est :  3\n",
      "----------------------------------------------------------------------------------------------------\n",
      "Le nombre de modalités dans filtre, Fromagerie|Libre service|Alimentation générale|Boulangerie-Pâtisserie|Poissonnerie|Boucherie-Charcuterie ,est :  1\n",
      "----------------------------------------------------------------------------------------------------\n",
      "Le nombre de modalités dans filtre, Libre service|Rayon fromagerie|Rayon traiteur|Rayon boucherie-charcuterie ,est :  1\n",
      "----------------------------------------------------------------------------------------------------\n",
      "Le nombre de modalités dans filtre, Alimentation générale|Boulangerie-Pâtisserie|Boucherie-Charcuterie ,est :  1\n",
      "----------------------------------------------------------------------------------------------------\n",
      "Le nombre de modalités dans filtre, Libre service|Rayon poissonnerie|Rayon fromagerie|Rayon pain/viennoiserie/pâtisserie|Rayon boucherie-charcuterie ,est :  2\n",
      "----------------------------------------------------------------------------------------------------\n",
      "Le nombre de modalités dans filtre, Rayon poissonnerie|Rayon pain/viennoiserie/pâtisserie|Rayon boucherie-charcuterie ,est :  2\n",
      "----------------------------------------------------------------------------------------------------\n",
      "Le nombre de modalités dans filtre, Libre service|Rayon poissonnerie|Rayon fromagerie|Rayon traiteur|Rayon pain/viennoiserie/pâtisserie|Rayon boucherie-charcuterie ,est :  3\n",
      "----------------------------------------------------------------------------------------------------\n",
      "Le nombre de modalités dans filtre, Rayon poissonnerie|Rayon traiteur|Rayon pain/viennoiserie/pâtisserie|Rayon boucherie-charcuterie ,est :  4\n",
      "----------------------------------------------------------------------------------------------------\n",
      "Le nombre de modalités dans filtre, Boulangerie-Pâtisserie|Boucherie-Charcuterie ,est :  2\n",
      "----------------------------------------------------------------------------------------------------\n",
      "Le nombre de modalités dans filtre, Alimentation générale|Rayon pain/viennoiserie/pâtisserie ,est :  2\n",
      "----------------------------------------------------------------------------------------------------\n",
      "Le nombre de modalités dans filtre, Fromagerie|Alimentation générale|Boulangerie-Pâtisserie|Glacier|Boucherie-Charcuterie ,est :  1\n",
      "----------------------------------------------------------------------------------------------------\n",
      "Le nombre de modalités dans filtre, Libre service|Rayon poissonnerie|Rayon traiteur|Rayon pain/viennoiserie/pâtisserie|Rayon boucherie-charcuterie ,est :  1\n",
      "----------------------------------------------------------------------------------------------------\n",
      "Le nombre de modalités dans filtre, Alimentation générale|Poissonnerie|Boucherie-Charcuterie ,est :  1\n",
      "----------------------------------------------------------------------------------------------------\n",
      "Le nombre de modalités dans filtre, Poissonnerie|Boucherie-Charcuterie ,est :  3\n",
      "----------------------------------------------------------------------------------------------------\n",
      "Le nombre de modalités dans filtre, Libre service|Alimentation générale|Rayon pain/viennoiserie/pâtisserie ,est :  1\n",
      "----------------------------------------------------------------------------------------------------\n",
      "Le nombre de modalités dans filtre, Libre service|Rayon fromagerie|Alimentation générale|Rayon traiteur|Rayon boucherie-charcuterie ,est :  1\n",
      "----------------------------------------------------------------------------------------------------\n",
      "Le nombre de modalités dans filtre, Alimentation générale|Rayon traiteur ,est :  1\n",
      "----------------------------------------------------------------------------------------------------\n",
      "Le nombre de modalités dans filtre, Libre service|Rayon poissonnerie|Rayon boucherie-charcuterie ,est :  2\n",
      "----------------------------------------------------------------------------------------------------\n",
      "Le nombre de modalités dans filtre, Libre service|Alimentation générale|Traiteur|Boucherie-Charcuterie ,est :  1\n",
      "----------------------------------------------------------------------------------------------------\n",
      "Le nombre de modalités dans filtre, Fromagerie|Alimentation générale|Boulangerie-Pâtisserie|Traiteur ,est :  1\n",
      "----------------------------------------------------------------------------------------------------\n",
      "Le nombre de modalités dans filtre, Libre service|Rayon poissonnerie|Rayon traiteur|Rayon boucherie-charcuterie ,est :  1\n",
      "----------------------------------------------------------------------------------------------------\n"
     ]
    }
   ],
   "source": [
    "for mod in data.filtre.unique():\n",
    "    print(\"Le nombre de modalités dans filtre,\",mod,\",est : \",len((data[data[\"filtre\"]==mod])))\n",
    "    print(\"-\"*100)"
   ]
  },
  {
   "cell_type": "code",
   "execution_count": 38,
   "id": "b21fbb87",
   "metadata": {},
   "outputs": [
    {
     "data": {
      "text/plain": [
       "9210"
      ]
     },
     "execution_count": 38,
     "metadata": {},
     "output_type": "execute_result"
    }
   ],
   "source": [
    "data[\"filtre\"].isna().sum()"
   ]
  },
  {
   "cell_type": "code",
   "execution_count": 40,
   "id": "835b93f4",
   "metadata": {},
   "outputs": [],
   "source": [
    "data[\"filtre\"].fillna(\"Unknown\", inplace = True)"
   ]
  },
  {
   "cell_type": "code",
   "execution_count": 41,
   "id": "a3f2792c",
   "metadata": {},
   "outputs": [
    {
     "data": {
      "text/plain": [
       "0                        Unknown\n",
       "1                        Unknown\n",
       "2                        Unknown\n",
       "3          Alimentation générale\n",
       "4                     Restaurant\n",
       "                  ...           \n",
       "34172                    Unknown\n",
       "34173    Restauration collective\n",
       "34174                    Unknown\n",
       "34175    Restauration collective\n",
       "34176                    Unknown\n",
       "Name: filtre, Length: 34177, dtype: object"
      ]
     },
     "execution_count": 41,
     "metadata": {},
     "output_type": "execute_result"
    }
   ],
   "source": [
    "data[\"filtre\"]"
   ]
  },
  {
   "cell_type": "markdown",
   "id": "92a8ab10",
   "metadata": {},
   "source": [
    "## <font color=\"red\" id=\"section_4\" > 4. Selection variable pertinentes"
   ]
  },
  {
   "cell_type": "code",
   "execution_count": 63,
   "id": "396fcec1",
   "metadata": {},
   "outputs": [],
   "source": [
    "lis_var_pert = ['APP_Libelle_etablissement','Code_postal', 'Libelle_commune',\n",
    "                 'Synthese_eval_sanit', \"filtre\", \"ods_type_activite\", \"Latitude\", \"Longitude\" ]"
   ]
  },
  {
   "cell_type": "code",
   "execution_count": 64,
   "id": "0d176852",
   "metadata": {},
   "outputs": [
    {
     "data": {
      "text/html": [
       "<div>\n",
       "<style scoped>\n",
       "    .dataframe tbody tr th:only-of-type {\n",
       "        vertical-align: middle;\n",
       "    }\n",
       "\n",
       "    .dataframe tbody tr th {\n",
       "        vertical-align: top;\n",
       "    }\n",
       "\n",
       "    .dataframe thead th {\n",
       "        text-align: right;\n",
       "    }\n",
       "</style>\n",
       "<table border=\"1\" class=\"dataframe\">\n",
       "  <thead>\n",
       "    <tr style=\"text-align: right;\">\n",
       "      <th></th>\n",
       "      <th>APP_Libelle_etablissement</th>\n",
       "      <th>Code_postal</th>\n",
       "      <th>Libelle_commune</th>\n",
       "      <th>Synthese_eval_sanit</th>\n",
       "      <th>filtre</th>\n",
       "      <th>ods_type_activite</th>\n",
       "      <th>Latitude</th>\n",
       "      <th>Longitude</th>\n",
       "    </tr>\n",
       "  </thead>\n",
       "  <tbody>\n",
       "    <tr>\n",
       "      <th>0</th>\n",
       "      <td>DE CERGY NEUVILLE (SYND MIXTE D'ETUDE AMENA GE...</td>\n",
       "      <td>95800</td>\n",
       "      <td>CERGY</td>\n",
       "      <td>A améliorer</td>\n",
       "      <td>Unknown</td>\n",
       "      <td>Autres</td>\n",
       "      <td>45.883682</td>\n",
       "      <td>1.814627</td>\n",
       "    </tr>\n",
       "    <tr>\n",
       "      <th>1</th>\n",
       "      <td>CODIPEX (CONSORTIUM EUROPE ECHANG COMMERC INTE...</td>\n",
       "      <td>92160</td>\n",
       "      <td>ANTONY</td>\n",
       "      <td>Très satisfaisant</td>\n",
       "      <td>Unknown</td>\n",
       "      <td>Autres</td>\n",
       "      <td>48.732041</td>\n",
       "      <td>2.305533</td>\n",
       "    </tr>\n",
       "  </tbody>\n",
       "</table>\n",
       "</div>"
      ],
      "text/plain": [
       "                           APP_Libelle_etablissement Code_postal  \\\n",
       "0  DE CERGY NEUVILLE (SYND MIXTE D'ETUDE AMENA GE...       95800   \n",
       "1  CODIPEX (CONSORTIUM EUROPE ECHANG COMMERC INTE...       92160   \n",
       "\n",
       "  Libelle_commune Synthese_eval_sanit   filtre ods_type_activite   Latitude  \\\n",
       "0           CERGY         A améliorer  Unknown            Autres  45.883682   \n",
       "1          ANTONY   Très satisfaisant  Unknown            Autres  48.732041   \n",
       "\n",
       "   Longitude  \n",
       "0   1.814627  \n",
       "1   2.305533  "
      ]
     },
     "metadata": {},
     "output_type": "display_data"
    },
    {
     "data": {
      "text/plain": [
       "(34177, 8)"
      ]
     },
     "metadata": {},
     "output_type": "display_data"
    }
   ],
   "source": [
    "data_selct =  data[lis_var_pert]\n",
    "display(data_selct.head(2))\n",
    "display(data_selct.shape)"
   ]
  },
  {
   "cell_type": "code",
   "execution_count": 65,
   "id": "6c54e169",
   "metadata": {},
   "outputs": [
    {
     "data": {
      "text/html": [
       "<div>\n",
       "<style scoped>\n",
       "    .dataframe tbody tr th:only-of-type {\n",
       "        vertical-align: middle;\n",
       "    }\n",
       "\n",
       "    .dataframe tbody tr th {\n",
       "        vertical-align: top;\n",
       "    }\n",
       "\n",
       "    .dataframe thead th {\n",
       "        text-align: right;\n",
       "    }\n",
       "</style>\n",
       "<table border=\"1\" class=\"dataframe\">\n",
       "  <thead>\n",
       "    <tr style=\"text-align: right;\">\n",
       "      <th></th>\n",
       "      <th>Taux_remplissage</th>\n",
       "      <th>Valeurs manquantes</th>\n",
       "    </tr>\n",
       "  </thead>\n",
       "  <tbody>\n",
       "    <tr>\n",
       "      <th>APP_Libelle_etablissement</th>\n",
       "      <td>100.0</td>\n",
       "      <td>0</td>\n",
       "    </tr>\n",
       "    <tr>\n",
       "      <th>Code_postal</th>\n",
       "      <td>100.0</td>\n",
       "      <td>0</td>\n",
       "    </tr>\n",
       "    <tr>\n",
       "      <th>Libelle_commune</th>\n",
       "      <td>100.0</td>\n",
       "      <td>0</td>\n",
       "    </tr>\n",
       "    <tr>\n",
       "      <th>Synthese_eval_sanit</th>\n",
       "      <td>100.0</td>\n",
       "      <td>0</td>\n",
       "    </tr>\n",
       "    <tr>\n",
       "      <th>filtre</th>\n",
       "      <td>100.0</td>\n",
       "      <td>0</td>\n",
       "    </tr>\n",
       "    <tr>\n",
       "      <th>ods_type_activite</th>\n",
       "      <td>100.0</td>\n",
       "      <td>0</td>\n",
       "    </tr>\n",
       "    <tr>\n",
       "      <th>Latitude</th>\n",
       "      <td>100.0</td>\n",
       "      <td>0</td>\n",
       "    </tr>\n",
       "    <tr>\n",
       "      <th>Longitude</th>\n",
       "      <td>100.0</td>\n",
       "      <td>0</td>\n",
       "    </tr>\n",
       "  </tbody>\n",
       "</table>\n",
       "</div>"
      ],
      "text/plain": [
       "                           Taux_remplissage  Valeurs manquantes\n",
       "APP_Libelle_etablissement             100.0                   0\n",
       "Code_postal                           100.0                   0\n",
       "Libelle_commune                       100.0                   0\n",
       "Synthese_eval_sanit                   100.0                   0\n",
       "filtre                                100.0                   0\n",
       "ods_type_activite                     100.0                   0\n",
       "Latitude                              100.0                   0\n",
       "Longitude                             100.0                   0"
      ]
     },
     "execution_count": 65,
     "metadata": {},
     "output_type": "execute_result"
    }
   ],
   "source": [
    "rech_nan(data_selct)"
   ]
  },
  {
   "cell_type": "markdown",
   "id": "a58a59dd",
   "metadata": {},
   "source": [
    "## <font color=\"red\" id=\"section_5\" > 5. Description statistique et distribution"
   ]
  },
  {
   "cell_type": "code",
   "execution_count": 66,
   "id": "57704c0d",
   "metadata": {},
   "outputs": [
    {
     "data": {
      "text/html": [
       "<div>\n",
       "<style scoped>\n",
       "    .dataframe tbody tr th:only-of-type {\n",
       "        vertical-align: middle;\n",
       "    }\n",
       "\n",
       "    .dataframe tbody tr th {\n",
       "        vertical-align: top;\n",
       "    }\n",
       "\n",
       "    .dataframe thead th {\n",
       "        text-align: right;\n",
       "    }\n",
       "</style>\n",
       "<table border=\"1\" class=\"dataframe\">\n",
       "  <thead>\n",
       "    <tr style=\"text-align: right;\">\n",
       "      <th></th>\n",
       "      <th>count</th>\n",
       "      <th>unique</th>\n",
       "      <th>top</th>\n",
       "      <th>freq</th>\n",
       "    </tr>\n",
       "  </thead>\n",
       "  <tbody>\n",
       "    <tr>\n",
       "      <th>APP_Libelle_etablissement</th>\n",
       "      <td>34177</td>\n",
       "      <td>26959</td>\n",
       "      <td>ECOLE PRIMAIRE PUBLIQUE</td>\n",
       "      <td>140</td>\n",
       "    </tr>\n",
       "    <tr>\n",
       "      <th>Code_postal</th>\n",
       "      <td>34177</td>\n",
       "      <td>5041</td>\n",
       "      <td>75015</td>\n",
       "      <td>629</td>\n",
       "    </tr>\n",
       "    <tr>\n",
       "      <th>Libelle_commune</th>\n",
       "      <td>34177</td>\n",
       "      <td>8928</td>\n",
       "      <td>Paris 15e  Arrondissement</td>\n",
       "      <td>619</td>\n",
       "    </tr>\n",
       "    <tr>\n",
       "      <th>Synthese_eval_sanit</th>\n",
       "      <td>34177</td>\n",
       "      <td>4</td>\n",
       "      <td>Satisfaisant</td>\n",
       "      <td>18467</td>\n",
       "    </tr>\n",
       "    <tr>\n",
       "      <th>filtre</th>\n",
       "      <td>34177</td>\n",
       "      <td>102</td>\n",
       "      <td>Restaurant</td>\n",
       "      <td>11692</td>\n",
       "    </tr>\n",
       "    <tr>\n",
       "      <th>ods_type_activite</th>\n",
       "      <td>34177</td>\n",
       "      <td>7</td>\n",
       "      <td>Autres</td>\n",
       "      <td>25538</td>\n",
       "    </tr>\n",
       "  </tbody>\n",
       "</table>\n",
       "</div>"
      ],
      "text/plain": [
       "                           count unique                        top   freq\n",
       "APP_Libelle_etablissement  34177  26959    ECOLE PRIMAIRE PUBLIQUE    140\n",
       "Code_postal                34177   5041                      75015    629\n",
       "Libelle_commune            34177   8928  Paris 15e  Arrondissement    619\n",
       "Synthese_eval_sanit        34177      4               Satisfaisant  18467\n",
       "filtre                     34177    102                 Restaurant  11692\n",
       "ods_type_activite          34177      7                     Autres  25538"
      ]
     },
     "execution_count": 66,
     "metadata": {},
     "output_type": "execute_result"
    }
   ],
   "source": [
    "data_selct.select_dtypes('object').describe().T"
   ]
  },
  {
   "cell_type": "code",
   "execution_count": 67,
   "id": "c4829e65",
   "metadata": {},
   "outputs": [
    {
     "data": {
      "text/html": [
       "<div>\n",
       "<style scoped>\n",
       "    .dataframe tbody tr th:only-of-type {\n",
       "        vertical-align: middle;\n",
       "    }\n",
       "\n",
       "    .dataframe tbody tr th {\n",
       "        vertical-align: top;\n",
       "    }\n",
       "\n",
       "    .dataframe thead th {\n",
       "        text-align: right;\n",
       "    }\n",
       "</style>\n",
       "<table border=\"1\" class=\"dataframe\">\n",
       "  <thead>\n",
       "    <tr style=\"text-align: right;\">\n",
       "      <th></th>\n",
       "      <th>count</th>\n",
       "      <th>mean</th>\n",
       "      <th>std</th>\n",
       "      <th>min</th>\n",
       "      <th>25%</th>\n",
       "      <th>50%</th>\n",
       "      <th>75%</th>\n",
       "      <th>max</th>\n",
       "    </tr>\n",
       "  </thead>\n",
       "  <tbody>\n",
       "    <tr>\n",
       "      <th>Latitude</th>\n",
       "      <td>34177.0</td>\n",
       "      <td>45.882262</td>\n",
       "      <td>7.766278</td>\n",
       "      <td>-21.377503</td>\n",
       "      <td>45.008827</td>\n",
       "      <td>47.574207</td>\n",
       "      <td>48.855287</td>\n",
       "      <td>51.079032</td>\n",
       "    </tr>\n",
       "    <tr>\n",
       "      <th>Longitude</th>\n",
       "      <td>34177.0</td>\n",
       "      <td>1.814329</td>\n",
       "      <td>10.594925</td>\n",
       "      <td>-176.230404</td>\n",
       "      <td>1.123247</td>\n",
       "      <td>2.352200</td>\n",
       "      <td>4.227222</td>\n",
       "      <td>55.805871</td>\n",
       "    </tr>\n",
       "  </tbody>\n",
       "</table>\n",
       "</div>"
      ],
      "text/plain": [
       "             count       mean        std         min        25%        50%  \\\n",
       "Latitude   34177.0  45.882262   7.766278  -21.377503  45.008827  47.574207   \n",
       "Longitude  34177.0   1.814329  10.594925 -176.230404   1.123247   2.352200   \n",
       "\n",
       "                 75%        max  \n",
       "Latitude   48.855287  51.079032  \n",
       "Longitude   4.227222  55.805871  "
      ]
     },
     "execution_count": 67,
     "metadata": {},
     "output_type": "execute_result"
    }
   ],
   "source": [
    "data_selct.describe().T"
   ]
  },
  {
   "cell_type": "code",
   "execution_count": 68,
   "id": "97b9f991",
   "metadata": {
    "scrolled": false
   },
   "outputs": [
    {
     "data": {
      "image/png": "[encoded data removed]",
      "text/plain": [
       "<Figure size 792x360 with 2 Axes>"
      ]
     },
     "metadata": {
      "needs_background": "light"
     },
     "output_type": "display_data"
    },
    {
     "data": {
      "image/png": "[encoded data removed]",
      "text/plain": [
       "<Figure size 792x360 with 2 Axes>"
      ]
     },
     "metadata": {
      "needs_background": "light"
     },
     "output_type": "display_data"
    }
   ],
   "source": [
    "plt.rcParams[\"figure.figsize\"] = [11,5]\n",
    "grid = plt.GridSpec(2,2 , wspace=0.5, hspace=0.8)\n",
    "for col in data_selct.select_dtypes( include = ['float', 'int']).columns.to_list():\n",
    "    plt.figure()\n",
    "    ax0 = plt.subplot(grid[0, 0:1])\n",
    "    ax0= sns.distplot(data_selct[col], kde =True)\n",
    "    ax0.set_title(\"Distribution vs loi normal: {}\" .format(col), fontsize = 12)\n",
    "    ax1 = plt.subplot(grid[0, 1:])\n",
    "    ax1= sns.boxplot(data = data_selct,  x = data_selct[col], showfliers =False, showmeans =True)\n",
    "    ax1.set_title(\"Box plot de: {}\" .format(col), fontsize = 12)\n",
    "\n"
   ]
  },
  {
   "cell_type": "markdown",
   "id": "a45b1466",
   "metadata": {},
   "source": [
    "# Commentaire :"
   ]
  },
  {
   "cell_type": "markdown",
   "id": "941e1dac",
   "metadata": {},
   "source": [
    "## <font color=\"red\" id=\"section_6\" > 6. TARGET: Synthese_eval_sanit"
   ]
  },
  {
   "cell_type": "code",
   "execution_count": 69,
   "id": "7abcb876",
   "metadata": {},
   "outputs": [
    {
     "data": {
      "text/plain": [
       "Satisfaisant                     18467\n",
       "Très satisfaisant                13711\n",
       "A améliorer                       1864\n",
       "A corriger de manière urgente      135\n",
       "Name: Synthese_eval_sanit, dtype: int64"
      ]
     },
     "execution_count": 69,
     "metadata": {},
     "output_type": "execute_result"
    }
   ],
   "source": [
    "data_selct['Synthese_eval_sanit'].value_counts()"
   ]
  },
  {
   "cell_type": "code",
   "execution_count": 72,
   "id": "217dedb7",
   "metadata": {},
   "outputs": [
    {
     "data": {
      "text/plain": [
       "<AxesSubplot:>"
      ]
     },
     "execution_count": 72,
     "metadata": {},
     "output_type": "execute_result"
    },
    {
     "data": {
      "image/png": "[encoded data removed]",
      "text/plain": [
       "<Figure size 432x288 with 1 Axes>"
      ]
     },
     "metadata": {
      "needs_background": "light"
     },
     "output_type": "display_data"
    }
   ],
   "source": [
    "data_selct['Synthese_eval_sanit'].value_counts().plot.barh(color = 'violet', figsize =(6, 4))"
   ]
  },
  {
   "cell_type": "markdown",
   "id": "afe85928",
   "metadata": {},
   "source": [
    "# Commentaire: "
   ]
  },
  {
   "cell_type": "markdown",
   "id": "004d3fc6",
   "metadata": {},
   "source": [
    "# Suite (à faire)"
   ]
  },
  {
   "cell_type": "code",
   "execution_count": null,
   "id": "02e269dd",
   "metadata": {},
   "outputs": [],
   "source": []
  }
 ],
 "metadata": {
  "kernelspec": {
   "display_name": "Python 3 (ipykernel)",
   "language": "python",
   "name": "python3"
  },
  "language_info": {
   "codemirror_mode": {
    "name": "ipython",
    "version": 3
   },
   "file_extension": ".py",
   "mimetype": "text/x-python",
   "name": "python",
   "nbconvert_exporter": "python",
   "pygments_lexer": "ipython3",
   "version": "3.9.12"
  }
 },
 "nbformat": 4,
 "nbformat_minor": 5
}
