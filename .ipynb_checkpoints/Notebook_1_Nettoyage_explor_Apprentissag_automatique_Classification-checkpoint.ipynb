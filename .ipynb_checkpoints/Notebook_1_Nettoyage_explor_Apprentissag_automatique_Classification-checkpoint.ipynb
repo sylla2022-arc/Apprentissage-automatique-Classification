{
 "cells": [
  {
   "cell_type": "markdown",
   "id": "03daec40",
   "metadata": {},
   "source": [
    "## <font color = 'green' id = \"section\" > Notebook 1: Apprentissage automatique, Classification</font>"
   ]
  },
  {
   "cell_type": "markdown",
   "id": "8c7fc33c",
   "metadata": {},
   "source": [
    "# <font color=\"blue\">Sommaire</font>\n",
    "1. [Importation des librairies](#section_1)    \n",
    "2. [Lecture du Dataset](#section_2) \n",
    "3. [Inventaire des valeurs manquantes](#section_3)         \n",
    "4. [Selection variables pertienentes](#section_4)\n",
    "5. [Description statistique et distribution](#section_5)  \n",
    "6. [TARGET: Synthese_eval_sanit](#section_6) \n",
    "7. [Features transformation: Adresse_2_UA](#section_7) \n",
    "8. [Exploration de données](#section_8) \n",
    "   \n",
    "\n"
   ]
  },
  {
   "cell_type": "markdown",
   "id": "2e082814",
   "metadata": {},
   "source": [
    "# <font color ='red' id = 'section_1' > 1. Importation des librairies </font>"
   ]
  },
  {
   "cell_type": "code",
   "execution_count": 1,
   "id": "39273929",
   "metadata": {},
   "outputs": [
    {
     "name": "stdout",
     "output_type": "stream",
     "text": [
      "No Warning Shown\n"
     ]
    }
   ],
   "source": [
    "import warnings\n",
    "warnings.filterwarnings('ignore')\n",
    "warnings.warn('DelftStack')\n",
    "warnings.warn('Do not show this message')\n",
    "print(\"No Warning Shown\")"
   ]
  },
  {
   "cell_type": "code",
   "execution_count": 2,
   "id": "82bfb92a",
   "metadata": {},
   "outputs": [],
   "source": [
    "import pandas as pd\n",
    "import numpy as np\n",
    "import scipy.stats as st\n",
    "import seaborn as sns\n",
    "import matplotlib.pyplot as plt\n",
    "from scipy import stats\n",
    "import ast\n",
    "import scipy as sp\n",
    "import time\n",
    "import pickle\n",
    "from datetime import datetime\n",
    "#-------------------------------------------------------------------\n",
    "from tqdm import tqdm\n",
    "import gc\n",
    "#------------------------------------------------------------------\n",
    "import plotly.graph_objs as go\n",
    "import plotly.express as px\n",
    "from textwrap import wrap\n",
    "#-------------------------------------------------\n",
    "from sklearn.model_selection import train_test_split\n",
    "from sklearn.impute import KNNImputer\n",
    "from sklearn.ensemble import RandomForestRegressor\n",
    "from sklearn.metrics import *\n",
    "#------------------------------------------\n",
    "from sklearn.experimental import enable_iterative_imputer\n",
    "from sklearn.impute import IterativeImputer"
   ]
  },
  {
   "cell_type": "code",
   "execution_count": 3,
   "id": "03ba9a09",
   "metadata": {},
   "outputs": [],
   "source": [
    "pd.set_option(\"display.max_columns\", 500)\n",
    "pd.set_option(\"display.max_rows\", 500)"
   ]
  },
  {
   "cell_type": "markdown",
   "id": "dbeb2921",
   "metadata": {},
   "source": [
    "# Checklist\n",
    "\n",
    "## Description\n",
    "La publication des résultats des contrôles sanitaires dans le secteur alimentaire (**restaurants, cantines, abattoirs, etc.**) est une attente légitime des citoyens qui participe à l’amélioration de la confiance du consommateur. Prévue par la loi d’Avenir pour l’agriculture, l’alimentation et la forêt, du 13 octobre 2014, cette mesure s’inscrit dans une évolution vers une plus grande transparence de l’action de l’État.\n",
    "\n",
    "\n",
    "**Quels sont secteurs d’activité concernés ?**\n",
    "\n",
    "Il s’agit de rendre public le résultat des contrôles officiels en sécurité sanitaire des aliments réalisés dans tous les établissements de la chaîne alimentaire : **abattoirs, commerces de détail (métiers de bouche, restaurants, supermarchés, marchés, vente à la ferme, etc.), restaurants collectifs et établissements agroalimentaires.**\n",
    "\n",
    "\n",
    "# Objectif\n",
    "\n",
    "Notre objectif majeur dans ce projet en particulier ce notebbok 1 comprend les étapes suivantes: \n",
    " \n",
    "**1.** *Nettoyage des données*\n",
    "\n",
    "**2.** *Feature engineering*\n",
    "\n",
    "**3.** *Explorattion rapide*\n",
    "\n",
    "\n",
    "# Description des données\n",
    "Lien 1: https://www.data.gouv.fr/fr/pages/thematiques-a-la-une/\n",
    "\n",
    "Lien vers les données: https://www.data.gouv.fr/fr/datasets/resultats-des-controles-officiels-sanitaires-dispositif-dinformation-alimconfiance/\n"
   ]
  },
  {
   "cell_type": "markdown",
   "id": "4aa43bf0",
   "metadata": {},
   "source": [
    "# <font color=\"red\" id=\"section_2\"> 2. Chargement, lecture, apercu et infos des données </font>"
   ]
  },
  {
   "cell_type": "code",
   "execution_count": 4,
   "id": "564f490c",
   "metadata": {},
   "outputs": [],
   "source": [
    "data = pd.read_csv(\"export_alimconfiance.csv\", sep=';',encoding = 'utf-8')"
   ]
  },
  {
   "cell_type": "code",
   "execution_count": 5,
   "id": "2e663a59",
   "metadata": {},
   "outputs": [
    {
     "data": {
      "text/html": [
       "<div>\n",
       "<style scoped>\n",
       "    .dataframe tbody tr th:only-of-type {\n",
       "        vertical-align: middle;\n",
       "    }\n",
       "\n",
       "    .dataframe tbody tr th {\n",
       "        vertical-align: top;\n",
       "    }\n",
       "\n",
       "    .dataframe thead th {\n",
       "        text-align: right;\n",
       "    }\n",
       "</style>\n",
       "<table border=\"1\" class=\"dataframe\">\n",
       "  <thead>\n",
       "    <tr style=\"text-align: right;\">\n",
       "      <th></th>\n",
       "      <th>APP_Libelle_etablissement</th>\n",
       "      <th>SIRET</th>\n",
       "      <th>Adresse_2_UA</th>\n",
       "      <th>Code_postal</th>\n",
       "      <th>Libelle_commune</th>\n",
       "      <th>Numero_inspection</th>\n",
       "      <th>Date_inspection</th>\n",
       "      <th>APP_Libelle_activite_etablissement</th>\n",
       "      <th>Synthese_eval_sanit</th>\n",
       "      <th>Agrement</th>\n",
       "      <th>geores</th>\n",
       "      <th>filtre</th>\n",
       "      <th>ods_type_activite</th>\n",
       "    </tr>\n",
       "  </thead>\n",
       "  <tbody>\n",
       "    <tr>\n",
       "      <th>0</th>\n",
       "      <td>DE CERGY NEUVILLE (SYND MIXTE D'ETUDE AMENA GE...</td>\n",
       "      <td>25950062700015</td>\n",
       "      <td>29 R DES ETANGS</td>\n",
       "      <td>95800</td>\n",
       "      <td>CERGY</td>\n",
       "      <td>16527453</td>\n",
       "      <td>2022-07-13T02:00:00+02:00</td>\n",
       "      <td>_</td>\n",
       "      <td>A améliorer</td>\n",
       "      <td>NaN</td>\n",
       "      <td>NaN</td>\n",
       "      <td>NaN</td>\n",
       "      <td>Autres</td>\n",
       "    </tr>\n",
       "    <tr>\n",
       "      <th>1</th>\n",
       "      <td>CODIPEX (CONSORTIUM EUROPE ECHANG COMMERC INTE...</td>\n",
       "      <td>30009044600034</td>\n",
       "      <td>14 AV SOMMER</td>\n",
       "      <td>92160</td>\n",
       "      <td>ANTONY</td>\n",
       "      <td>16660788</td>\n",
       "      <td>2022-09-07T02:00:00+02:00</td>\n",
       "      <td>_</td>\n",
       "      <td>Très satisfaisant</td>\n",
       "      <td>NaN</td>\n",
       "      <td>48.732041,2.305533</td>\n",
       "      <td>NaN</td>\n",
       "      <td>Autres</td>\n",
       "    </tr>\n",
       "  </tbody>\n",
       "</table>\n",
       "</div>"
      ],
      "text/plain": [
       "                           APP_Libelle_etablissement           SIRET  \\\n",
       "0  DE CERGY NEUVILLE (SYND MIXTE D'ETUDE AMENA GE...  25950062700015   \n",
       "1  CODIPEX (CONSORTIUM EUROPE ECHANG COMMERC INTE...  30009044600034   \n",
       "\n",
       "      Adresse_2_UA Code_postal Libelle_commune Numero_inspection  \\\n",
       "0  29 R DES ETANGS       95800           CERGY          16527453   \n",
       "1     14 AV SOMMER       92160          ANTONY          16660788   \n",
       "\n",
       "             Date_inspection APP_Libelle_activite_etablissement  \\\n",
       "0  2022-07-13T02:00:00+02:00                                  _   \n",
       "1  2022-09-07T02:00:00+02:00                                  _   \n",
       "\n",
       "  Synthese_eval_sanit Agrement              geores filtre ods_type_activite  \n",
       "0         A améliorer      NaN                 NaN    NaN            Autres  \n",
       "1   Très satisfaisant      NaN  48.732041,2.305533    NaN            Autres  "
      ]
     },
     "metadata": {},
     "output_type": "display_data"
    },
    {
     "data": {
      "text/html": [
       "<div>\n",
       "<style scoped>\n",
       "    .dataframe tbody tr th:only-of-type {\n",
       "        vertical-align: middle;\n",
       "    }\n",
       "\n",
       "    .dataframe tbody tr th {\n",
       "        vertical-align: top;\n",
       "    }\n",
       "\n",
       "    .dataframe thead th {\n",
       "        text-align: right;\n",
       "    }\n",
       "</style>\n",
       "<table border=\"1\" class=\"dataframe\">\n",
       "  <thead>\n",
       "    <tr style=\"text-align: right;\">\n",
       "      <th></th>\n",
       "      <th>APP_Libelle_etablissement</th>\n",
       "      <th>SIRET</th>\n",
       "      <th>Adresse_2_UA</th>\n",
       "      <th>Code_postal</th>\n",
       "      <th>Libelle_commune</th>\n",
       "      <th>Numero_inspection</th>\n",
       "      <th>Date_inspection</th>\n",
       "      <th>APP_Libelle_activite_etablissement</th>\n",
       "      <th>Synthese_eval_sanit</th>\n",
       "      <th>Agrement</th>\n",
       "      <th>geores</th>\n",
       "      <th>filtre</th>\n",
       "      <th>ods_type_activite</th>\n",
       "    </tr>\n",
       "  </thead>\n",
       "  <tbody>\n",
       "    <tr>\n",
       "      <th>34175</th>\n",
       "      <td>CENTRE HOSPITALIER DU FOREZ</td>\n",
       "      <td>20003493200018</td>\n",
       "      <td>av des mots du soir</td>\n",
       "      <td>42600</td>\n",
       "      <td>Montbrison</td>\n",
       "      <td>22-068033-1</td>\n",
       "      <td>2022-08-31T02:00:00+02:00</td>\n",
       "      <td>Restauration collective</td>\n",
       "      <td>Satisfaisant</td>\n",
       "      <td>42147341</td>\n",
       "      <td>45.612674,4.046673</td>\n",
       "      <td>Restauration collective</td>\n",
       "      <td>Autres</td>\n",
       "    </tr>\n",
       "    <tr>\n",
       "      <th>34176</th>\n",
       "      <td>GAEC DES THIBAUDS</td>\n",
       "      <td>53903833100010</td>\n",
       "      <td>375 CHE DES TERRAIONS</td>\n",
       "      <td>26310</td>\n",
       "      <td>Miscon</td>\n",
       "      <td>22-001364-1</td>\n",
       "      <td>2022-11-30T01:00:00+01:00</td>\n",
       "      <td>Transformation de lait ou produits laitiers</td>\n",
       "      <td>Très satisfaisant</td>\n",
       "      <td>26186081</td>\n",
       "      <td>44.6289,5.520219</td>\n",
       "      <td>NaN</td>\n",
       "      <td>Lait et produits laitiers</td>\n",
       "    </tr>\n",
       "  </tbody>\n",
       "</table>\n",
       "</div>"
      ],
      "text/plain": [
       "         APP_Libelle_etablissement           SIRET           Adresse_2_UA  \\\n",
       "34175  CENTRE HOSPITALIER DU FOREZ  20003493200018    av des mots du soir   \n",
       "34176            GAEC DES THIBAUDS  53903833100010  375 CHE DES TERRAIONS   \n",
       "\n",
       "      Code_postal Libelle_commune Numero_inspection  \\\n",
       "34175       42600      Montbrison       22-068033-1   \n",
       "34176       26310          Miscon       22-001364-1   \n",
       "\n",
       "                 Date_inspection           APP_Libelle_activite_etablissement  \\\n",
       "34175  2022-08-31T02:00:00+02:00                      Restauration collective   \n",
       "34176  2022-11-30T01:00:00+01:00  Transformation de lait ou produits laitiers   \n",
       "\n",
       "      Synthese_eval_sanit  Agrement              geores  \\\n",
       "34175        Satisfaisant  42147341  45.612674,4.046673   \n",
       "34176   Très satisfaisant  26186081    44.6289,5.520219   \n",
       "\n",
       "                        filtre          ods_type_activite  \n",
       "34175  Restauration collective                     Autres  \n",
       "34176                      NaN  Lait et produits laitiers  "
      ]
     },
     "metadata": {},
     "output_type": "display_data"
    }
   ],
   "source": [
    "display(data.head(2))\n",
    "display(data.tail(2))"
   ]
  },
  {
   "cell_type": "code",
   "execution_count": 6,
   "id": "f48600c7",
   "metadata": {},
   "outputs": [
    {
     "data": {
      "text/plain": [
       "(34177, 13)"
      ]
     },
     "execution_count": 6,
     "metadata": {},
     "output_type": "execute_result"
    }
   ],
   "source": [
    "data.shape"
   ]
  },
  {
   "cell_type": "code",
   "execution_count": 7,
   "id": "3d5f00cc",
   "metadata": {},
   "outputs": [
    {
     "name": "stdout",
     "output_type": "stream",
     "text": [
      "<class 'pandas.core.frame.DataFrame'>\n",
      "RangeIndex: 34177 entries, 0 to 34176\n",
      "Data columns (total 13 columns):\n",
      " #   Column                              Non-Null Count  Dtype \n",
      "---  ------                              --------------  ----- \n",
      " 0   APP_Libelle_etablissement           34177 non-null  object\n",
      " 1   SIRET                               34177 non-null  object\n",
      " 2   Adresse_2_UA                        33691 non-null  object\n",
      " 3   Code_postal                         34177 non-null  object\n",
      " 4   Libelle_commune                     34177 non-null  object\n",
      " 5   Numero_inspection                   34177 non-null  object\n",
      " 6   Date_inspection                     34177 non-null  object\n",
      " 7   APP_Libelle_activite_etablissement  34177 non-null  object\n",
      " 8   Synthese_eval_sanit                 34177 non-null  object\n",
      " 9   Agrement                            9591 non-null   object\n",
      " 10  geores                              33445 non-null  object\n",
      " 11  filtre                              24967 non-null  object\n",
      " 12  ods_type_activite                   34177 non-null  object\n",
      "dtypes: object(13)\n",
      "memory usage: 3.4+ MB\n"
     ]
    }
   ],
   "source": [
    "data.info()"
   ]
  },
  {
   "cell_type": "code",
   "execution_count": 8,
   "id": "075664ae",
   "metadata": {},
   "outputs": [
    {
     "data": {
      "text/plain": [
       "0"
      ]
     },
     "execution_count": 8,
     "metadata": {},
     "output_type": "execute_result"
    }
   ],
   "source": [
    "data.duplicated().sum()"
   ]
  },
  {
   "cell_type": "markdown",
   "id": "cf9ee640",
   "metadata": {},
   "source": [
    "## <font color=\"red\" id=\"section_3\" > 3. Inventaire des valeurs manquantes"
   ]
  },
  {
   "cell_type": "code",
   "execution_count": 9,
   "id": "2f2369f6",
   "metadata": {},
   "outputs": [],
   "source": [
    "def rech_nan(data):\n",
    "    dic_var = {}\n",
    "    for col in data.columns:\n",
    "        \n",
    "        dic_var[col] = []\n",
    "        dic_var[col].append((data[col].notna().sum()/(data.shape[0]))*100)\n",
    "        dic_var[col].append(data[col].isna().sum())\n",
    "        \n",
    "    return pd.DataFrame.from_dict(data = dic_var, orient = 'index', \n",
    "                            columns = ['Taux_remplissage', 'Valeurs manquantes']).sort_values(by = 'Taux_remplissage',\n",
    "                                                                                              ascending =False )"
   ]
  },
  {
   "cell_type": "code",
   "execution_count": 10,
   "id": "8eb7d0d4",
   "metadata": {},
   "outputs": [
    {
     "data": {
      "text/html": [
       "<div>\n",
       "<style scoped>\n",
       "    .dataframe tbody tr th:only-of-type {\n",
       "        vertical-align: middle;\n",
       "    }\n",
       "\n",
       "    .dataframe tbody tr th {\n",
       "        vertical-align: top;\n",
       "    }\n",
       "\n",
       "    .dataframe thead th {\n",
       "        text-align: right;\n",
       "    }\n",
       "</style>\n",
       "<table border=\"1\" class=\"dataframe\">\n",
       "  <thead>\n",
       "    <tr style=\"text-align: right;\">\n",
       "      <th></th>\n",
       "      <th>Taux_remplissage</th>\n",
       "      <th>Valeurs manquantes</th>\n",
       "    </tr>\n",
       "  </thead>\n",
       "  <tbody>\n",
       "    <tr>\n",
       "      <th>APP_Libelle_etablissement</th>\n",
       "      <td>100.000000</td>\n",
       "      <td>0</td>\n",
       "    </tr>\n",
       "    <tr>\n",
       "      <th>SIRET</th>\n",
       "      <td>100.000000</td>\n",
       "      <td>0</td>\n",
       "    </tr>\n",
       "    <tr>\n",
       "      <th>Code_postal</th>\n",
       "      <td>100.000000</td>\n",
       "      <td>0</td>\n",
       "    </tr>\n",
       "    <tr>\n",
       "      <th>Libelle_commune</th>\n",
       "      <td>100.000000</td>\n",
       "      <td>0</td>\n",
       "    </tr>\n",
       "    <tr>\n",
       "      <th>Numero_inspection</th>\n",
       "      <td>100.000000</td>\n",
       "      <td>0</td>\n",
       "    </tr>\n",
       "    <tr>\n",
       "      <th>Date_inspection</th>\n",
       "      <td>100.000000</td>\n",
       "      <td>0</td>\n",
       "    </tr>\n",
       "    <tr>\n",
       "      <th>APP_Libelle_activite_etablissement</th>\n",
       "      <td>100.000000</td>\n",
       "      <td>0</td>\n",
       "    </tr>\n",
       "    <tr>\n",
       "      <th>Synthese_eval_sanit</th>\n",
       "      <td>100.000000</td>\n",
       "      <td>0</td>\n",
       "    </tr>\n",
       "    <tr>\n",
       "      <th>ods_type_activite</th>\n",
       "      <td>100.000000</td>\n",
       "      <td>0</td>\n",
       "    </tr>\n",
       "    <tr>\n",
       "      <th>Adresse_2_UA</th>\n",
       "      <td>98.577991</td>\n",
       "      <td>486</td>\n",
       "    </tr>\n",
       "    <tr>\n",
       "      <th>geores</th>\n",
       "      <td>97.858209</td>\n",
       "      <td>732</td>\n",
       "    </tr>\n",
       "    <tr>\n",
       "      <th>filtre</th>\n",
       "      <td>73.052053</td>\n",
       "      <td>9210</td>\n",
       "    </tr>\n",
       "    <tr>\n",
       "      <th>Agrement</th>\n",
       "      <td>28.062732</td>\n",
       "      <td>24586</td>\n",
       "    </tr>\n",
       "  </tbody>\n",
       "</table>\n",
       "</div>"
      ],
      "text/plain": [
       "                                    Taux_remplissage  Valeurs manquantes\n",
       "APP_Libelle_etablissement                 100.000000                   0\n",
       "SIRET                                     100.000000                   0\n",
       "Code_postal                               100.000000                   0\n",
       "Libelle_commune                           100.000000                   0\n",
       "Numero_inspection                         100.000000                   0\n",
       "Date_inspection                           100.000000                   0\n",
       "APP_Libelle_activite_etablissement        100.000000                   0\n",
       "Synthese_eval_sanit                       100.000000                   0\n",
       "ods_type_activite                         100.000000                   0\n",
       "Adresse_2_UA                               98.577991                 486\n",
       "geores                                     97.858209                 732\n",
       "filtre                                     73.052053                9210\n",
       "Agrement                                   28.062732               24586"
      ]
     },
     "execution_count": 10,
     "metadata": {},
     "output_type": "execute_result"
    }
   ],
   "source": [
    "df_nan = rech_nan(data)\n",
    "df_nan"
   ]
  },
  {
   "cell_type": "code",
   "execution_count": 11,
   "id": "af346ed5",
   "metadata": {},
   "outputs": [
    {
     "data": {
      "image/png": "[encoded data removed]",
      "text/plain": [
       "<Figure size 792x432 with 1 Axes>"
      ]
     },
     "metadata": {
      "needs_background": "light"
     },
     "output_type": "display_data"
    }
   ],
   "source": [
    "plt.figure(figsize = (11,6))\n",
    "sns.heatmap(data.isna(), cbar = False)\n",
    "plt.show()"
   ]
  },
  {
   "cell_type": "markdown",
   "id": "7574af15",
   "metadata": {},
   "source": [
    "# Commentaire: \n",
    "Nous allons supprimer '**SIRET** et **Agrement** qui nous sont d'aucune utilité."
   ]
  },
  {
   "cell_type": "code",
   "execution_count": 12,
   "id": "35dafc08",
   "metadata": {},
   "outputs": [],
   "source": [
    "data.drop( [\"SIRET\", \"Agrement\"], axis = 1, inplace = True)"
   ]
  },
  {
   "cell_type": "code",
   "execution_count": 13,
   "id": "2ab517dc",
   "metadata": {},
   "outputs": [
    {
     "data": {
      "text/html": [
       "<div>\n",
       "<style scoped>\n",
       "    .dataframe tbody tr th:only-of-type {\n",
       "        vertical-align: middle;\n",
       "    }\n",
       "\n",
       "    .dataframe tbody tr th {\n",
       "        vertical-align: top;\n",
       "    }\n",
       "\n",
       "    .dataframe thead th {\n",
       "        text-align: right;\n",
       "    }\n",
       "</style>\n",
       "<table border=\"1\" class=\"dataframe\">\n",
       "  <thead>\n",
       "    <tr style=\"text-align: right;\">\n",
       "      <th></th>\n",
       "      <th>APP_Libelle_etablissement</th>\n",
       "      <th>Adresse_2_UA</th>\n",
       "      <th>Code_postal</th>\n",
       "      <th>Libelle_commune</th>\n",
       "      <th>Numero_inspection</th>\n",
       "      <th>Date_inspection</th>\n",
       "      <th>APP_Libelle_activite_etablissement</th>\n",
       "      <th>Synthese_eval_sanit</th>\n",
       "      <th>geores</th>\n",
       "      <th>filtre</th>\n",
       "      <th>ods_type_activite</th>\n",
       "    </tr>\n",
       "  </thead>\n",
       "  <tbody>\n",
       "    <tr>\n",
       "      <th>34175</th>\n",
       "      <td>CENTRE HOSPITALIER DU FOREZ</td>\n",
       "      <td>av des mots du soir</td>\n",
       "      <td>42600</td>\n",
       "      <td>Montbrison</td>\n",
       "      <td>22-068033-1</td>\n",
       "      <td>2022-08-31T02:00:00+02:00</td>\n",
       "      <td>Restauration collective</td>\n",
       "      <td>Satisfaisant</td>\n",
       "      <td>45.612674,4.046673</td>\n",
       "      <td>Restauration collective</td>\n",
       "      <td>Autres</td>\n",
       "    </tr>\n",
       "    <tr>\n",
       "      <th>34176</th>\n",
       "      <td>GAEC DES THIBAUDS</td>\n",
       "      <td>375 CHE DES TERRAIONS</td>\n",
       "      <td>26310</td>\n",
       "      <td>Miscon</td>\n",
       "      <td>22-001364-1</td>\n",
       "      <td>2022-11-30T01:00:00+01:00</td>\n",
       "      <td>Transformation de lait ou produits laitiers</td>\n",
       "      <td>Très satisfaisant</td>\n",
       "      <td>44.6289,5.520219</td>\n",
       "      <td>NaN</td>\n",
       "      <td>Lait et produits laitiers</td>\n",
       "    </tr>\n",
       "  </tbody>\n",
       "</table>\n",
       "</div>"
      ],
      "text/plain": [
       "         APP_Libelle_etablissement           Adresse_2_UA Code_postal  \\\n",
       "34175  CENTRE HOSPITALIER DU FOREZ    av des mots du soir       42600   \n",
       "34176            GAEC DES THIBAUDS  375 CHE DES TERRAIONS       26310   \n",
       "\n",
       "      Libelle_commune Numero_inspection            Date_inspection  \\\n",
       "34175      Montbrison       22-068033-1  2022-08-31T02:00:00+02:00   \n",
       "34176          Miscon       22-001364-1  2022-11-30T01:00:00+01:00   \n",
       "\n",
       "                APP_Libelle_activite_etablissement Synthese_eval_sanit  \\\n",
       "34175                      Restauration collective        Satisfaisant   \n",
       "34176  Transformation de lait ou produits laitiers   Très satisfaisant   \n",
       "\n",
       "                   geores                   filtre          ods_type_activite  \n",
       "34175  45.612674,4.046673  Restauration collective                     Autres  \n",
       "34176    44.6289,5.520219                      NaN  Lait et produits laitiers  "
      ]
     },
     "execution_count": 13,
     "metadata": {},
     "output_type": "execute_result"
    }
   ],
   "source": [
    "data.tail(2)"
   ]
  },
  {
   "cell_type": "code",
   "execution_count": 14,
   "id": "6a168884",
   "metadata": {},
   "outputs": [
    {
     "data": {
      "text/plain": [
       "APP_Libelle_etablissement                0\n",
       "Adresse_2_UA                           486\n",
       "Code_postal                              0\n",
       "Libelle_commune                          0\n",
       "Numero_inspection                        0\n",
       "Date_inspection                          0\n",
       "APP_Libelle_activite_etablissement       0\n",
       "Synthese_eval_sanit                      0\n",
       "geores                                 732\n",
       "filtre                                9210\n",
       "ods_type_activite                        0\n",
       "dtype: int64"
      ]
     },
     "execution_count": 14,
     "metadata": {},
     "output_type": "execute_result"
    }
   ],
   "source": [
    "data.isna().sum()"
   ]
  },
  {
   "cell_type": "markdown",
   "id": "0fa4818d",
   "metadata": {},
   "source": [
    "## <font color=\"red\" id=\"section_3_1\" > 3.1 Traitement valeurs manquantes : Geores\n",
    "Nous allons d'abord éclater la variable **Geores** en **Longitude** et **Latitude** ensuite imputer automatiquement les valeurs manquantes."
   ]
  },
  {
   "cell_type": "code",
   "execution_count": 15,
   "id": "f5d02c7f",
   "metadata": {},
   "outputs": [
    {
     "data": {
      "text/plain": [
       "0                       NaN\n",
       "1        48.732041,2.305533\n",
       "2        49.017271,2.380653\n",
       "3        48.868487,2.227684\n",
       "4        45.762926,4.832648\n",
       "                ...        \n",
       "34172    46.299554,4.897724\n",
       "34173      48.835253,2.3169\n",
       "34174    46.553788,5.671371\n",
       "34175    45.612674,4.046673\n",
       "34176      44.6289,5.520219\n",
       "Name: geores, Length: 34177, dtype: object"
      ]
     },
     "execution_count": 15,
     "metadata": {},
     "output_type": "execute_result"
    }
   ],
   "source": [
    "data.geores"
   ]
  },
  {
   "cell_type": "code",
   "execution_count": 16,
   "id": "6184ef93",
   "metadata": {},
   "outputs": [],
   "source": [
    "data_geo_notna =  data.loc[data['geores'].notna(), 'geores']"
   ]
  },
  {
   "cell_type": "code",
   "execution_count": 17,
   "id": "db8754dd",
   "metadata": {},
   "outputs": [
    {
     "data": {
      "text/plain": [
       "1    48.732041,2.305533\n",
       "2    49.017271,2.380653\n",
       "3    48.868487,2.227684\n",
       "4    45.762926,4.832648\n",
       "5    48.703268,1.855354\n",
       "Name: geores, dtype: object"
      ]
     },
     "execution_count": 17,
     "metadata": {},
     "output_type": "execute_result"
    }
   ],
   "source": [
    "data_geo_notna.head()"
   ]
  },
  {
   "cell_type": "code",
   "execution_count": 18,
   "id": "54e1e491",
   "metadata": {},
   "outputs": [
    {
     "data": {
      "text/plain": [
       "(33445,)"
      ]
     },
     "execution_count": 18,
     "metadata": {},
     "output_type": "execute_result"
    }
   ],
   "source": [
    "data_geo_notna.shape"
   ]
  },
  {
   "cell_type": "code",
   "execution_count": 19,
   "id": "cb49bf13",
   "metadata": {},
   "outputs": [
    {
     "data": {
      "text/html": [
       "<div>\n",
       "<style scoped>\n",
       "    .dataframe tbody tr th:only-of-type {\n",
       "        vertical-align: middle;\n",
       "    }\n",
       "\n",
       "    .dataframe tbody tr th {\n",
       "        vertical-align: top;\n",
       "    }\n",
       "\n",
       "    .dataframe thead th {\n",
       "        text-align: right;\n",
       "    }\n",
       "</style>\n",
       "<table border=\"1\" class=\"dataframe\">\n",
       "  <thead>\n",
       "    <tr style=\"text-align: right;\">\n",
       "      <th></th>\n",
       "      <th>Geores</th>\n",
       "    </tr>\n",
       "  </thead>\n",
       "  <tbody>\n",
       "    <tr>\n",
       "      <th>1</th>\n",
       "      <td>48.732041,2.305533</td>\n",
       "    </tr>\n",
       "    <tr>\n",
       "      <th>2</th>\n",
       "      <td>49.017271,2.380653</td>\n",
       "    </tr>\n",
       "    <tr>\n",
       "      <th>3</th>\n",
       "      <td>48.868487,2.227684</td>\n",
       "    </tr>\n",
       "    <tr>\n",
       "      <th>4</th>\n",
       "      <td>45.762926,4.832648</td>\n",
       "    </tr>\n",
       "    <tr>\n",
       "      <th>5</th>\n",
       "      <td>48.703268,1.855354</td>\n",
       "    </tr>\n",
       "  </tbody>\n",
       "</table>\n",
       "</div>"
      ],
      "text/plain": [
       "               Geores\n",
       "1  48.732041,2.305533\n",
       "2  49.017271,2.380653\n",
       "3  48.868487,2.227684\n",
       "4  45.762926,4.832648\n",
       "5  48.703268,1.855354"
      ]
     },
     "execution_count": 19,
     "metadata": {},
     "output_type": "execute_result"
    }
   ],
   "source": [
    "data_geo_notna = pd.DataFrame(data_geo_notna)\n",
    "data_geo_notna.columns = ['Geores']\n",
    "data_geo_notna.head()"
   ]
  },
  {
   "cell_type": "code",
   "execution_count": 20,
   "id": "366301a9",
   "metadata": {},
   "outputs": [
    {
     "name": "stderr",
     "output_type": "stream",
     "text": [
      "100%|██████████| 33445/33445 [00:02<00:00, 12704.08it/s]\n"
     ]
    }
   ],
   "source": [
    "for i in   tqdm(data_geo_notna.index):\n",
    "    data_geo_notna['Geores'][i] = data_geo_notna['Geores'][i].split(',')"
   ]
  },
  {
   "cell_type": "code",
   "execution_count": 21,
   "id": "cfd43c26",
   "metadata": {},
   "outputs": [],
   "source": [
    "def lat_long(data):\n",
    "    lat_list = []\n",
    "    long_list = []\n",
    "    for j in  tqdm(data.index):\n",
    "        lat_list.append(data[\"Geores\"][j][0])\n",
    "        long_list.append(data[\"Geores\"][j][1])\n",
    "    #creation de variable longitude et latitude\n",
    "    data[\"Latitude\"] = lat_list\n",
    "    data['Longitude'] = long_list\n",
    "    #Changement de type en float\n",
    "    data['Latitude'] = data['Latitude'].astype('float')\n",
    "    data['Longitude'] = data['Longitude'].astype('float')\n",
    "    return data"
   ]
  },
  {
   "cell_type": "code",
   "execution_count": 22,
   "id": "e65e918c",
   "metadata": {},
   "outputs": [
    {
     "name": "stderr",
     "output_type": "stream",
     "text": [
      "100%|██████████| 33445/33445 [00:00<00:00, 50251.01it/s]\n"
     ]
    }
   ],
   "source": [
    "data_geo_notna = lat_long(data_geo_notna)"
   ]
  },
  {
   "cell_type": "code",
   "execution_count": 23,
   "id": "0e293e83",
   "metadata": {},
   "outputs": [
    {
     "data": {
      "text/html": [
       "<div>\n",
       "<style scoped>\n",
       "    .dataframe tbody tr th:only-of-type {\n",
       "        vertical-align: middle;\n",
       "    }\n",
       "\n",
       "    .dataframe tbody tr th {\n",
       "        vertical-align: top;\n",
       "    }\n",
       "\n",
       "    .dataframe thead th {\n",
       "        text-align: right;\n",
       "    }\n",
       "</style>\n",
       "<table border=\"1\" class=\"dataframe\">\n",
       "  <thead>\n",
       "    <tr style=\"text-align: right;\">\n",
       "      <th></th>\n",
       "      <th>Geores</th>\n",
       "      <th>Latitude</th>\n",
       "      <th>Longitude</th>\n",
       "    </tr>\n",
       "  </thead>\n",
       "  <tbody>\n",
       "    <tr>\n",
       "      <th>1</th>\n",
       "      <td>[48.732041, 2.305533]</td>\n",
       "      <td>48.732041</td>\n",
       "      <td>2.305533</td>\n",
       "    </tr>\n",
       "    <tr>\n",
       "      <th>2</th>\n",
       "      <td>[49.017271, 2.380653]</td>\n",
       "      <td>49.017271</td>\n",
       "      <td>2.380653</td>\n",
       "    </tr>\n",
       "    <tr>\n",
       "      <th>3</th>\n",
       "      <td>[48.868487, 2.227684]</td>\n",
       "      <td>48.868487</td>\n",
       "      <td>2.227684</td>\n",
       "    </tr>\n",
       "    <tr>\n",
       "      <th>4</th>\n",
       "      <td>[45.762926, 4.832648]</td>\n",
       "      <td>45.762926</td>\n",
       "      <td>4.832648</td>\n",
       "    </tr>\n",
       "    <tr>\n",
       "      <th>5</th>\n",
       "      <td>[48.703268, 1.855354]</td>\n",
       "      <td>48.703268</td>\n",
       "      <td>1.855354</td>\n",
       "    </tr>\n",
       "    <tr>\n",
       "      <th>...</th>\n",
       "      <td>...</td>\n",
       "      <td>...</td>\n",
       "      <td>...</td>\n",
       "    </tr>\n",
       "    <tr>\n",
       "      <th>34172</th>\n",
       "      <td>[46.299554, 4.897724]</td>\n",
       "      <td>46.299554</td>\n",
       "      <td>4.897724</td>\n",
       "    </tr>\n",
       "    <tr>\n",
       "      <th>34173</th>\n",
       "      <td>[48.835253, 2.3169]</td>\n",
       "      <td>48.835253</td>\n",
       "      <td>2.316900</td>\n",
       "    </tr>\n",
       "    <tr>\n",
       "      <th>34174</th>\n",
       "      <td>[46.553788, 5.671371]</td>\n",
       "      <td>46.553788</td>\n",
       "      <td>5.671371</td>\n",
       "    </tr>\n",
       "    <tr>\n",
       "      <th>34175</th>\n",
       "      <td>[45.612674, 4.046673]</td>\n",
       "      <td>45.612674</td>\n",
       "      <td>4.046673</td>\n",
       "    </tr>\n",
       "    <tr>\n",
       "      <th>34176</th>\n",
       "      <td>[44.6289, 5.520219]</td>\n",
       "      <td>44.628900</td>\n",
       "      <td>5.520219</td>\n",
       "    </tr>\n",
       "  </tbody>\n",
       "</table>\n",
       "<p>33445 rows × 3 columns</p>\n",
       "</div>"
      ],
      "text/plain": [
       "                      Geores   Latitude  Longitude\n",
       "1      [48.732041, 2.305533]  48.732041   2.305533\n",
       "2      [49.017271, 2.380653]  49.017271   2.380653\n",
       "3      [48.868487, 2.227684]  48.868487   2.227684\n",
       "4      [45.762926, 4.832648]  45.762926   4.832648\n",
       "5      [48.703268, 1.855354]  48.703268   1.855354\n",
       "...                      ...        ...        ...\n",
       "34172  [46.299554, 4.897724]  46.299554   4.897724\n",
       "34173    [48.835253, 2.3169]  48.835253   2.316900\n",
       "34174  [46.553788, 5.671371]  46.553788   5.671371\n",
       "34175  [45.612674, 4.046673]  45.612674   4.046673\n",
       "34176    [44.6289, 5.520219]  44.628900   5.520219\n",
       "\n",
       "[33445 rows x 3 columns]"
      ]
     },
     "execution_count": 23,
     "metadata": {},
     "output_type": "execute_result"
    }
   ],
   "source": [
    "data_geo_notna"
   ]
  },
  {
   "cell_type": "code",
   "execution_count": 24,
   "id": "59eddaf5",
   "metadata": {},
   "outputs": [],
   "source": [
    "data_geo_notna.drop([\"Geores\"], axis = 1, inplace = True)"
   ]
  },
  {
   "cell_type": "code",
   "execution_count": 25,
   "id": "fb5b4aff",
   "metadata": {},
   "outputs": [
    {
     "data": {
      "text/html": [
       "<div>\n",
       "<style scoped>\n",
       "    .dataframe tbody tr th:only-of-type {\n",
       "        vertical-align: middle;\n",
       "    }\n",
       "\n",
       "    .dataframe tbody tr th {\n",
       "        vertical-align: top;\n",
       "    }\n",
       "\n",
       "    .dataframe thead th {\n",
       "        text-align: right;\n",
       "    }\n",
       "</style>\n",
       "<table border=\"1\" class=\"dataframe\">\n",
       "  <thead>\n",
       "    <tr style=\"text-align: right;\">\n",
       "      <th></th>\n",
       "      <th>APP_Libelle_etablissement</th>\n",
       "      <th>Adresse_2_UA</th>\n",
       "      <th>Code_postal</th>\n",
       "      <th>Libelle_commune</th>\n",
       "      <th>Numero_inspection</th>\n",
       "      <th>Date_inspection</th>\n",
       "      <th>APP_Libelle_activite_etablissement</th>\n",
       "      <th>Synthese_eval_sanit</th>\n",
       "      <th>geores</th>\n",
       "      <th>filtre</th>\n",
       "      <th>ods_type_activite</th>\n",
       "    </tr>\n",
       "  </thead>\n",
       "  <tbody>\n",
       "    <tr>\n",
       "      <th>0</th>\n",
       "      <td>DE CERGY NEUVILLE (SYND MIXTE D'ETUDE AMENA GE...</td>\n",
       "      <td>29 R DES ETANGS</td>\n",
       "      <td>95800</td>\n",
       "      <td>CERGY</td>\n",
       "      <td>16527453</td>\n",
       "      <td>2022-07-13T02:00:00+02:00</td>\n",
       "      <td>_</td>\n",
       "      <td>A améliorer</td>\n",
       "      <td>NaN</td>\n",
       "      <td>NaN</td>\n",
       "      <td>Autres</td>\n",
       "    </tr>\n",
       "    <tr>\n",
       "      <th>1</th>\n",
       "      <td>CODIPEX (CONSORTIUM EUROPE ECHANG COMMERC INTE...</td>\n",
       "      <td>14 AV SOMMER</td>\n",
       "      <td>92160</td>\n",
       "      <td>ANTONY</td>\n",
       "      <td>16660788</td>\n",
       "      <td>2022-09-07T02:00:00+02:00</td>\n",
       "      <td>_</td>\n",
       "      <td>Très satisfaisant</td>\n",
       "      <td>48.732041,2.305533</td>\n",
       "      <td>NaN</td>\n",
       "      <td>Autres</td>\n",
       "    </tr>\n",
       "  </tbody>\n",
       "</table>\n",
       "</div>"
      ],
      "text/plain": [
       "                           APP_Libelle_etablissement     Adresse_2_UA  \\\n",
       "0  DE CERGY NEUVILLE (SYND MIXTE D'ETUDE AMENA GE...  29 R DES ETANGS   \n",
       "1  CODIPEX (CONSORTIUM EUROPE ECHANG COMMERC INTE...     14 AV SOMMER   \n",
       "\n",
       "  Code_postal Libelle_commune Numero_inspection            Date_inspection  \\\n",
       "0       95800           CERGY          16527453  2022-07-13T02:00:00+02:00   \n",
       "1       92160          ANTONY          16660788  2022-09-07T02:00:00+02:00   \n",
       "\n",
       "  APP_Libelle_activite_etablissement Synthese_eval_sanit              geores  \\\n",
       "0                                  _         A améliorer                 NaN   \n",
       "1                                  _   Très satisfaisant  48.732041,2.305533   \n",
       "\n",
       "  filtre ods_type_activite  \n",
       "0    NaN            Autres  \n",
       "1    NaN            Autres  "
      ]
     },
     "metadata": {},
     "output_type": "display_data"
    },
    {
     "data": {
      "text/html": [
       "<div>\n",
       "<style scoped>\n",
       "    .dataframe tbody tr th:only-of-type {\n",
       "        vertical-align: middle;\n",
       "    }\n",
       "\n",
       "    .dataframe tbody tr th {\n",
       "        vertical-align: top;\n",
       "    }\n",
       "\n",
       "    .dataframe thead th {\n",
       "        text-align: right;\n",
       "    }\n",
       "</style>\n",
       "<table border=\"1\" class=\"dataframe\">\n",
       "  <thead>\n",
       "    <tr style=\"text-align: right;\">\n",
       "      <th></th>\n",
       "      <th>Latitude</th>\n",
       "      <th>Longitude</th>\n",
       "    </tr>\n",
       "  </thead>\n",
       "  <tbody>\n",
       "    <tr>\n",
       "      <th>1</th>\n",
       "      <td>48.732041</td>\n",
       "      <td>2.305533</td>\n",
       "    </tr>\n",
       "    <tr>\n",
       "      <th>2</th>\n",
       "      <td>49.017271</td>\n",
       "      <td>2.380653</td>\n",
       "    </tr>\n",
       "  </tbody>\n",
       "</table>\n",
       "</div>"
      ],
      "text/plain": [
       "    Latitude  Longitude\n",
       "1  48.732041   2.305533\n",
       "2  49.017271   2.380653"
      ]
     },
     "metadata": {},
     "output_type": "display_data"
    }
   ],
   "source": [
    "display(data.head(2))\n",
    "display(data_geo_notna.head(2))"
   ]
  },
  {
   "cell_type": "code",
   "execution_count": 26,
   "id": "4ed1512c",
   "metadata": {},
   "outputs": [],
   "source": [
    "data = pd.concat( [data, data_geo_notna], axis = 1)"
   ]
  },
  {
   "cell_type": "code",
   "execution_count": 27,
   "id": "21bbfe0b",
   "metadata": {},
   "outputs": [
    {
     "data": {
      "text/html": [
       "<div>\n",
       "<style scoped>\n",
       "    .dataframe tbody tr th:only-of-type {\n",
       "        vertical-align: middle;\n",
       "    }\n",
       "\n",
       "    .dataframe tbody tr th {\n",
       "        vertical-align: top;\n",
       "    }\n",
       "\n",
       "    .dataframe thead th {\n",
       "        text-align: right;\n",
       "    }\n",
       "</style>\n",
       "<table border=\"1\" class=\"dataframe\">\n",
       "  <thead>\n",
       "    <tr style=\"text-align: right;\">\n",
       "      <th></th>\n",
       "      <th>APP_Libelle_etablissement</th>\n",
       "      <th>Adresse_2_UA</th>\n",
       "      <th>Code_postal</th>\n",
       "      <th>Libelle_commune</th>\n",
       "      <th>Numero_inspection</th>\n",
       "      <th>Date_inspection</th>\n",
       "      <th>APP_Libelle_activite_etablissement</th>\n",
       "      <th>Synthese_eval_sanit</th>\n",
       "      <th>geores</th>\n",
       "      <th>filtre</th>\n",
       "      <th>ods_type_activite</th>\n",
       "      <th>Latitude</th>\n",
       "      <th>Longitude</th>\n",
       "    </tr>\n",
       "  </thead>\n",
       "  <tbody>\n",
       "    <tr>\n",
       "      <th>0</th>\n",
       "      <td>DE CERGY NEUVILLE (SYND MIXTE D'ETUDE AMENA GE...</td>\n",
       "      <td>29 R DES ETANGS</td>\n",
       "      <td>95800</td>\n",
       "      <td>CERGY</td>\n",
       "      <td>16527453</td>\n",
       "      <td>2022-07-13T02:00:00+02:00</td>\n",
       "      <td>_</td>\n",
       "      <td>A améliorer</td>\n",
       "      <td>NaN</td>\n",
       "      <td>NaN</td>\n",
       "      <td>Autres</td>\n",
       "      <td>NaN</td>\n",
       "      <td>NaN</td>\n",
       "    </tr>\n",
       "    <tr>\n",
       "      <th>1</th>\n",
       "      <td>CODIPEX (CONSORTIUM EUROPE ECHANG COMMERC INTE...</td>\n",
       "      <td>14 AV SOMMER</td>\n",
       "      <td>92160</td>\n",
       "      <td>ANTONY</td>\n",
       "      <td>16660788</td>\n",
       "      <td>2022-09-07T02:00:00+02:00</td>\n",
       "      <td>_</td>\n",
       "      <td>Très satisfaisant</td>\n",
       "      <td>48.732041,2.305533</td>\n",
       "      <td>NaN</td>\n",
       "      <td>Autres</td>\n",
       "      <td>48.732041</td>\n",
       "      <td>2.305533</td>\n",
       "    </tr>\n",
       "  </tbody>\n",
       "</table>\n",
       "</div>"
      ],
      "text/plain": [
       "                           APP_Libelle_etablissement     Adresse_2_UA  \\\n",
       "0  DE CERGY NEUVILLE (SYND MIXTE D'ETUDE AMENA GE...  29 R DES ETANGS   \n",
       "1  CODIPEX (CONSORTIUM EUROPE ECHANG COMMERC INTE...     14 AV SOMMER   \n",
       "\n",
       "  Code_postal Libelle_commune Numero_inspection            Date_inspection  \\\n",
       "0       95800           CERGY          16527453  2022-07-13T02:00:00+02:00   \n",
       "1       92160          ANTONY          16660788  2022-09-07T02:00:00+02:00   \n",
       "\n",
       "  APP_Libelle_activite_etablissement Synthese_eval_sanit              geores  \\\n",
       "0                                  _         A améliorer                 NaN   \n",
       "1                                  _   Très satisfaisant  48.732041,2.305533   \n",
       "\n",
       "  filtre ods_type_activite   Latitude  Longitude  \n",
       "0    NaN            Autres        NaN        NaN  \n",
       "1    NaN            Autres  48.732041   2.305533  "
      ]
     },
     "execution_count": 27,
     "metadata": {},
     "output_type": "execute_result"
    }
   ],
   "source": [
    "data.head(2)"
   ]
  },
  {
   "cell_type": "markdown",
   "id": "5f34f2a0",
   "metadata": {},
   "source": [
    "## Imputation nan de Latt et Long\n",
    "Par la methode d'iterrative imputer nous allons traite les nan pour ces variables"
   ]
  },
  {
   "cell_type": "code",
   "execution_count": 28,
   "id": "d627cef6",
   "metadata": {},
   "outputs": [
    {
     "data": {
      "text/plain": [
       "Latitude     -21.377503\n",
       "Longitude   -176.230404\n",
       "dtype: float64"
      ]
     },
     "execution_count": 28,
     "metadata": {},
     "output_type": "execute_result"
    }
   ],
   "source": [
    "data[['Latitude', 'Longitude']].min()"
   ]
  },
  {
   "cell_type": "code",
   "execution_count": 29,
   "id": "2f3c57f9",
   "metadata": {},
   "outputs": [],
   "source": [
    "lis_var = ['Latitude', 'Longitude']\n",
    "data_lat_long = data[lis_var]\n",
    "impute_median = IterativeImputer(initial_strategy =  'median', random_state = 5) # min_value = 0\n",
    "df_lat_long_imput = impute_median.fit_transform(data_lat_long)\n",
    "df_lat_long_imput = pd.DataFrame(df_lat_long_imput, columns = ['Latitude','Longitude' ])"
   ]
  },
  {
   "cell_type": "code",
   "execution_count": 30,
   "id": "bede38cd",
   "metadata": {},
   "outputs": [
    {
     "data": {
      "text/html": [
       "<div>\n",
       "<style scoped>\n",
       "    .dataframe tbody tr th:only-of-type {\n",
       "        vertical-align: middle;\n",
       "    }\n",
       "\n",
       "    .dataframe tbody tr th {\n",
       "        vertical-align: top;\n",
       "    }\n",
       "\n",
       "    .dataframe thead th {\n",
       "        text-align: right;\n",
       "    }\n",
       "</style>\n",
       "<table border=\"1\" class=\"dataframe\">\n",
       "  <thead>\n",
       "    <tr style=\"text-align: right;\">\n",
       "      <th></th>\n",
       "      <th>Latitude</th>\n",
       "      <th>Longitude</th>\n",
       "    </tr>\n",
       "  </thead>\n",
       "  <tbody>\n",
       "    <tr>\n",
       "      <th>0</th>\n",
       "      <td>45.883682</td>\n",
       "      <td>1.814627</td>\n",
       "    </tr>\n",
       "    <tr>\n",
       "      <th>1</th>\n",
       "      <td>48.732041</td>\n",
       "      <td>2.305533</td>\n",
       "    </tr>\n",
       "    <tr>\n",
       "      <th>2</th>\n",
       "      <td>49.017271</td>\n",
       "      <td>2.380653</td>\n",
       "    </tr>\n",
       "    <tr>\n",
       "      <th>3</th>\n",
       "      <td>48.868487</td>\n",
       "      <td>2.227684</td>\n",
       "    </tr>\n",
       "    <tr>\n",
       "      <th>4</th>\n",
       "      <td>45.762926</td>\n",
       "      <td>4.832648</td>\n",
       "    </tr>\n",
       "    <tr>\n",
       "      <th>...</th>\n",
       "      <td>...</td>\n",
       "      <td>...</td>\n",
       "    </tr>\n",
       "    <tr>\n",
       "      <th>34172</th>\n",
       "      <td>46.299554</td>\n",
       "      <td>4.897724</td>\n",
       "    </tr>\n",
       "    <tr>\n",
       "      <th>34173</th>\n",
       "      <td>48.835253</td>\n",
       "      <td>2.316900</td>\n",
       "    </tr>\n",
       "    <tr>\n",
       "      <th>34174</th>\n",
       "      <td>46.553788</td>\n",
       "      <td>5.671371</td>\n",
       "    </tr>\n",
       "    <tr>\n",
       "      <th>34175</th>\n",
       "      <td>45.612674</td>\n",
       "      <td>4.046673</td>\n",
       "    </tr>\n",
       "    <tr>\n",
       "      <th>34176</th>\n",
       "      <td>44.628900</td>\n",
       "      <td>5.520219</td>\n",
       "    </tr>\n",
       "  </tbody>\n",
       "</table>\n",
       "<p>34177 rows × 2 columns</p>\n",
       "</div>"
      ],
      "text/plain": [
       "        Latitude  Longitude\n",
       "0      45.883682   1.814627\n",
       "1      48.732041   2.305533\n",
       "2      49.017271   2.380653\n",
       "3      48.868487   2.227684\n",
       "4      45.762926   4.832648\n",
       "...          ...        ...\n",
       "34172  46.299554   4.897724\n",
       "34173  48.835253   2.316900\n",
       "34174  46.553788   5.671371\n",
       "34175  45.612674   4.046673\n",
       "34176  44.628900   5.520219\n",
       "\n",
       "[34177 rows x 2 columns]"
      ]
     },
     "execution_count": 30,
     "metadata": {},
     "output_type": "execute_result"
    }
   ],
   "source": [
    "df_lat_long_imput"
   ]
  },
  {
   "cell_type": "markdown",
   "id": "2ac36c3e",
   "metadata": {},
   "source": [
    "## Verification"
   ]
  },
  {
   "cell_type": "code",
   "execution_count": 31,
   "id": "073ab502",
   "metadata": {},
   "outputs": [
    {
     "name": "stdout",
     "output_type": "stream",
     "text": [
      "Pour la dimesion:\n"
     ]
    },
    {
     "data": {
      "text/plain": [
       "(34177, 2)"
      ]
     },
     "metadata": {},
     "output_type": "display_data"
    },
    {
     "name": "stdout",
     "output_type": "stream",
     "text": [
      "Pour les valeurs manquantes\n"
     ]
    },
    {
     "data": {
      "text/plain": [
       "Latitude     0\n",
       "Longitude    0\n",
       "dtype: int64"
      ]
     },
     "metadata": {},
     "output_type": "display_data"
    },
    {
     "name": "stdout",
     "output_type": "stream",
     "text": [
      "Pour les valeurs minimales\n"
     ]
    },
    {
     "data": {
      "text/plain": [
       "Latitude     -21.377503\n",
       "Longitude   -176.230404\n",
       "dtype: float64"
      ]
     },
     "metadata": {},
     "output_type": "display_data"
    },
    {
     "name": "stdout",
     "output_type": "stream",
     "text": [
      "Pour les valeurs maxmimales\n"
     ]
    },
    {
     "data": {
      "text/plain": [
       "Latitude     51.079032\n",
       "Longitude    55.805871\n",
       "dtype: float64"
      ]
     },
     "metadata": {},
     "output_type": "display_data"
    }
   ],
   "source": [
    "print(\"Pour la dimesion:\")\n",
    "display(df_lat_long_imput.shape)\n",
    "print(\"Pour les valeurs manquantes\")\n",
    "display(df_lat_long_imput.isna().sum())\n",
    "print(\"Pour les valeurs minimales\")\n",
    "display(df_lat_long_imput.min())\n",
    "print(\"Pour les valeurs maxmimales\")\n",
    "display(df_lat_long_imput.max())"
   ]
  },
  {
   "cell_type": "markdown",
   "id": "358384a8",
   "metadata": {},
   "source": [
    "## Actualisation"
   ]
  },
  {
   "cell_type": "code",
   "execution_count": 32,
   "id": "aa159708",
   "metadata": {},
   "outputs": [],
   "source": [
    "data_clean = data.copy()\n",
    "data_clean.drop(lis_var, axis =1, inplace = True)"
   ]
  },
  {
   "cell_type": "code",
   "execution_count": 33,
   "id": "240adf0d",
   "metadata": {},
   "outputs": [],
   "source": [
    "data =  pd.concat([data_clean,df_lat_long_imput ], axis = 1)\n",
    "data.drop('geores', axis =1, inplace = True)"
   ]
  },
  {
   "cell_type": "code",
   "execution_count": 34,
   "id": "c6918f73",
   "metadata": {},
   "outputs": [
    {
     "data": {
      "text/html": [
       "<div>\n",
       "<style scoped>\n",
       "    .dataframe tbody tr th:only-of-type {\n",
       "        vertical-align: middle;\n",
       "    }\n",
       "\n",
       "    .dataframe tbody tr th {\n",
       "        vertical-align: top;\n",
       "    }\n",
       "\n",
       "    .dataframe thead th {\n",
       "        text-align: right;\n",
       "    }\n",
       "</style>\n",
       "<table border=\"1\" class=\"dataframe\">\n",
       "  <thead>\n",
       "    <tr style=\"text-align: right;\">\n",
       "      <th></th>\n",
       "      <th>APP_Libelle_etablissement</th>\n",
       "      <th>Adresse_2_UA</th>\n",
       "      <th>Code_postal</th>\n",
       "      <th>Libelle_commune</th>\n",
       "      <th>Numero_inspection</th>\n",
       "      <th>Date_inspection</th>\n",
       "      <th>APP_Libelle_activite_etablissement</th>\n",
       "      <th>Synthese_eval_sanit</th>\n",
       "      <th>filtre</th>\n",
       "      <th>ods_type_activite</th>\n",
       "      <th>Latitude</th>\n",
       "      <th>Longitude</th>\n",
       "    </tr>\n",
       "  </thead>\n",
       "  <tbody>\n",
       "    <tr>\n",
       "      <th>0</th>\n",
       "      <td>DE CERGY NEUVILLE (SYND MIXTE D'ETUDE AMENA GE...</td>\n",
       "      <td>29 R DES ETANGS</td>\n",
       "      <td>95800</td>\n",
       "      <td>CERGY</td>\n",
       "      <td>16527453</td>\n",
       "      <td>2022-07-13T02:00:00+02:00</td>\n",
       "      <td>_</td>\n",
       "      <td>A améliorer</td>\n",
       "      <td>NaN</td>\n",
       "      <td>Autres</td>\n",
       "      <td>45.883682</td>\n",
       "      <td>1.814627</td>\n",
       "    </tr>\n",
       "    <tr>\n",
       "      <th>1</th>\n",
       "      <td>CODIPEX (CONSORTIUM EUROPE ECHANG COMMERC INTE...</td>\n",
       "      <td>14 AV SOMMER</td>\n",
       "      <td>92160</td>\n",
       "      <td>ANTONY</td>\n",
       "      <td>16660788</td>\n",
       "      <td>2022-09-07T02:00:00+02:00</td>\n",
       "      <td>_</td>\n",
       "      <td>Très satisfaisant</td>\n",
       "      <td>NaN</td>\n",
       "      <td>Autres</td>\n",
       "      <td>48.732041</td>\n",
       "      <td>2.305533</td>\n",
       "    </tr>\n",
       "  </tbody>\n",
       "</table>\n",
       "</div>"
      ],
      "text/plain": [
       "                           APP_Libelle_etablissement     Adresse_2_UA  \\\n",
       "0  DE CERGY NEUVILLE (SYND MIXTE D'ETUDE AMENA GE...  29 R DES ETANGS   \n",
       "1  CODIPEX (CONSORTIUM EUROPE ECHANG COMMERC INTE...     14 AV SOMMER   \n",
       "\n",
       "  Code_postal Libelle_commune Numero_inspection            Date_inspection  \\\n",
       "0       95800           CERGY          16527453  2022-07-13T02:00:00+02:00   \n",
       "1       92160          ANTONY          16660788  2022-09-07T02:00:00+02:00   \n",
       "\n",
       "  APP_Libelle_activite_etablissement Synthese_eval_sanit filtre  \\\n",
       "0                                  _         A améliorer    NaN   \n",
       "1                                  _   Très satisfaisant    NaN   \n",
       "\n",
       "  ods_type_activite   Latitude  Longitude  \n",
       "0            Autres  45.883682   1.814627  \n",
       "1            Autres  48.732041   2.305533  "
      ]
     },
     "metadata": {},
     "output_type": "display_data"
    },
    {
     "data": {
      "text/plain": [
       "(34177, 12)"
      ]
     },
     "metadata": {},
     "output_type": "display_data"
    }
   ],
   "source": [
    "display(data.head(2))\n",
    "display(data.shape)"
   ]
  },
  {
   "cell_type": "markdown",
   "id": "3543034b",
   "metadata": {},
   "source": [
    "## <font color=\"red\" id=\"section_3_2\" > 3.2 Traitement valeurs manquantes et transformation : _Filtre_"
   ]
  },
  {
   "cell_type": "code",
   "execution_count": 35,
   "id": "25b12f6a",
   "metadata": {},
   "outputs": [
    {
     "data": {
      "text/plain": [
       "0                            NaN\n",
       "1                            NaN\n",
       "2                            NaN\n",
       "3          Alimentation générale\n",
       "4                     Restaurant\n",
       "                  ...           \n",
       "34172                        NaN\n",
       "34173    Restauration collective\n",
       "34174                        NaN\n",
       "34175    Restauration collective\n",
       "34176                        NaN\n",
       "Name: filtre, Length: 34177, dtype: object"
      ]
     },
     "execution_count": 35,
     "metadata": {},
     "output_type": "execute_result"
    }
   ],
   "source": [
    "data[\"filtre\"]"
   ]
  },
  {
   "cell_type": "markdown",
   "id": "acfab3e3",
   "metadata": {},
   "source": [
    "Pour cette variable catégorielle, nous allons simplement remplacer les **NaN** par les modalités de la variable **ods_type_activite**."
   ]
  },
  {
   "cell_type": "code",
   "execution_count": 36,
   "id": "548899e7",
   "metadata": {},
   "outputs": [
    {
     "name": "stdout",
     "output_type": "stream",
     "text": [
      "Nombre de  valeurs uniques de APP_Libelle_etablissement est :  26959\n",
      "----------------------------------------------------------------------\n",
      "Nombre de  valeurs uniques de Adresse_2_UA est :  28231\n",
      "----------------------------------------------------------------------\n",
      "Nombre de  valeurs uniques de Code_postal est :  5041\n",
      "----------------------------------------------------------------------\n",
      "Nombre de  valeurs uniques de Libelle_commune est :  8928\n",
      "----------------------------------------------------------------------\n",
      "Nombre de  valeurs uniques de Numero_inspection est :  34177\n",
      "----------------------------------------------------------------------\n",
      "Nombre de  valeurs uniques de Date_inspection est :  298\n",
      "----------------------------------------------------------------------\n",
      "Nombre de  valeurs uniques de APP_Libelle_activite_etablissement est :  154\n",
      "----------------------------------------------------------------------\n",
      "Nombre de  valeurs uniques de Synthese_eval_sanit est :  4\n",
      "----------------------------------------------------------------------\n",
      "Nombre de  valeurs uniques de filtre est :  101\n",
      "----------------------------------------------------------------------\n",
      "Nombre de  valeurs uniques de ods_type_activite est :  7\n",
      "----------------------------------------------------------------------\n",
      "Nombre de  valeurs uniques de Latitude est :  27874\n",
      "----------------------------------------------------------------------\n",
      "Nombre de  valeurs uniques de Longitude est :  27953\n",
      "----------------------------------------------------------------------\n"
     ]
    }
   ],
   "source": [
    "for col in data.columns:\n",
    "    print(\"Nombre de  valeurs uniques de\", col, \"est : \", data[col].nunique())\n",
    "    print(\"-\"*70)"
   ]
  },
  {
   "cell_type": "code",
   "execution_count": 37,
   "id": "e9f1993a",
   "metadata": {},
   "outputs": [
    {
     "name": "stdout",
     "output_type": "stream",
     "text": [
      "Le nombre de modalités dans filtre, nan ,est :  0\n",
      "----------------------------------------------------------------------------------------------------\n",
      "Le nombre de modalités dans filtre, Alimentation générale ,est :  212\n",
      "----------------------------------------------------------------------------------------------------\n",
      "Le nombre de modalités dans filtre, Restaurant ,est :  11692\n",
      "----------------------------------------------------------------------------------------------------\n",
      "Le nombre de modalités dans filtre, Boucherie-Charcuterie ,est :  1188\n",
      "----------------------------------------------------------------------------------------------------\n",
      "Le nombre de modalités dans filtre, Traiteur ,est :  319\n",
      "----------------------------------------------------------------------------------------------------\n",
      "Le nombre de modalités dans filtre, Boulangerie-Pâtisserie ,est :  565\n",
      "----------------------------------------------------------------------------------------------------\n",
      "Le nombre de modalités dans filtre, Rayon boucherie-charcuterie ,est :  261\n",
      "----------------------------------------------------------------------------------------------------\n",
      "Le nombre de modalités dans filtre, Rayon fruits & légumes ,est :  3\n",
      "----------------------------------------------------------------------------------------------------\n",
      "Le nombre de modalités dans filtre, Poissonnerie ,est :  238\n",
      "----------------------------------------------------------------------------------------------------\n",
      "Le nombre de modalités dans filtre, Chocolatier ,est :  10\n",
      "----------------------------------------------------------------------------------------------------\n",
      "Le nombre de modalités dans filtre, Rayon poissonnerie ,est :  211\n",
      "----------------------------------------------------------------------------------------------------\n",
      "Le nombre de modalités dans filtre, Restauration collective ,est :  7041\n",
      "----------------------------------------------------------------------------------------------------\n",
      "Le nombre de modalités dans filtre, Rayon pain/viennoiserie/pâtisserie ,est :  63\n",
      "----------------------------------------------------------------------------------------------------\n",
      "Le nombre de modalités dans filtre, Producteur fermier ,est :  1575\n",
      "----------------------------------------------------------------------------------------------------\n",
      "Le nombre de modalités dans filtre, Primeur ,est :  2\n",
      "----------------------------------------------------------------------------------------------------\n",
      "Le nombre de modalités dans filtre, Rayon traiteur ,est :  30\n",
      "----------------------------------------------------------------------------------------------------\n",
      "Le nombre de modalités dans filtre, Fromagerie|Alimentation générale|Boucherie-Charcuterie ,est :  5\n",
      "----------------------------------------------------------------------------------------------------\n",
      "Le nombre de modalités dans filtre, Fromagerie|Boucherie-Charcuterie ,est :  48\n",
      "----------------------------------------------------------------------------------------------------\n",
      "Le nombre de modalités dans filtre, Fromagerie ,est :  85\n",
      "----------------------------------------------------------------------------------------------------\n",
      "Le nombre de modalités dans filtre, Libre service|Alimentation générale ,est :  377\n",
      "----------------------------------------------------------------------------------------------------\n",
      "Le nombre de modalités dans filtre, Traiteur|Boucherie-Charcuterie ,est :  280\n",
      "----------------------------------------------------------------------------------------------------\n",
      "Le nombre de modalités dans filtre, Libre service|Rayon poissonnerie ,est :  2\n",
      "----------------------------------------------------------------------------------------------------\n",
      "Le nombre de modalités dans filtre, Boulangerie-Pâtisserie|Traiteur ,est :  35\n",
      "----------------------------------------------------------------------------------------------------\n",
      "Le nombre de modalités dans filtre, Alimentation générale|Poissonnerie|Traiteur ,est :  1\n",
      "----------------------------------------------------------------------------------------------------\n",
      "Le nombre de modalités dans filtre, Poissonnerie|Traiteur ,est :  10\n",
      "----------------------------------------------------------------------------------------------------\n",
      "Le nombre de modalités dans filtre, Libre service ,est :  359\n",
      "----------------------------------------------------------------------------------------------------\n",
      "Le nombre de modalités dans filtre, Chocolatier|Boulangerie-Pâtisserie|Glacier ,est :  2\n",
      "----------------------------------------------------------------------------------------------------\n",
      "Le nombre de modalités dans filtre, Rayon fromagerie ,est :  27\n",
      "----------------------------------------------------------------------------------------------------\n",
      "Le nombre de modalités dans filtre, Rayon poissonnerie|Rayon fromagerie|Rayon boucherie-charcuterie ,est :  12\n",
      "----------------------------------------------------------------------------------------------------\n",
      "Le nombre de modalités dans filtre, Fromagerie|Alimentation générale ,est :  10\n",
      "----------------------------------------------------------------------------------------------------\n",
      "Le nombre de modalités dans filtre, Fromagerie|Traiteur|Boucherie-Charcuterie ,est :  10\n",
      "----------------------------------------------------------------------------------------------------\n",
      "Le nombre de modalités dans filtre, Rayon traiteur|Rayon boucherie-charcuterie ,est :  34\n",
      "----------------------------------------------------------------------------------------------------\n",
      "Le nombre de modalités dans filtre, Libre service|Rayon fromagerie|Rayon boucherie-charcuterie ,est :  2\n",
      "----------------------------------------------------------------------------------------------------\n",
      "Le nombre de modalités dans filtre, Chocolatier|Boulangerie-Pâtisserie ,est :  6\n",
      "----------------------------------------------------------------------------------------------------\n",
      "Le nombre de modalités dans filtre, Libre service|Rayon poissonnerie|Rayon fromagerie|Rayon traiteur|Rayon boucherie-charcuterie ,est :  3\n",
      "----------------------------------------------------------------------------------------------------\n",
      "Le nombre de modalités dans filtre, Rayon poissonnerie|Rayon fromagerie|Rayon traiteur|Rayon pain/viennoiserie/pâtisserie|Rayon boucherie-charcuterie ,est :  5\n",
      "----------------------------------------------------------------------------------------------------\n",
      "Le nombre de modalités dans filtre, Rayon poissonnerie|Rayon boucherie-charcuterie ,est :  8\n",
      "----------------------------------------------------------------------------------------------------\n",
      "Le nombre de modalités dans filtre, Rayon fromagerie|Rayon boucherie-charcuterie ,est :  14\n",
      "----------------------------------------------------------------------------------------------------\n",
      "Le nombre de modalités dans filtre, Rayon traiteur|Rayon pain/viennoiserie/pâtisserie|Rayon boucherie-charcuterie ,est :  4\n",
      "----------------------------------------------------------------------------------------------------\n",
      "Le nombre de modalités dans filtre, Alimentation générale|Boulangerie-Pâtisserie ,est :  14\n",
      "----------------------------------------------------------------------------------------------------\n",
      "Le nombre de modalités dans filtre, Alimentation générale|Boucherie-Charcuterie ,est :  39\n",
      "----------------------------------------------------------------------------------------------------\n",
      "Le nombre de modalités dans filtre, Libre service|Alimentation générale|Rayon traiteur|Rayon boucherie-charcuterie ,est :  2\n",
      "----------------------------------------------------------------------------------------------------\n",
      "Le nombre de modalités dans filtre, Glacier ,est :  26\n",
      "----------------------------------------------------------------------------------------------------\n",
      "Le nombre de modalités dans filtre, Fromagerie|Libre service|Alimentation générale|Traiteur|Boucherie-Charcuterie ,est :  2\n",
      "----------------------------------------------------------------------------------------------------\n",
      "Le nombre de modalités dans filtre, Rayon fromagerie|Rayon pain/viennoiserie/pâtisserie|Rayon boucherie-charcuterie ,est :  1\n",
      "----------------------------------------------------------------------------------------------------\n",
      "Le nombre de modalités dans filtre, Alimentation générale|Traiteur ,est :  17\n",
      "----------------------------------------------------------------------------------------------------\n",
      "Le nombre de modalités dans filtre, Fromagerie|Boulangerie-Pâtisserie|Traiteur ,est :  1\n",
      "----------------------------------------------------------------------------------------------------\n"
     ]
    },
    {
     "name": "stdout",
     "output_type": "stream",
     "text": [
      "Le nombre de modalités dans filtre, Rayon fromagerie|Rayon traiteur|Rayon boucherie-charcuterie ,est :  8\n",
      "----------------------------------------------------------------------------------------------------\n",
      "Le nombre de modalités dans filtre, Libre service|Alimentation générale|Rayon boucherie-charcuterie ,est :  3\n",
      "----------------------------------------------------------------------------------------------------\n",
      "Le nombre de modalités dans filtre, Fromagerie|Libre service|Alimentation générale|Boucherie-Charcuterie ,est :  4\n",
      "----------------------------------------------------------------------------------------------------\n",
      "Le nombre de modalités dans filtre, Fromagerie|Libre service|Alimentation générale|Poissonnerie|Traiteur|Boucherie-Charcuterie ,est :  1\n",
      "----------------------------------------------------------------------------------------------------\n",
      "Le nombre de modalités dans filtre, Libre service|Alimentation générale|Traiteur ,est :  3\n",
      "----------------------------------------------------------------------------------------------------\n",
      "Le nombre de modalités dans filtre, Rayon poissonnerie|Rayon fromagerie|Rayon traiteur|Rayon boucherie-charcuterie ,est :  5\n",
      "----------------------------------------------------------------------------------------------------\n",
      "Le nombre de modalités dans filtre, Boulangerie-Pâtisserie|Glacier ,est :  3\n",
      "----------------------------------------------------------------------------------------------------\n",
      "Le nombre de modalités dans filtre, Libre service|Traiteur|Boucherie-Charcuterie ,est :  1\n",
      "----------------------------------------------------------------------------------------------------\n",
      "Le nombre de modalités dans filtre, Fromagerie|Alimentation générale|Traiteur|Boucherie-Charcuterie ,est :  2\n",
      "----------------------------------------------------------------------------------------------------\n",
      "Le nombre de modalités dans filtre, Alimentation générale|Boulangerie-Pâtisserie|Traiteur ,est :  1\n",
      "----------------------------------------------------------------------------------------------------\n",
      "Le nombre de modalités dans filtre, Libre service|Rayon poissonnerie|Rayon fromagerie|Rayon boucherie-charcuterie ,est :  5\n",
      "----------------------------------------------------------------------------------------------------\n",
      "Le nombre de modalités dans filtre, Alimentation générale|Poissonnerie ,est :  6\n",
      "----------------------------------------------------------------------------------------------------\n",
      "Le nombre de modalités dans filtre, Libre service|Alimentation générale|Boucherie-Charcuterie ,est :  6\n",
      "----------------------------------------------------------------------------------------------------\n",
      "Le nombre de modalités dans filtre, Alimentation générale|Traiteur|Boucherie-Charcuterie ,est :  1\n",
      "----------------------------------------------------------------------------------------------------\n",
      "Le nombre de modalités dans filtre, Rayon poissonnerie|Rayon fromagerie|Rayon pain/viennoiserie/pâtisserie|Rayon boucherie-charcuterie ,est :  1\n",
      "----------------------------------------------------------------------------------------------------\n",
      "Le nombre de modalités dans filtre, Libre service|Rayon boucherie-charcuterie ,est :  4\n",
      "----------------------------------------------------------------------------------------------------\n",
      "Le nombre de modalités dans filtre, Libre service|Alimentation générale|Poissonnerie|Boucherie-Charcuterie ,est :  1\n",
      "----------------------------------------------------------------------------------------------------\n",
      "Le nombre de modalités dans filtre, Rayon poissonnerie|Rayon traiteur ,est :  1\n",
      "----------------------------------------------------------------------------------------------------\n",
      "Le nombre de modalités dans filtre, Rayon poissonnerie|Rayon fromagerie|Rayon traiteur ,est :  1\n",
      "----------------------------------------------------------------------------------------------------\n",
      "Le nombre de modalités dans filtre, Libre service|Rayon fromagerie|Alimentation générale|Rayon traiteur|Rayon pain/viennoiserie/pâtisserie ,est :  1\n",
      "----------------------------------------------------------------------------------------------------\n",
      "Le nombre de modalités dans filtre, Rayon poissonnerie|Rayon traiteur|Rayon boucherie-charcuterie ,est :  2\n",
      "----------------------------------------------------------------------------------------------------\n",
      "Le nombre de modalités dans filtre, Alimentation générale|Rayon boucherie-charcuterie ,est :  2\n",
      "----------------------------------------------------------------------------------------------------\n",
      "Le nombre de modalités dans filtre, Fromagerie|Libre service|Alimentation générale ,est :  2\n",
      "----------------------------------------------------------------------------------------------------\n",
      "Le nombre de modalités dans filtre, Libre service|Alimentation générale|Poissonnerie ,est :  1\n",
      "----------------------------------------------------------------------------------------------------\n",
      "Le nombre de modalités dans filtre, Poissonnerie|Traiteur|Boucherie-Charcuterie ,est :  1\n",
      "----------------------------------------------------------------------------------------------------\n",
      "Le nombre de modalités dans filtre, Libre service|Alimentation générale|Boulangerie-Pâtisserie ,est :  3\n",
      "----------------------------------------------------------------------------------------------------\n",
      "Le nombre de modalités dans filtre, Rayon fromagerie|Rayon traiteur ,est :  2\n",
      "----------------------------------------------------------------------------------------------------\n",
      "Le nombre de modalités dans filtre, Fromagerie|Traiteur ,est :  1\n",
      "----------------------------------------------------------------------------------------------------\n",
      "Le nombre de modalités dans filtre, Fromagerie|Libre service|Boucherie-Charcuterie ,est :  1\n",
      "----------------------------------------------------------------------------------------------------\n",
      "Le nombre de modalités dans filtre, Chocolatier|Boulangerie-Pâtisserie|Traiteur|Boucherie-Charcuterie ,est :  1\n",
      "----------------------------------------------------------------------------------------------------\n",
      "Le nombre de modalités dans filtre, Boulangerie-Pâtisserie|Traiteur|Boucherie-Charcuterie ,est :  1\n",
      "----------------------------------------------------------------------------------------------------\n",
      "Le nombre de modalités dans filtre, Rayon traiteur|Rayon pain/viennoiserie/pâtisserie ,est :  3\n",
      "----------------------------------------------------------------------------------------------------\n",
      "Le nombre de modalités dans filtre, Rayon poissonnerie|Rayon fromagerie ,est :  2\n",
      "----------------------------------------------------------------------------------------------------\n",
      "Le nombre de modalités dans filtre, Chocolatier|Boulangerie-Pâtisserie|Traiteur ,est :  1\n",
      "----------------------------------------------------------------------------------------------------\n",
      "Le nombre de modalités dans filtre, Libre service|Rayon traiteur ,est :  3\n",
      "----------------------------------------------------------------------------------------------------\n",
      "Le nombre de modalités dans filtre, Fromagerie|Libre service|Alimentation générale|Boulangerie-Pâtisserie|Poissonnerie|Boucherie-Charcuterie ,est :  1\n",
      "----------------------------------------------------------------------------------------------------\n",
      "Le nombre de modalités dans filtre, Libre service|Rayon fromagerie|Rayon traiteur|Rayon boucherie-charcuterie ,est :  1\n",
      "----------------------------------------------------------------------------------------------------\n",
      "Le nombre de modalités dans filtre, Alimentation générale|Boulangerie-Pâtisserie|Boucherie-Charcuterie ,est :  1\n",
      "----------------------------------------------------------------------------------------------------\n",
      "Le nombre de modalités dans filtre, Libre service|Rayon poissonnerie|Rayon fromagerie|Rayon pain/viennoiserie/pâtisserie|Rayon boucherie-charcuterie ,est :  2\n",
      "----------------------------------------------------------------------------------------------------\n",
      "Le nombre de modalités dans filtre, Rayon poissonnerie|Rayon pain/viennoiserie/pâtisserie|Rayon boucherie-charcuterie ,est :  2\n",
      "----------------------------------------------------------------------------------------------------\n",
      "Le nombre de modalités dans filtre, Libre service|Rayon poissonnerie|Rayon fromagerie|Rayon traiteur|Rayon pain/viennoiserie/pâtisserie|Rayon boucherie-charcuterie ,est :  3\n",
      "----------------------------------------------------------------------------------------------------\n",
      "Le nombre de modalités dans filtre, Rayon poissonnerie|Rayon traiteur|Rayon pain/viennoiserie/pâtisserie|Rayon boucherie-charcuterie ,est :  4\n",
      "----------------------------------------------------------------------------------------------------\n",
      "Le nombre de modalités dans filtre, Boulangerie-Pâtisserie|Boucherie-Charcuterie ,est :  2\n",
      "----------------------------------------------------------------------------------------------------\n"
     ]
    },
    {
     "name": "stdout",
     "output_type": "stream",
     "text": [
      "Le nombre de modalités dans filtre, Alimentation générale|Rayon pain/viennoiserie/pâtisserie ,est :  2\n",
      "----------------------------------------------------------------------------------------------------\n",
      "Le nombre de modalités dans filtre, Fromagerie|Alimentation générale|Boulangerie-Pâtisserie|Glacier|Boucherie-Charcuterie ,est :  1\n",
      "----------------------------------------------------------------------------------------------------\n",
      "Le nombre de modalités dans filtre, Libre service|Rayon poissonnerie|Rayon traiteur|Rayon pain/viennoiserie/pâtisserie|Rayon boucherie-charcuterie ,est :  1\n",
      "----------------------------------------------------------------------------------------------------\n",
      "Le nombre de modalités dans filtre, Alimentation générale|Poissonnerie|Boucherie-Charcuterie ,est :  1\n",
      "----------------------------------------------------------------------------------------------------\n",
      "Le nombre de modalités dans filtre, Poissonnerie|Boucherie-Charcuterie ,est :  3\n",
      "----------------------------------------------------------------------------------------------------\n",
      "Le nombre de modalités dans filtre, Libre service|Alimentation générale|Rayon pain/viennoiserie/pâtisserie ,est :  1\n",
      "----------------------------------------------------------------------------------------------------\n",
      "Le nombre de modalités dans filtre, Libre service|Rayon fromagerie|Alimentation générale|Rayon traiteur|Rayon boucherie-charcuterie ,est :  1\n",
      "----------------------------------------------------------------------------------------------------\n",
      "Le nombre de modalités dans filtre, Alimentation générale|Rayon traiteur ,est :  1\n",
      "----------------------------------------------------------------------------------------------------\n",
      "Le nombre de modalités dans filtre, Libre service|Rayon poissonnerie|Rayon boucherie-charcuterie ,est :  2\n",
      "----------------------------------------------------------------------------------------------------\n",
      "Le nombre de modalités dans filtre, Libre service|Alimentation générale|Traiteur|Boucherie-Charcuterie ,est :  1\n",
      "----------------------------------------------------------------------------------------------------\n",
      "Le nombre de modalités dans filtre, Fromagerie|Alimentation générale|Boulangerie-Pâtisserie|Traiteur ,est :  1\n",
      "----------------------------------------------------------------------------------------------------\n",
      "Le nombre de modalités dans filtre, Libre service|Rayon poissonnerie|Rayon traiteur|Rayon boucherie-charcuterie ,est :  1\n",
      "----------------------------------------------------------------------------------------------------\n"
     ]
    }
   ],
   "source": [
    "for mod in data.filtre.unique():\n",
    "    print(\"Le nombre de modalités dans filtre,\",mod,\",est : \",len((data[data[\"filtre\"]==mod])))\n",
    "    print(\"-\"*100)"
   ]
  },
  {
   "cell_type": "code",
   "execution_count": 38,
   "id": "1d0a6530",
   "metadata": {},
   "outputs": [],
   "source": [
    "Mod_freq =  ['Alimentation générale', 'Restaurant', 'Boucherie-Charcuterie', \"Boulangerie-Pâtisserie\",\n",
    "            'Restauration collective',  'Producteur fermier', 'Libre service']"
   ]
  },
  {
   "cell_type": "markdown",
   "id": "445e3238",
   "metadata": {},
   "source": [
    "## Commentaire:\n",
    "En dehors de ces éléments, nous allons remplacer les autres élements y compris les **NaN** par les modalités de la variable **ods_type_activite**."
   ]
  },
  {
   "cell_type": "code",
   "execution_count": 39,
   "id": "ae857c39",
   "metadata": {},
   "outputs": [
    {
     "data": {
      "text/plain": [
       "9210"
      ]
     },
     "execution_count": 39,
     "metadata": {},
     "output_type": "execute_result"
    }
   ],
   "source": [
    "data[\"filtre\"].isna().sum()"
   ]
  },
  {
   "cell_type": "code",
   "execution_count": 40,
   "id": "ef468c31",
   "metadata": {},
   "outputs": [],
   "source": [
    "data =  data.copy()"
   ]
  },
  {
   "cell_type": "code",
   "execution_count": 41,
   "id": "ed9d678f",
   "metadata": {},
   "outputs": [],
   "source": [
    "index_list = []\n",
    "for index, value in data['filtre'].items():\n",
    "    if value not in  Mod_freq:\n",
    "        index_list.append(index)  \n",
    "#Recuperation des indices des mod plus frequents\n",
    "index_list_freq = []\n",
    "for index, value in data['filtre'].items():\n",
    "    if value  in  Mod_freq:\n",
    "        index_list_freq.append(index) "
   ]
  },
  {
   "cell_type": "code",
   "execution_count": 42,
   "id": "9c5f8db3",
   "metadata": {},
   "outputs": [
    {
     "name": "stdout",
     "output_type": "stream",
     "text": [
      "La taille de data_1 est: (11545, 12)\n",
      "------------------------------------------------------------------------------------------------------------------------\n",
      "La taille de data_2 est: (22632, 12)\n",
      "Aperçu data_2\n"
     ]
    },
    {
     "data": {
      "text/html": [
       "<div>\n",
       "<style scoped>\n",
       "    .dataframe tbody tr th:only-of-type {\n",
       "        vertical-align: middle;\n",
       "    }\n",
       "\n",
       "    .dataframe tbody tr th {\n",
       "        vertical-align: top;\n",
       "    }\n",
       "\n",
       "    .dataframe thead th {\n",
       "        text-align: right;\n",
       "    }\n",
       "</style>\n",
       "<table border=\"1\" class=\"dataframe\">\n",
       "  <thead>\n",
       "    <tr style=\"text-align: right;\">\n",
       "      <th></th>\n",
       "      <th>APP_Libelle_etablissement</th>\n",
       "      <th>Adresse_2_UA</th>\n",
       "      <th>Code_postal</th>\n",
       "      <th>Libelle_commune</th>\n",
       "      <th>Numero_inspection</th>\n",
       "      <th>Date_inspection</th>\n",
       "      <th>APP_Libelle_activite_etablissement</th>\n",
       "      <th>Synthese_eval_sanit</th>\n",
       "      <th>filtre_activite</th>\n",
       "      <th>ods_type_activite</th>\n",
       "      <th>Latitude</th>\n",
       "      <th>Longitude</th>\n",
       "    </tr>\n",
       "  </thead>\n",
       "  <tbody>\n",
       "    <tr>\n",
       "      <th>3</th>\n",
       "      <td>NATURALIA (NATURALIA FRANCE)</td>\n",
       "      <td>2 B RUE DIDEROT</td>\n",
       "      <td>92150</td>\n",
       "      <td>SURESNES</td>\n",
       "      <td>16377245</td>\n",
       "      <td>2022-03-18T01:00:00+01:00</td>\n",
       "      <td>Alimentation générale</td>\n",
       "      <td>Satisfaisant</td>\n",
       "      <td>Alimentation générale</td>\n",
       "      <td>Autres</td>\n",
       "      <td>48.868487</td>\n",
       "      <td>2.227684</td>\n",
       "    </tr>\n",
       "    <tr>\n",
       "      <th>4</th>\n",
       "      <td>LE SAINT JOSEPH (RESTAURANT DE LA BOULANGERIE)</td>\n",
       "      <td>46 R MERCIERE</td>\n",
       "      <td>69002</td>\n",
       "      <td>LYON</td>\n",
       "      <td>16463805</td>\n",
       "      <td>2022-04-05T02:00:00+02:00</td>\n",
       "      <td>Restaurant</td>\n",
       "      <td>Très satisfaisant</td>\n",
       "      <td>Restaurant</td>\n",
       "      <td>Autres</td>\n",
       "      <td>45.762926</td>\n",
       "      <td>4.832648</td>\n",
       "    </tr>\n",
       "  </tbody>\n",
       "</table>\n",
       "</div>"
      ],
      "text/plain": [
       "                        APP_Libelle_etablissement     Adresse_2_UA  \\\n",
       "3                    NATURALIA (NATURALIA FRANCE)  2 B RUE DIDEROT   \n",
       "4  LE SAINT JOSEPH (RESTAURANT DE LA BOULANGERIE)    46 R MERCIERE   \n",
       "\n",
       "  Code_postal Libelle_commune Numero_inspection            Date_inspection  \\\n",
       "3       92150        SURESNES          16377245  2022-03-18T01:00:00+01:00   \n",
       "4       69002            LYON          16463805  2022-04-05T02:00:00+02:00   \n",
       "\n",
       "  APP_Libelle_activite_etablissement Synthese_eval_sanit  \\\n",
       "3              Alimentation générale        Satisfaisant   \n",
       "4                         Restaurant   Très satisfaisant   \n",
       "\n",
       "         filtre_activite ods_type_activite   Latitude  Longitude  \n",
       "3  Alimentation générale            Autres  48.868487   2.227684  \n",
       "4             Restaurant            Autres  45.762926   4.832648  "
      ]
     },
     "metadata": {},
     "output_type": "display_data"
    }
   ],
   "source": [
    "data_1 = data.filter(items =index_list, axis = 0 )\n",
    "data_2 = data.filter(items =index_list_freq, axis = 0 )\n",
    "#Affichage de la taille de data_1\n",
    "print(\"La taille de data_1 est:\", data_1.shape)\n",
    "print(\"--\"*60)\n",
    "#Affichage de la taille de data_2\n",
    "print(\"La taille de data_2 est:\", data_2.shape)\n",
    "data_1[\"filtre\"] = np.nan\n",
    "data_1[\"filtre\"].fillna(\" \", inplace = True)\n",
    "data_1['filtre_activite'] = data_1['filtre'] + data_1[\"ods_type_activite\"]\n",
    "\n",
    "# Rename de la colonne flitre de data_2 en filtre_activite\n",
    "data_2.rename(columns = {\"filtre\" :\"filtre_activite\"}, inplace = True)\n",
    "\n",
    "#Aperçu de data_2\n",
    "print(\"Aperçu data_2\")\n",
    "display(data_2.head(2))\n",
    "# Concatenation des deux tableaux\n",
    "data_all = pd.concat([data_1, data_2], axis = 0)"
   ]
  },
  {
   "cell_type": "markdown",
   "id": "1a56e118",
   "metadata": {},
   "source": [
    "## Verification"
   ]
  },
  {
   "cell_type": "code",
   "execution_count": 43,
   "id": "9950efc9",
   "metadata": {},
   "outputs": [
    {
     "data": {
      "text/html": [
       "<div>\n",
       "<style scoped>\n",
       "    .dataframe tbody tr th:only-of-type {\n",
       "        vertical-align: middle;\n",
       "    }\n",
       "\n",
       "    .dataframe tbody tr th {\n",
       "        vertical-align: top;\n",
       "    }\n",
       "\n",
       "    .dataframe thead th {\n",
       "        text-align: right;\n",
       "    }\n",
       "</style>\n",
       "<table border=\"1\" class=\"dataframe\">\n",
       "  <thead>\n",
       "    <tr style=\"text-align: right;\">\n",
       "      <th></th>\n",
       "      <th>APP_Libelle_etablissement</th>\n",
       "      <th>Adresse_2_UA</th>\n",
       "      <th>Code_postal</th>\n",
       "      <th>Libelle_commune</th>\n",
       "      <th>Numero_inspection</th>\n",
       "      <th>Date_inspection</th>\n",
       "      <th>APP_Libelle_activite_etablissement</th>\n",
       "      <th>Synthese_eval_sanit</th>\n",
       "      <th>filtre</th>\n",
       "      <th>ods_type_activite</th>\n",
       "      <th>Latitude</th>\n",
       "      <th>Longitude</th>\n",
       "      <th>filtre_activite</th>\n",
       "    </tr>\n",
       "  </thead>\n",
       "  <tbody>\n",
       "    <tr>\n",
       "      <th>0</th>\n",
       "      <td>DE CERGY NEUVILLE (SYND MIXTE D'ETUDE AMENA GE...</td>\n",
       "      <td>29 R DES ETANGS</td>\n",
       "      <td>95800</td>\n",
       "      <td>CERGY</td>\n",
       "      <td>16527453</td>\n",
       "      <td>2022-07-13T02:00:00+02:00</td>\n",
       "      <td>_</td>\n",
       "      <td>A améliorer</td>\n",
       "      <td></td>\n",
       "      <td>Autres</td>\n",
       "      <td>45.883682</td>\n",
       "      <td>1.814627</td>\n",
       "      <td>Autres</td>\n",
       "    </tr>\n",
       "    <tr>\n",
       "      <th>1</th>\n",
       "      <td>CODIPEX (CONSORTIUM EUROPE ECHANG COMMERC INTE...</td>\n",
       "      <td>14 AV SOMMER</td>\n",
       "      <td>92160</td>\n",
       "      <td>ANTONY</td>\n",
       "      <td>16660788</td>\n",
       "      <td>2022-09-07T02:00:00+02:00</td>\n",
       "      <td>_</td>\n",
       "      <td>Très satisfaisant</td>\n",
       "      <td></td>\n",
       "      <td>Autres</td>\n",
       "      <td>48.732041</td>\n",
       "      <td>2.305533</td>\n",
       "      <td>Autres</td>\n",
       "    </tr>\n",
       "  </tbody>\n",
       "</table>\n",
       "</div>"
      ],
      "text/plain": [
       "                           APP_Libelle_etablissement     Adresse_2_UA  \\\n",
       "0  DE CERGY NEUVILLE (SYND MIXTE D'ETUDE AMENA GE...  29 R DES ETANGS   \n",
       "1  CODIPEX (CONSORTIUM EUROPE ECHANG COMMERC INTE...     14 AV SOMMER   \n",
       "\n",
       "  Code_postal Libelle_commune Numero_inspection            Date_inspection  \\\n",
       "0       95800           CERGY          16527453  2022-07-13T02:00:00+02:00   \n",
       "1       92160          ANTONY          16660788  2022-09-07T02:00:00+02:00   \n",
       "\n",
       "  APP_Libelle_activite_etablissement Synthese_eval_sanit filtre  \\\n",
       "0                                  _         A améliorer          \n",
       "1                                  _   Très satisfaisant          \n",
       "\n",
       "  ods_type_activite   Latitude  Longitude filtre_activite  \n",
       "0            Autres  45.883682   1.814627          Autres  \n",
       "1            Autres  48.732041   2.305533          Autres  "
      ]
     },
     "metadata": {},
     "output_type": "display_data"
    },
    {
     "data": {
      "text/html": [
       "<div>\n",
       "<style scoped>\n",
       "    .dataframe tbody tr th:only-of-type {\n",
       "        vertical-align: middle;\n",
       "    }\n",
       "\n",
       "    .dataframe tbody tr th {\n",
       "        vertical-align: top;\n",
       "    }\n",
       "\n",
       "    .dataframe thead th {\n",
       "        text-align: right;\n",
       "    }\n",
       "</style>\n",
       "<table border=\"1\" class=\"dataframe\">\n",
       "  <thead>\n",
       "    <tr style=\"text-align: right;\">\n",
       "      <th></th>\n",
       "      <th>APP_Libelle_etablissement</th>\n",
       "      <th>Adresse_2_UA</th>\n",
       "      <th>Code_postal</th>\n",
       "      <th>Libelle_commune</th>\n",
       "      <th>Numero_inspection</th>\n",
       "      <th>Date_inspection</th>\n",
       "      <th>APP_Libelle_activite_etablissement</th>\n",
       "      <th>Synthese_eval_sanit</th>\n",
       "      <th>filtre</th>\n",
       "      <th>ods_type_activite</th>\n",
       "      <th>Latitude</th>\n",
       "      <th>Longitude</th>\n",
       "      <th>filtre_activite</th>\n",
       "    </tr>\n",
       "  </thead>\n",
       "  <tbody>\n",
       "    <tr>\n",
       "      <th>34173</th>\n",
       "      <td>OGEC SOC ELISABETH DE PLAISANC</td>\n",
       "      <td>12 RUE CROCE-SPINELLI</td>\n",
       "      <td>75014</td>\n",
       "      <td>Paris 14e  Arrondissement</td>\n",
       "      <td>22-075149-1</td>\n",
       "      <td>2022-09-26T02:00:00+02:00</td>\n",
       "      <td>Restauration collective</td>\n",
       "      <td>Satisfaisant</td>\n",
       "      <td>NaN</td>\n",
       "      <td>Autres</td>\n",
       "      <td>48.835253</td>\n",
       "      <td>2.316900</td>\n",
       "      <td>Restauration collective</td>\n",
       "    </tr>\n",
       "    <tr>\n",
       "      <th>34175</th>\n",
       "      <td>CENTRE HOSPITALIER DU FOREZ</td>\n",
       "      <td>av des mots du soir</td>\n",
       "      <td>42600</td>\n",
       "      <td>Montbrison</td>\n",
       "      <td>22-068033-1</td>\n",
       "      <td>2022-08-31T02:00:00+02:00</td>\n",
       "      <td>Restauration collective</td>\n",
       "      <td>Satisfaisant</td>\n",
       "      <td>NaN</td>\n",
       "      <td>Autres</td>\n",
       "      <td>45.612674</td>\n",
       "      <td>4.046673</td>\n",
       "      <td>Restauration collective</td>\n",
       "    </tr>\n",
       "  </tbody>\n",
       "</table>\n",
       "</div>"
      ],
      "text/plain": [
       "            APP_Libelle_etablissement           Adresse_2_UA Code_postal  \\\n",
       "34173  OGEC SOC ELISABETH DE PLAISANC  12 RUE CROCE-SPINELLI       75014   \n",
       "34175     CENTRE HOSPITALIER DU FOREZ    av des mots du soir       42600   \n",
       "\n",
       "                 Libelle_commune Numero_inspection            Date_inspection  \\\n",
       "34173  Paris 14e  Arrondissement       22-075149-1  2022-09-26T02:00:00+02:00   \n",
       "34175                 Montbrison       22-068033-1  2022-08-31T02:00:00+02:00   \n",
       "\n",
       "      APP_Libelle_activite_etablissement Synthese_eval_sanit filtre  \\\n",
       "34173            Restauration collective        Satisfaisant    NaN   \n",
       "34175            Restauration collective        Satisfaisant    NaN   \n",
       "\n",
       "      ods_type_activite   Latitude  Longitude          filtre_activite  \n",
       "34173            Autres  48.835253   2.316900  Restauration collective  \n",
       "34175            Autres  45.612674   4.046673  Restauration collective  "
      ]
     },
     "metadata": {},
     "output_type": "display_data"
    },
    {
     "name": "stdout",
     "output_type": "stream",
     "text": [
      "La taille du tableau aprés manoeuvre est : (34177, 13)\n"
     ]
    }
   ],
   "source": [
    "display(data_all.head(2))\n",
    "display(data_all.tail(2))\n",
    "print(\"La taille du tableau aprés manoeuvre est :\", data_all.shape)"
   ]
  },
  {
   "cell_type": "code",
   "execution_count": 44,
   "id": "0f79b630",
   "metadata": {},
   "outputs": [
    {
     "data": {
      "text/plain": [
       "array([' Autres', \" Produits de la mer et d'eau douce\",\n",
       "       ' Lait et produits laitiers', ' Abattoirs',\n",
       "       ' Viandes et produits carnés',\n",
       "       ' Transport et entreposage de denrées alimentaires',\n",
       "       ' Œufs et ovoproduits', 'Alimentation générale', 'Restaurant',\n",
       "       'Boucherie-Charcuterie', 'Boulangerie-Pâtisserie',\n",
       "       'Restauration collective', 'Producteur fermier', 'Libre service'],\n",
       "      dtype=object)"
      ]
     },
     "execution_count": 44,
     "metadata": {},
     "output_type": "execute_result"
    }
   ],
   "source": [
    "data_all['filtre_activite'].unique()"
   ]
  },
  {
   "cell_type": "markdown",
   "id": "4aa7fe46",
   "metadata": {},
   "source": [
    "## <font color=\"red\" id=\"section_4\" > 4. Selection variable pertinentes"
   ]
  },
  {
   "cell_type": "code",
   "execution_count": 45,
   "id": "49528e8f",
   "metadata": {},
   "outputs": [],
   "source": [
    "lis_var_pert = ['APP_Libelle_etablissement','Code_postal', \"Adresse_2_UA\", 'Libelle_commune',\n",
    "                 'Synthese_eval_sanit', \"filtre_activite\", \"Latitude\", \"Longitude\" ]"
   ]
  },
  {
   "cell_type": "code",
   "execution_count": 46,
   "id": "ecc13b7a",
   "metadata": {},
   "outputs": [
    {
     "data": {
      "text/html": [
       "<div>\n",
       "<style scoped>\n",
       "    .dataframe tbody tr th:only-of-type {\n",
       "        vertical-align: middle;\n",
       "    }\n",
       "\n",
       "    .dataframe tbody tr th {\n",
       "        vertical-align: top;\n",
       "    }\n",
       "\n",
       "    .dataframe thead th {\n",
       "        text-align: right;\n",
       "    }\n",
       "</style>\n",
       "<table border=\"1\" class=\"dataframe\">\n",
       "  <thead>\n",
       "    <tr style=\"text-align: right;\">\n",
       "      <th></th>\n",
       "      <th>APP_Libelle_etablissement</th>\n",
       "      <th>Code_postal</th>\n",
       "      <th>Adresse_2_UA</th>\n",
       "      <th>Libelle_commune</th>\n",
       "      <th>Synthese_eval_sanit</th>\n",
       "      <th>filtre_activite</th>\n",
       "      <th>Latitude</th>\n",
       "      <th>Longitude</th>\n",
       "    </tr>\n",
       "  </thead>\n",
       "  <tbody>\n",
       "    <tr>\n",
       "      <th>0</th>\n",
       "      <td>DE CERGY NEUVILLE (SYND MIXTE D'ETUDE AMENA GE...</td>\n",
       "      <td>95800</td>\n",
       "      <td>29 R DES ETANGS</td>\n",
       "      <td>CERGY</td>\n",
       "      <td>A améliorer</td>\n",
       "      <td>Autres</td>\n",
       "      <td>45.883682</td>\n",
       "      <td>1.814627</td>\n",
       "    </tr>\n",
       "    <tr>\n",
       "      <th>1</th>\n",
       "      <td>CODIPEX (CONSORTIUM EUROPE ECHANG COMMERC INTE...</td>\n",
       "      <td>92160</td>\n",
       "      <td>14 AV SOMMER</td>\n",
       "      <td>ANTONY</td>\n",
       "      <td>Très satisfaisant</td>\n",
       "      <td>Autres</td>\n",
       "      <td>48.732041</td>\n",
       "      <td>2.305533</td>\n",
       "    </tr>\n",
       "  </tbody>\n",
       "</table>\n",
       "</div>"
      ],
      "text/plain": [
       "                           APP_Libelle_etablissement Code_postal  \\\n",
       "0  DE CERGY NEUVILLE (SYND MIXTE D'ETUDE AMENA GE...       95800   \n",
       "1  CODIPEX (CONSORTIUM EUROPE ECHANG COMMERC INTE...       92160   \n",
       "\n",
       "      Adresse_2_UA Libelle_commune Synthese_eval_sanit filtre_activite  \\\n",
       "0  29 R DES ETANGS           CERGY         A améliorer          Autres   \n",
       "1     14 AV SOMMER          ANTONY   Très satisfaisant          Autres   \n",
       "\n",
       "    Latitude  Longitude  \n",
       "0  45.883682   1.814627  \n",
       "1  48.732041   2.305533  "
      ]
     },
     "metadata": {},
     "output_type": "display_data"
    },
    {
     "data": {
      "text/plain": [
       "(34177, 8)"
      ]
     },
     "metadata": {},
     "output_type": "display_data"
    }
   ],
   "source": [
    "data_selct =  data_all[lis_var_pert]\n",
    "display(data_selct.head(2))\n",
    "display(data_selct.shape)"
   ]
  },
  {
   "cell_type": "code",
   "execution_count": 47,
   "id": "fa8982bf",
   "metadata": {},
   "outputs": [
    {
     "data": {
      "text/html": [
       "<div>\n",
       "<style scoped>\n",
       "    .dataframe tbody tr th:only-of-type {\n",
       "        vertical-align: middle;\n",
       "    }\n",
       "\n",
       "    .dataframe tbody tr th {\n",
       "        vertical-align: top;\n",
       "    }\n",
       "\n",
       "    .dataframe thead th {\n",
       "        text-align: right;\n",
       "    }\n",
       "</style>\n",
       "<table border=\"1\" class=\"dataframe\">\n",
       "  <thead>\n",
       "    <tr style=\"text-align: right;\">\n",
       "      <th></th>\n",
       "      <th>Taux_remplissage</th>\n",
       "      <th>Valeurs manquantes</th>\n",
       "    </tr>\n",
       "  </thead>\n",
       "  <tbody>\n",
       "    <tr>\n",
       "      <th>APP_Libelle_etablissement</th>\n",
       "      <td>100.000000</td>\n",
       "      <td>0</td>\n",
       "    </tr>\n",
       "    <tr>\n",
       "      <th>Code_postal</th>\n",
       "      <td>100.000000</td>\n",
       "      <td>0</td>\n",
       "    </tr>\n",
       "    <tr>\n",
       "      <th>Libelle_commune</th>\n",
       "      <td>100.000000</td>\n",
       "      <td>0</td>\n",
       "    </tr>\n",
       "    <tr>\n",
       "      <th>Synthese_eval_sanit</th>\n",
       "      <td>100.000000</td>\n",
       "      <td>0</td>\n",
       "    </tr>\n",
       "    <tr>\n",
       "      <th>filtre_activite</th>\n",
       "      <td>100.000000</td>\n",
       "      <td>0</td>\n",
       "    </tr>\n",
       "    <tr>\n",
       "      <th>Latitude</th>\n",
       "      <td>100.000000</td>\n",
       "      <td>0</td>\n",
       "    </tr>\n",
       "    <tr>\n",
       "      <th>Longitude</th>\n",
       "      <td>100.000000</td>\n",
       "      <td>0</td>\n",
       "    </tr>\n",
       "    <tr>\n",
       "      <th>Adresse_2_UA</th>\n",
       "      <td>98.577991</td>\n",
       "      <td>486</td>\n",
       "    </tr>\n",
       "  </tbody>\n",
       "</table>\n",
       "</div>"
      ],
      "text/plain": [
       "                           Taux_remplissage  Valeurs manquantes\n",
       "APP_Libelle_etablissement        100.000000                   0\n",
       "Code_postal                      100.000000                   0\n",
       "Libelle_commune                  100.000000                   0\n",
       "Synthese_eval_sanit              100.000000                   0\n",
       "filtre_activite                  100.000000                   0\n",
       "Latitude                         100.000000                   0\n",
       "Longitude                        100.000000                   0\n",
       "Adresse_2_UA                      98.577991                 486"
      ]
     },
     "execution_count": 47,
     "metadata": {},
     "output_type": "execute_result"
    }
   ],
   "source": [
    "rech_nan(data_selct)"
   ]
  },
  {
   "cell_type": "markdown",
   "id": "a58a59dd",
   "metadata": {},
   "source": [
    "## <font color=\"red\" id=\"section_5\" > 5. Description statistique et distribution"
   ]
  },
  {
   "cell_type": "code",
   "execution_count": 48,
   "id": "57704c0d",
   "metadata": {},
   "outputs": [
    {
     "data": {
      "text/html": [
       "<div>\n",
       "<style scoped>\n",
       "    .dataframe tbody tr th:only-of-type {\n",
       "        vertical-align: middle;\n",
       "    }\n",
       "\n",
       "    .dataframe tbody tr th {\n",
       "        vertical-align: top;\n",
       "    }\n",
       "\n",
       "    .dataframe thead th {\n",
       "        text-align: right;\n",
       "    }\n",
       "</style>\n",
       "<table border=\"1\" class=\"dataframe\">\n",
       "  <thead>\n",
       "    <tr style=\"text-align: right;\">\n",
       "      <th></th>\n",
       "      <th>count</th>\n",
       "      <th>unique</th>\n",
       "      <th>top</th>\n",
       "      <th>freq</th>\n",
       "    </tr>\n",
       "  </thead>\n",
       "  <tbody>\n",
       "    <tr>\n",
       "      <th>APP_Libelle_etablissement</th>\n",
       "      <td>34177</td>\n",
       "      <td>26959</td>\n",
       "      <td>ECOLE PRIMAIRE PUBLIQUE</td>\n",
       "      <td>140</td>\n",
       "    </tr>\n",
       "    <tr>\n",
       "      <th>Code_postal</th>\n",
       "      <td>34177</td>\n",
       "      <td>5041</td>\n",
       "      <td>75015</td>\n",
       "      <td>629</td>\n",
       "    </tr>\n",
       "    <tr>\n",
       "      <th>Adresse_2_UA</th>\n",
       "      <td>33691</td>\n",
       "      <td>28231</td>\n",
       "      <td>LE BOURG</td>\n",
       "      <td>100</td>\n",
       "    </tr>\n",
       "    <tr>\n",
       "      <th>Libelle_commune</th>\n",
       "      <td>34177</td>\n",
       "      <td>8928</td>\n",
       "      <td>Paris 15e  Arrondissement</td>\n",
       "      <td>619</td>\n",
       "    </tr>\n",
       "    <tr>\n",
       "      <th>Synthese_eval_sanit</th>\n",
       "      <td>34177</td>\n",
       "      <td>4</td>\n",
       "      <td>Satisfaisant</td>\n",
       "      <td>18467</td>\n",
       "    </tr>\n",
       "    <tr>\n",
       "      <th>filtre_activite</th>\n",
       "      <td>34177</td>\n",
       "      <td>14</td>\n",
       "      <td>Restaurant</td>\n",
       "      <td>11692</td>\n",
       "    </tr>\n",
       "  </tbody>\n",
       "</table>\n",
       "</div>"
      ],
      "text/plain": [
       "                           count unique                        top   freq\n",
       "APP_Libelle_etablissement  34177  26959    ECOLE PRIMAIRE PUBLIQUE    140\n",
       "Code_postal                34177   5041                      75015    629\n",
       "Adresse_2_UA               33691  28231                   LE BOURG    100\n",
       "Libelle_commune            34177   8928  Paris 15e  Arrondissement    619\n",
       "Synthese_eval_sanit        34177      4               Satisfaisant  18467\n",
       "filtre_activite            34177     14                 Restaurant  11692"
      ]
     },
     "execution_count": 48,
     "metadata": {},
     "output_type": "execute_result"
    }
   ],
   "source": [
    "data_selct.select_dtypes('object').describe().T"
   ]
  },
  {
   "cell_type": "code",
   "execution_count": 49,
   "id": "a27edbf3",
   "metadata": {},
   "outputs": [
    {
     "data": {
      "text/html": [
       "<div>\n",
       "<style scoped>\n",
       "    .dataframe tbody tr th:only-of-type {\n",
       "        vertical-align: middle;\n",
       "    }\n",
       "\n",
       "    .dataframe tbody tr th {\n",
       "        vertical-align: top;\n",
       "    }\n",
       "\n",
       "    .dataframe thead th {\n",
       "        text-align: right;\n",
       "    }\n",
       "</style>\n",
       "<table border=\"1\" class=\"dataframe\">\n",
       "  <thead>\n",
       "    <tr style=\"text-align: right;\">\n",
       "      <th></th>\n",
       "      <th>count</th>\n",
       "      <th>mean</th>\n",
       "      <th>std</th>\n",
       "      <th>min</th>\n",
       "      <th>25%</th>\n",
       "      <th>50%</th>\n",
       "      <th>75%</th>\n",
       "      <th>max</th>\n",
       "    </tr>\n",
       "  </thead>\n",
       "  <tbody>\n",
       "    <tr>\n",
       "      <th>Latitude</th>\n",
       "      <td>34177.0</td>\n",
       "      <td>45.882262</td>\n",
       "      <td>7.766278</td>\n",
       "      <td>-21.377503</td>\n",
       "      <td>45.008827</td>\n",
       "      <td>47.574207</td>\n",
       "      <td>48.855287</td>\n",
       "      <td>51.079032</td>\n",
       "    </tr>\n",
       "    <tr>\n",
       "      <th>Longitude</th>\n",
       "      <td>34177.0</td>\n",
       "      <td>1.814329</td>\n",
       "      <td>10.594925</td>\n",
       "      <td>-176.230404</td>\n",
       "      <td>1.123247</td>\n",
       "      <td>2.352200</td>\n",
       "      <td>4.227222</td>\n",
       "      <td>55.805871</td>\n",
       "    </tr>\n",
       "  </tbody>\n",
       "</table>\n",
       "</div>"
      ],
      "text/plain": [
       "             count       mean        std         min        25%        50%  \\\n",
       "Latitude   34177.0  45.882262   7.766278  -21.377503  45.008827  47.574207   \n",
       "Longitude  34177.0   1.814329  10.594925 -176.230404   1.123247   2.352200   \n",
       "\n",
       "                 75%        max  \n",
       "Latitude   48.855287  51.079032  \n",
       "Longitude   4.227222  55.805871  "
      ]
     },
     "execution_count": 49,
     "metadata": {},
     "output_type": "execute_result"
    }
   ],
   "source": [
    "data_selct.describe().T"
   ]
  },
  {
   "cell_type": "code",
   "execution_count": 50,
   "id": "97b9f991",
   "metadata": {
    "scrolled": false
   },
   "outputs": [
    {
     "data": {
      "image/png": "[encoded data removed]",
      "text/plain": [
       "<Figure size 792x360 with 2 Axes>"
      ]
     },
     "metadata": {
      "needs_background": "light"
     },
     "output_type": "display_data"
    },
    {
     "data": {
      "image/png": "[encoded data removed]",
      "text/plain": [
       "<Figure size 792x360 with 2 Axes>"
      ]
     },
     "metadata": {
      "needs_background": "light"
     },
     "output_type": "display_data"
    }
   ],
   "source": [
    "plt.rcParams[\"figure.figsize\"] = [11,5]\n",
    "grid = plt.GridSpec(2,2 , wspace=0.5, hspace=0.8)\n",
    "for col in data_selct.select_dtypes( include = ['float', 'int']).columns.to_list():\n",
    "    plt.figure()\n",
    "    ax0 = plt.subplot(grid[0, 0:1])\n",
    "    ax0= sns.distplot(data_selct[col], kde =True)\n",
    "    ax0.set_title(\"Distribution vs loi normal: {}\" .format(col), fontsize = 12)\n",
    "    ax1 = plt.subplot(grid[0, 1:])\n",
    "    ax1= sns.boxplot(data = data_selct,  x = data_selct[col], showfliers =False, showmeans =True)\n",
    "    ax1.set_title(\"Box plot de: {}\" .format(col), fontsize = 12)\n",
    "\n"
   ]
  },
  {
   "cell_type": "markdown",
   "id": "821a2d67",
   "metadata": {},
   "source": [
    "# Commentaire :\n",
    "\n",
    "La plupart des activités tourne autour de la restauration et l'évaluation globale est **satisfaisant**. Le 15 iéme arrondissement de Paris est plus concerné par ce controle sanitaire.\n",
    "\n",
    "Les **distribution non Gaussienne** des coordonnées géographiques nous renseignent sur l'etendu de la **zone de contrôle** autrement, une grande partie du territoire francçais ont été concernée par ce contrôle."
   ]
  },
  {
   "cell_type": "markdown",
   "id": "c39e076e",
   "metadata": {},
   "source": [
    "## <font color=\"red\" id=\"section_6\" > 6. TARGET: Synthese_eval_sanit"
   ]
  },
  {
   "cell_type": "code",
   "execution_count": 51,
   "id": "869ddb49",
   "metadata": {},
   "outputs": [
    {
     "data": {
      "text/plain": [
       "Satisfaisant                     18467\n",
       "Très satisfaisant                13711\n",
       "A améliorer                       1864\n",
       "A corriger de manière urgente      135\n",
       "Name: Synthese_eval_sanit, dtype: int64"
      ]
     },
     "execution_count": 51,
     "metadata": {},
     "output_type": "execute_result"
    }
   ],
   "source": [
    "data_selct['Synthese_eval_sanit'].value_counts()"
   ]
  },
  {
   "cell_type": "code",
   "execution_count": 52,
   "id": "1432ca00",
   "metadata": {},
   "outputs": [
    {
     "data": {
      "text/plain": [
       "<AxesSubplot:>"
      ]
     },
     "execution_count": 52,
     "metadata": {},
     "output_type": "execute_result"
    },
    {
     "data": {
      "image/png": "[encoded data removed]",
      "text/plain": [
       "<Figure size 432x288 with 1 Axes>"
      ]
     },
     "metadata": {
      "needs_background": "light"
     },
     "output_type": "display_data"
    }
   ],
   "source": [
    "data_selct['Synthese_eval_sanit'].value_counts().plot.barh(color = 'red', figsize =(6, 4))"
   ]
  },
  {
   "cell_type": "markdown",
   "id": "84b0b967",
   "metadata": {},
   "source": [
    "# Commentaire: \n",
    "On premier constat constitue à affirmer que les cibles sont déséquilibrés. On va falloir donc les gonfler artificiellement pendent la formation.\n",
    "Nous allons dés à présent regrouper les cibles les moins  volumineux en une seule variable appelé: **Urgent_Améliorer**."
   ]
  },
  {
   "cell_type": "code",
   "execution_count": 53,
   "id": "a9ce6ca7",
   "metadata": {},
   "outputs": [],
   "source": [
    "for mod in data_selct['Synthese_eval_sanit'].unique():\n",
    "    if (mod == 'A améliorer' ) | (mod == 'A corriger de manière urgente' ) :\n",
    "        data_selct.loc[data_selct['Synthese_eval_sanit']==mod, 'Synthese_eval_sanit'] = 'Urgent_Améliorer'"
   ]
  },
  {
   "cell_type": "code",
   "execution_count": 54,
   "id": "a5907ded",
   "metadata": {},
   "outputs": [
    {
     "data": {
      "text/plain": [
       "Satisfaisant         18467\n",
       "Très satisfaisant    13711\n",
       "Urgent_Améliorer      1999\n",
       "Name: Synthese_eval_sanit, dtype: int64"
      ]
     },
     "execution_count": 54,
     "metadata": {},
     "output_type": "execute_result"
    }
   ],
   "source": [
    "data_selct['Synthese_eval_sanit'].value_counts()"
   ]
  },
  {
   "cell_type": "code",
   "execution_count": 55,
   "id": "8ba066dd",
   "metadata": {},
   "outputs": [
    {
     "data": {
      "text/plain": [
       "<AxesSubplot:>"
      ]
     },
     "execution_count": 55,
     "metadata": {},
     "output_type": "execute_result"
    },
    {
     "data": {
      "image/png": "[encoded data removed]",
      "text/plain": [
       "<Figure size 432x288 with 1 Axes>"
      ]
     },
     "metadata": {
      "needs_background": "light"
     },
     "output_type": "display_data"
    }
   ],
   "source": [
    "data_selct['Synthese_eval_sanit'].value_counts().plot.bar(color = 'blue', figsize =(6, 4))"
   ]
  },
  {
   "cell_type": "markdown",
   "id": "870e8c2c",
   "metadata": {},
   "source": [
    "## <font color=\"red\" id=\"section_7\" > 7. Features transformation:  Adresse_2_UA\n",
    "    \n",
    "**Commentaire**: Dans le but de faciliter la classification; nous allons séparer les différents types adresses en nouvelle variable avec des counter."
   ]
  },
  {
   "cell_type": "code",
   "execution_count": 56,
   "id": "b91fc10e",
   "metadata": {},
   "outputs": [
    {
     "data": {
      "text/plain": [
       "25292                  146 AV DE PARIS\n",
       "19358           135 RUE RENE SQUADRONI\n",
       "20652                rue de notre dame\n",
       "19670             75 RUE VASCO DE GAMA\n",
       "12046              14 RUE DES GRILLONS\n",
       "9599     ECOLE MATERNELLE LES TILLEULS\n",
       "Name: Adresse_2_UA, dtype: object"
      ]
     },
     "metadata": {},
     "output_type": "display_data"
    },
    {
     "data": {
      "text/plain": [
       "34166           Rue Benjamin Constant\n",
       "34167                 54 RUE DE PARIS\n",
       "34169               186 RUE DE CRIMEE\n",
       "34170    2 RUE MAURICE AYRET D ORTAIL\n",
       "34173           12 RUE CROCE-SPINELLI\n",
       "34175             av des mots du soir\n",
       "Name: Adresse_2_UA, dtype: object"
      ]
     },
     "metadata": {},
     "output_type": "display_data"
    }
   ],
   "source": [
    "display(data_selct['Adresse_2_UA'].sample(6))\n",
    "display(data_selct['Adresse_2_UA'].tail(6))"
   ]
  },
  {
   "cell_type": "code",
   "execution_count": 57,
   "id": "5c12722d",
   "metadata": {},
   "outputs": [],
   "source": [
    "def coding_binary(col, codeDict):\n",
    "    colCoded = pd.Series(col, copy=True)\n",
    "    for key, value in codeDict.items():\n",
    "        colCoded.replace(key, value, inplace=True) #keys est la valeurs à remplacer par value\n",
    "    return colCoded"
   ]
  },
  {
   "cell_type": "code",
   "execution_count": 58,
   "id": "73f1887e",
   "metadata": {},
   "outputs": [],
   "source": [
    "data_selct['Adresse_2_UA'] = data_selct['Adresse_2_UA'].str.lower()\n",
    "data_selct['Adresse_2_UA'].fillna('nd', inplace = True)\n",
    "# Rue \n",
    "data_selct['Adress_Rue'] = data_selct['Adresse_2_UA'].str.count('rue')\n",
    "data_selct['Adress_Rue'] = coding_binary(data_selct['Adress_Rue'], {2:1}) \n",
    "# Avenue ou AV\n",
    "data_selct['Adress_Avenue'] = data_selct['Adresse_2_UA'].str.count('avenue') + data_selct['Adresse_2_UA'].str.count('av') \n",
    "data_selct['Adress_Avenue'] = coding_binary(data_selct['Adress_Avenue'], {2:1, 3:1}) \n",
    "# Chemin ou ch\n",
    "data_selct['Adress_Chemin'] = data_selct['Adresse_2_UA'].str.count('chemin') + data_selct['Adresse_2_UA'].str.count('ch') \n",
    "data_selct['Adress_Chemin'] = coding_binary(data_selct['Adress_Chemin'], {2:1, 3:1}) \n",
    "#Place ou pl\n",
    "data_selct['Adress_Place'] = data_selct['Adresse_2_UA'].str.count('place') + data_selct['Adresse_2_UA'].str.count('pl') \n",
    "data_selct['Adress_Place'] = coding_binary(data_selct['Adress_Place'], {2:1, 3:1}) \n",
    "#Boulevard ou bd\n",
    "data_selct['Adress_Boulevard'] = data_selct['Adresse_2_UA'].str.count('boulevard') + data_selct['Adresse_2_UA'].str.count('bd')\n",
    "data_selct['Adress_Boulevard'] = coding_binary(data_selct['Adress_Boulevard'], {2:1}) \n",
    "# Route ou r\n",
    "data_selct['Adress_Route'] = data_selct['Adresse_2_UA'].str.count('route') + data_selct['Adresse_2_UA'].str.count('r')\n",
    "data_selct['Adress_Route'] = coding_binary(data_selct['Adress_Route'], {2:1, 3:1, 4:1, 5:1, 6:1, 7:1, 8:1, 9:1}) \n",
    "#Quai\n",
    "data_selct['Adress_quai'] = data_selct['Adresse_2_UA'].str.count('quai')\n",
    "data_selct['Adress_quai'] = coding_binary(data_selct['Adress_quai'], {2:1, 3:1, 4:1}) "
   ]
  },
  {
   "cell_type": "code",
   "execution_count": 59,
   "id": "ce318fb8",
   "metadata": {},
   "outputs": [
    {
     "data": {
      "text/html": [
       "<div>\n",
       "<style scoped>\n",
       "    .dataframe tbody tr th:only-of-type {\n",
       "        vertical-align: middle;\n",
       "    }\n",
       "\n",
       "    .dataframe tbody tr th {\n",
       "        vertical-align: top;\n",
       "    }\n",
       "\n",
       "    .dataframe thead th {\n",
       "        text-align: right;\n",
       "    }\n",
       "</style>\n",
       "<table border=\"1\" class=\"dataframe\">\n",
       "  <thead>\n",
       "    <tr style=\"text-align: right;\">\n",
       "      <th></th>\n",
       "      <th>APP_Libelle_etablissement</th>\n",
       "      <th>Code_postal</th>\n",
       "      <th>Libelle_commune</th>\n",
       "      <th>Synthese_eval_sanit</th>\n",
       "      <th>filtre_activite</th>\n",
       "      <th>Latitude</th>\n",
       "      <th>Longitude</th>\n",
       "      <th>Adress_Rue</th>\n",
       "      <th>Adress_Avenue</th>\n",
       "      <th>Adress_Chemin</th>\n",
       "      <th>Adress_Place</th>\n",
       "      <th>Adress_Boulevard</th>\n",
       "      <th>Adress_Route</th>\n",
       "      <th>Adress_quai</th>\n",
       "    </tr>\n",
       "  </thead>\n",
       "  <tbody>\n",
       "    <tr>\n",
       "      <th>0</th>\n",
       "      <td>DE CERGY NEUVILLE (SYND MIXTE D'ETUDE AMENA GE...</td>\n",
       "      <td>95800</td>\n",
       "      <td>CERGY</td>\n",
       "      <td>Urgent_Améliorer</td>\n",
       "      <td>Autres</td>\n",
       "      <td>45.883682</td>\n",
       "      <td>1.814627</td>\n",
       "      <td>0</td>\n",
       "      <td>0</td>\n",
       "      <td>0</td>\n",
       "      <td>0</td>\n",
       "      <td>0</td>\n",
       "      <td>1</td>\n",
       "      <td>0</td>\n",
       "    </tr>\n",
       "  </tbody>\n",
       "</table>\n",
       "</div>"
      ],
      "text/plain": [
       "                           APP_Libelle_etablissement Code_postal  \\\n",
       "0  DE CERGY NEUVILLE (SYND MIXTE D'ETUDE AMENA GE...       95800   \n",
       "\n",
       "  Libelle_commune Synthese_eval_sanit filtre_activite   Latitude  Longitude  \\\n",
       "0           CERGY    Urgent_Améliorer          Autres  45.883682   1.814627   \n",
       "\n",
       "   Adress_Rue  Adress_Avenue  Adress_Chemin  Adress_Place  Adress_Boulevard  \\\n",
       "0           0              0              0             0                 0   \n",
       "\n",
       "   Adress_Route  Adress_quai  \n",
       "0             1            0  "
      ]
     },
     "execution_count": 59,
     "metadata": {},
     "output_type": "execute_result"
    }
   ],
   "source": [
    "data_selct.drop('Adresse_2_UA', axis = 1, inplace = True)\n",
    "data_selct.head(1)"
   ]
  },
  {
   "cell_type": "markdown",
   "id": "24b656da",
   "metadata": {},
   "source": [
    "## <font color=\"red\" id=\"section_8\" > 8. Exploration de données"
   ]
  },
  {
   "cell_type": "code",
   "execution_count": 60,
   "id": "356f14a3",
   "metadata": {},
   "outputs": [
    {
     "data": {
      "text/html": [
       "<div>\n",
       "<style scoped>\n",
       "    .dataframe tbody tr th:only-of-type {\n",
       "        vertical-align: middle;\n",
       "    }\n",
       "\n",
       "    .dataframe tbody tr th {\n",
       "        vertical-align: top;\n",
       "    }\n",
       "\n",
       "    .dataframe thead th {\n",
       "        text-align: right;\n",
       "    }\n",
       "</style>\n",
       "<table border=\"1\" class=\"dataframe\">\n",
       "  <thead>\n",
       "    <tr style=\"text-align: right;\">\n",
       "      <th></th>\n",
       "      <th>APP_Libelle_etablissement</th>\n",
       "      <th>Code_postal</th>\n",
       "      <th>Libelle_commune</th>\n",
       "      <th>Synthese_eval_sanit</th>\n",
       "      <th>filtre_activite</th>\n",
       "      <th>Latitude</th>\n",
       "      <th>Longitude</th>\n",
       "      <th>Adress_Rue</th>\n",
       "      <th>Adress_Avenue</th>\n",
       "      <th>Adress_Chemin</th>\n",
       "      <th>Adress_Place</th>\n",
       "      <th>Adress_Boulevard</th>\n",
       "      <th>Adress_Route</th>\n",
       "      <th>Adress_quai</th>\n",
       "    </tr>\n",
       "  </thead>\n",
       "  <tbody>\n",
       "    <tr>\n",
       "      <th>0</th>\n",
       "      <td>DE CERGY NEUVILLE (SYND MIXTE D'ETUDE AMENA GE...</td>\n",
       "      <td>95800</td>\n",
       "      <td>CERGY</td>\n",
       "      <td>Urgent_Améliorer</td>\n",
       "      <td>Autres</td>\n",
       "      <td>45.883682</td>\n",
       "      <td>1.814627</td>\n",
       "      <td>0</td>\n",
       "      <td>0</td>\n",
       "      <td>0</td>\n",
       "      <td>0</td>\n",
       "      <td>0</td>\n",
       "      <td>1</td>\n",
       "      <td>0</td>\n",
       "    </tr>\n",
       "    <tr>\n",
       "      <th>1</th>\n",
       "      <td>CODIPEX (CONSORTIUM EUROPE ECHANG COMMERC INTE...</td>\n",
       "      <td>92160</td>\n",
       "      <td>ANTONY</td>\n",
       "      <td>Très satisfaisant</td>\n",
       "      <td>Autres</td>\n",
       "      <td>48.732041</td>\n",
       "      <td>2.305533</td>\n",
       "      <td>0</td>\n",
       "      <td>1</td>\n",
       "      <td>0</td>\n",
       "      <td>0</td>\n",
       "      <td>0</td>\n",
       "      <td>1</td>\n",
       "      <td>0</td>\n",
       "    </tr>\n",
       "  </tbody>\n",
       "</table>\n",
       "</div>"
      ],
      "text/plain": [
       "                           APP_Libelle_etablissement Code_postal  \\\n",
       "0  DE CERGY NEUVILLE (SYND MIXTE D'ETUDE AMENA GE...       95800   \n",
       "1  CODIPEX (CONSORTIUM EUROPE ECHANG COMMERC INTE...       92160   \n",
       "\n",
       "  Libelle_commune Synthese_eval_sanit filtre_activite   Latitude  Longitude  \\\n",
       "0           CERGY    Urgent_Améliorer          Autres  45.883682   1.814627   \n",
       "1          ANTONY   Très satisfaisant          Autres  48.732041   2.305533   \n",
       "\n",
       "   Adress_Rue  Adress_Avenue  Adress_Chemin  Adress_Place  Adress_Boulevard  \\\n",
       "0           0              0              0             0                 0   \n",
       "1           0              1              0             0                 0   \n",
       "\n",
       "   Adress_Route  Adress_quai  \n",
       "0             1            0  \n",
       "1             1            0  "
      ]
     },
     "execution_count": 60,
     "metadata": {},
     "output_type": "execute_result"
    }
   ],
   "source": [
    "data_selct.head(2)"
   ]
  },
  {
   "cell_type": "markdown",
   "id": "cdcac622",
   "metadata": {},
   "source": [
    "### <font color=\"red\" id=\"section_8_1\" > 8.1 Synthese_eval_sanit & filtre_activite\n",
    "\n",
    "**Commentaire**: Dans cette partie nous allons analyser les données et les interpréter."
   ]
  },
  {
   "cell_type": "code",
   "execution_count": 61,
   "id": "a4ff1a2a",
   "metadata": {},
   "outputs": [
    {
     "name": "stdout",
     "output_type": "stream",
     "text": [
      "Le nombre de modalités de  Autres ,est :  2910\n",
      "------------------------------------------------------------\n",
      "Le nombre de modalités de  Produits de la mer et d'eau douce ,est :  1820\n",
      "------------------------------------------------------------\n",
      "Le nombre de modalités de  Lait et produits laitiers ,est :  1764\n",
      "------------------------------------------------------------\n",
      "Le nombre de modalités de  Abattoirs ,est :  1175\n",
      "------------------------------------------------------------\n",
      "Le nombre de modalités de  Viandes et produits carnés ,est :  2620\n",
      "------------------------------------------------------------\n",
      "Le nombre de modalités de  Transport et entreposage de denrées alimentaires ,est :  817\n",
      "------------------------------------------------------------\n",
      "Le nombre de modalités de  Œufs et ovoproduits ,est :  439\n",
      "------------------------------------------------------------\n",
      "Le nombre de modalités de Alimentation générale ,est :  212\n",
      "------------------------------------------------------------\n",
      "Le nombre de modalités de Restaurant ,est :  11692\n",
      "------------------------------------------------------------\n",
      "Le nombre de modalités de Boucherie-Charcuterie ,est :  1188\n",
      "------------------------------------------------------------\n",
      "Le nombre de modalités de Boulangerie-Pâtisserie ,est :  565\n",
      "------------------------------------------------------------\n",
      "Le nombre de modalités de Restauration collective ,est :  7041\n",
      "------------------------------------------------------------\n",
      "Le nombre de modalités de Producteur fermier ,est :  1575\n",
      "------------------------------------------------------------\n",
      "Le nombre de modalités de Libre service ,est :  359\n",
      "------------------------------------------------------------\n"
     ]
    }
   ],
   "source": [
    "for mod in data_selct.filtre_activite.unique():\n",
    "    print(\"Le nombre de modalités de\",mod,\",est : \",len((data_selct[data_selct[\"filtre_activite\"]==mod])))\n",
    "    print(\"-\"*60)"
   ]
  },
  {
   "cell_type": "code",
   "execution_count": 62,
   "id": "2bdb0ef8",
   "metadata": {},
   "outputs": [
    {
     "data": {
      "image/png": "[encoded data removed]",
      "text/plain": [
       "<Figure size 792x360 with 1 Axes>"
      ]
     },
     "metadata": {
      "needs_background": "light"
     },
     "output_type": "display_data"
    }
   ],
   "source": [
    "sns.countplot(data =data_selct, x = data_selct['filtre_activite'], \n",
    "            hue ='Synthese_eval_sanit', palette=\"crest\")\n",
    "plt.legend(loc ='best')\n",
    "plt.xticks(rotation = 90)\n",
    "plt.show()"
   ]
  },
  {
   "cell_type": "markdown",
   "id": "a6166727",
   "metadata": {},
   "source": [
    "# Commentaire : \n",
    "Les activités liées aux **restaurants** et **restauation collective** sont plus réparties sur l'ensemmble du jeu de données contrairement à **Libre service** et **alimentation** qui subissaient moins de contrôle sanitaire."
   ]
  },
  {
   "cell_type": "markdown",
   "id": "e9d3f146",
   "metadata": {},
   "source": [
    "### <font color=\"red\" id=\"section_8_2\" > 8.2 Synthese_eval_sanit & Adresse"
   ]
  },
  {
   "cell_type": "markdown",
   "id": "6b5c8864",
   "metadata": {},
   "source": [
    "##(à faire)"
   ]
  },
  {
   "cell_type": "code",
   "execution_count": null,
   "id": "f5b54737",
   "metadata": {},
   "outputs": [],
   "source": []
  },
  {
   "cell_type": "code",
   "execution_count": null,
   "id": "ada8efa1",
   "metadata": {},
   "outputs": [],
   "source": []
  }
 ],
 "metadata": {
  "kernelspec": {
   "display_name": "Python 3 (ipykernel)",
   "language": "python",
   "name": "python3"
  },
  "language_info": {
   "codemirror_mode": {
    "name": "ipython",
    "version": 3
   },
   "file_extension": ".py",
   "mimetype": "text/x-python",
   "name": "python",
   "nbconvert_exporter": "python",
   "pygments_lexer": "ipython3",
   "version": "3.9.12"
  }
 },
 "nbformat": 4,
 "nbformat_minor": 5
}
